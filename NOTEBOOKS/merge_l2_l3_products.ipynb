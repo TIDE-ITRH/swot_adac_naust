{
 "cells": [
  {
   "cell_type": "code",
   "execution_count": 1,
   "id": "eaeb31ed-8450-4253-8b29-f3bd6abe834c",
   "metadata": {},
   "outputs": [],
   "source": [
    "import xarray as xr\n",
    "import matplotlib.pyplot as plt\n",
    "from glob import glob\n",
    "import numpy as np\n",
    "\n",
    "import karin as ka\n",
    "\n",
    "import warnings\n",
    "warnings.filterwarnings(\"ignore\", message=\"invalid value encountered in cast\")"
   ]
  },
  {
   "cell_type": "code",
   "execution_count": 2,
   "id": "99869915-c85a-466a-9c59-d497ca512644",
   "metadata": {
    "scrolled": true
   },
   "outputs": [
    {
     "name": "stdout",
     "output_type": "stream",
     "text": [
      "474  no L2 file\n",
      "475  no L2 file\n",
      "/home/jupyter-mrayson/data/SWOT/l2_l3_combined/SWOT_L2L3_LR_SSH_476_021_browsebasin.nc\n",
      "2023-03-31T15:06:54.119582978\n"
     ]
    },
    {
     "name": "stderr",
     "output_type": "stream",
     "text": [
      "/tmp/ipykernel_2639729/3915517945.py:30: SerializationWarning: saving variable latitude with floating point data as an integer dtype without any _FillValue to use for NaNs\n",
      "  ds.to_netcdf(outfile)\n",
      "/tmp/ipykernel_2639729/3915517945.py:30: SerializationWarning: saving variable longitude with floating point data as an integer dtype without any _FillValue to use for NaNs\n",
      "  ds.to_netcdf(outfile)\n"
     ]
    },
    {
     "name": "stdout",
     "output_type": "stream",
     "text": [
      "477  no L2 file\n",
      "/home/jupyter-mrayson/data/SWOT/l2_l3_combined/SWOT_L2L3_LR_SSH_478_021_browsebasin.nc\n",
      "2023-04-02T14:48:09.714142739\n"
     ]
    },
    {
     "name": "stderr",
     "output_type": "stream",
     "text": [
      "/tmp/ipykernel_2639729/3915517945.py:30: SerializationWarning: saving variable latitude with floating point data as an integer dtype without any _FillValue to use for NaNs\n",
      "  ds.to_netcdf(outfile)\n",
      "/tmp/ipykernel_2639729/3915517945.py:30: SerializationWarning: saving variable longitude with floating point data as an integer dtype without any _FillValue to use for NaNs\n",
      "  ds.to_netcdf(outfile)\n"
     ]
    },
    {
     "name": "stdout",
     "output_type": "stream",
     "text": [
      "/home/jupyter-mrayson/data/SWOT/l2_l3_combined/SWOT_L2L3_LR_SSH_479_021_browsebasin.nc\n",
      "2023-04-03T14:38:47.464540293\n"
     ]
    },
    {
     "name": "stderr",
     "output_type": "stream",
     "text": [
      "/tmp/ipykernel_2639729/3915517945.py:30: SerializationWarning: saving variable latitude with floating point data as an integer dtype without any _FillValue to use for NaNs\n",
      "  ds.to_netcdf(outfile)\n",
      "/tmp/ipykernel_2639729/3915517945.py:30: SerializationWarning: saving variable longitude with floating point data as an integer dtype without any _FillValue to use for NaNs\n",
      "  ds.to_netcdf(outfile)\n"
     ]
    },
    {
     "name": "stdout",
     "output_type": "stream",
     "text": [
      "/home/jupyter-mrayson/data/SWOT/l2_l3_combined/SWOT_L2L3_LR_SSH_480_021_browsebasin.nc\n",
      "2023-04-04T14:29:25.181260305\n"
     ]
    },
    {
     "name": "stderr",
     "output_type": "stream",
     "text": [
      "/tmp/ipykernel_2639729/3915517945.py:30: SerializationWarning: saving variable latitude with floating point data as an integer dtype without any _FillValue to use for NaNs\n",
      "  ds.to_netcdf(outfile)\n",
      "/tmp/ipykernel_2639729/3915517945.py:30: SerializationWarning: saving variable longitude with floating point data as an integer dtype without any _FillValue to use for NaNs\n",
      "  ds.to_netcdf(outfile)\n"
     ]
    },
    {
     "name": "stdout",
     "output_type": "stream",
     "text": [
      "/home/jupyter-mrayson/data/SWOT/l2_l3_combined/SWOT_L2L3_LR_SSH_481_021_browsebasin.nc\n",
      "2023-04-05T14:20:02.865135337\n"
     ]
    },
    {
     "name": "stderr",
     "output_type": "stream",
     "text": [
      "/tmp/ipykernel_2639729/3915517945.py:30: SerializationWarning: saving variable latitude with floating point data as an integer dtype without any _FillValue to use for NaNs\n",
      "  ds.to_netcdf(outfile)\n",
      "/tmp/ipykernel_2639729/3915517945.py:30: SerializationWarning: saving variable longitude with floating point data as an integer dtype without any _FillValue to use for NaNs\n",
      "  ds.to_netcdf(outfile)\n"
     ]
    },
    {
     "name": "stdout",
     "output_type": "stream",
     "text": [
      "/home/jupyter-mrayson/data/SWOT/l2_l3_combined/SWOT_L2L3_LR_SSH_482_021_browsebasin.nc\n",
      "2023-04-06T14:10:40.985999520\n"
     ]
    },
    {
     "name": "stderr",
     "output_type": "stream",
     "text": [
      "/tmp/ipykernel_2639729/3915517945.py:30: SerializationWarning: saving variable latitude with floating point data as an integer dtype without any _FillValue to use for NaNs\n",
      "  ds.to_netcdf(outfile)\n",
      "/tmp/ipykernel_2639729/3915517945.py:30: SerializationWarning: saving variable longitude with floating point data as an integer dtype without any _FillValue to use for NaNs\n",
      "  ds.to_netcdf(outfile)\n"
     ]
    },
    {
     "name": "stdout",
     "output_type": "stream",
     "text": [
      "/home/jupyter-mrayson/data/SWOT/l2_l3_combined/SWOT_L2L3_LR_SSH_483_021_browsebasin.nc\n",
      "2023-04-07T14:01:19.198557777\n"
     ]
    },
    {
     "name": "stderr",
     "output_type": "stream",
     "text": [
      "/tmp/ipykernel_2639729/3915517945.py:30: SerializationWarning: saving variable latitude with floating point data as an integer dtype without any _FillValue to use for NaNs\n",
      "  ds.to_netcdf(outfile)\n",
      "/tmp/ipykernel_2639729/3915517945.py:30: SerializationWarning: saving variable longitude with floating point data as an integer dtype without any _FillValue to use for NaNs\n",
      "  ds.to_netcdf(outfile)\n"
     ]
    },
    {
     "name": "stdout",
     "output_type": "stream",
     "text": [
      "/home/jupyter-mrayson/data/SWOT/l2_l3_combined/SWOT_L2L3_LR_SSH_484_021_browsebasin.nc\n",
      "2023-04-08T13:51:57.375819934\n"
     ]
    },
    {
     "name": "stderr",
     "output_type": "stream",
     "text": [
      "/tmp/ipykernel_2639729/3915517945.py:30: SerializationWarning: saving variable latitude with floating point data as an integer dtype without any _FillValue to use for NaNs\n",
      "  ds.to_netcdf(outfile)\n",
      "/tmp/ipykernel_2639729/3915517945.py:30: SerializationWarning: saving variable longitude with floating point data as an integer dtype without any _FillValue to use for NaNs\n",
      "  ds.to_netcdf(outfile)\n"
     ]
    },
    {
     "name": "stdout",
     "output_type": "stream",
     "text": [
      "/home/jupyter-mrayson/data/SWOT/l2_l3_combined/SWOT_L2L3_LR_SSH_485_021_browsebasin.nc\n",
      "2023-04-09T13:42:35.518230491\n"
     ]
    },
    {
     "name": "stderr",
     "output_type": "stream",
     "text": [
      "/tmp/ipykernel_2639729/3915517945.py:30: SerializationWarning: saving variable latitude with floating point data as an integer dtype without any _FillValue to use for NaNs\n",
      "  ds.to_netcdf(outfile)\n",
      "/tmp/ipykernel_2639729/3915517945.py:30: SerializationWarning: saving variable longitude with floating point data as an integer dtype without any _FillValue to use for NaNs\n",
      "  ds.to_netcdf(outfile)\n"
     ]
    },
    {
     "name": "stdout",
     "output_type": "stream",
     "text": [
      "/home/jupyter-mrayson/data/SWOT/l2_l3_combined/SWOT_L2L3_LR_SSH_486_021_browsebasin.nc\n",
      "2023-04-10T13:33:13.627604672\n"
     ]
    },
    {
     "name": "stderr",
     "output_type": "stream",
     "text": [
      "/tmp/ipykernel_2639729/3915517945.py:30: SerializationWarning: saving variable latitude with floating point data as an integer dtype without any _FillValue to use for NaNs\n",
      "  ds.to_netcdf(outfile)\n",
      "/tmp/ipykernel_2639729/3915517945.py:30: SerializationWarning: saving variable longitude with floating point data as an integer dtype without any _FillValue to use for NaNs\n",
      "  ds.to_netcdf(outfile)\n"
     ]
    },
    {
     "name": "stdout",
     "output_type": "stream",
     "text": [
      "/home/jupyter-mrayson/data/SWOT/l2_l3_combined/SWOT_L2L3_LR_SSH_487_021_browsebasin.nc\n",
      "2023-04-11T13:23:51.701218718\n"
     ]
    },
    {
     "name": "stderr",
     "output_type": "stream",
     "text": [
      "/tmp/ipykernel_2639729/3915517945.py:30: SerializationWarning: saving variable latitude with floating point data as an integer dtype without any _FillValue to use for NaNs\n",
      "  ds.to_netcdf(outfile)\n",
      "/tmp/ipykernel_2639729/3915517945.py:30: SerializationWarning: saving variable longitude with floating point data as an integer dtype without any _FillValue to use for NaNs\n",
      "  ds.to_netcdf(outfile)\n"
     ]
    },
    {
     "name": "stdout",
     "output_type": "stream",
     "text": [
      "/home/jupyter-mrayson/data/SWOT/l2_l3_combined/SWOT_L2L3_LR_SSH_488_021_browsebasin.nc\n",
      "2023-04-12T13:14:29.745833365\n"
     ]
    },
    {
     "name": "stderr",
     "output_type": "stream",
     "text": [
      "/tmp/ipykernel_2639729/3915517945.py:30: SerializationWarning: saving variable latitude with floating point data as an integer dtype without any _FillValue to use for NaNs\n",
      "  ds.to_netcdf(outfile)\n",
      "/tmp/ipykernel_2639729/3915517945.py:30: SerializationWarning: saving variable longitude with floating point data as an integer dtype without any _FillValue to use for NaNs\n",
      "  ds.to_netcdf(outfile)\n"
     ]
    },
    {
     "name": "stdout",
     "output_type": "stream",
     "text": [
      "/home/jupyter-mrayson/data/SWOT/l2_l3_combined/SWOT_L2L3_LR_SSH_489_021_browsebasin.nc\n",
      "2023-04-13T13:05:07.761439549\n"
     ]
    },
    {
     "name": "stderr",
     "output_type": "stream",
     "text": [
      "/tmp/ipykernel_2639729/3915517945.py:30: SerializationWarning: saving variable latitude with floating point data as an integer dtype without any _FillValue to use for NaNs\n",
      "  ds.to_netcdf(outfile)\n",
      "/tmp/ipykernel_2639729/3915517945.py:30: SerializationWarning: saving variable longitude with floating point data as an integer dtype without any _FillValue to use for NaNs\n",
      "  ds.to_netcdf(outfile)\n"
     ]
    },
    {
     "name": "stdout",
     "output_type": "stream",
     "text": [
      "/home/jupyter-mrayson/data/SWOT/l2_l3_combined/SWOT_L2L3_LR_SSH_490_021_browsebasin.nc\n",
      "2023-04-14T12:55:45.752112839\n"
     ]
    },
    {
     "name": "stderr",
     "output_type": "stream",
     "text": [
      "/tmp/ipykernel_2639729/3915517945.py:30: SerializationWarning: saving variable latitude with floating point data as an integer dtype without any _FillValue to use for NaNs\n",
      "  ds.to_netcdf(outfile)\n",
      "/tmp/ipykernel_2639729/3915517945.py:30: SerializationWarning: saving variable longitude with floating point data as an integer dtype without any _FillValue to use for NaNs\n",
      "  ds.to_netcdf(outfile)\n"
     ]
    },
    {
     "name": "stdout",
     "output_type": "stream",
     "text": [
      "/home/jupyter-mrayson/data/SWOT/l2_l3_combined/SWOT_L2L3_LR_SSH_491_021_browsebasin.nc\n",
      "2023-04-15T12:46:23.712599018\n"
     ]
    },
    {
     "name": "stderr",
     "output_type": "stream",
     "text": [
      "/tmp/ipykernel_2639729/3915517945.py:30: SerializationWarning: saving variable latitude with floating point data as an integer dtype without any _FillValue to use for NaNs\n",
      "  ds.to_netcdf(outfile)\n",
      "/tmp/ipykernel_2639729/3915517945.py:30: SerializationWarning: saving variable longitude with floating point data as an integer dtype without any _FillValue to use for NaNs\n",
      "  ds.to_netcdf(outfile)\n"
     ]
    },
    {
     "name": "stdout",
     "output_type": "stream",
     "text": [
      "/home/jupyter-mrayson/data/SWOT/l2_l3_combined/SWOT_L2L3_LR_SSH_492_021_browsebasin.nc\n",
      "2023-04-16T12:37:01.641344217\n"
     ]
    },
    {
     "name": "stderr",
     "output_type": "stream",
     "text": [
      "/tmp/ipykernel_2639729/3915517945.py:30: SerializationWarning: saving variable latitude with floating point data as an integer dtype without any _FillValue to use for NaNs\n",
      "  ds.to_netcdf(outfile)\n",
      "/tmp/ipykernel_2639729/3915517945.py:30: SerializationWarning: saving variable longitude with floating point data as an integer dtype without any _FillValue to use for NaNs\n",
      "  ds.to_netcdf(outfile)\n"
     ]
    },
    {
     "name": "stdout",
     "output_type": "stream",
     "text": [
      "/home/jupyter-mrayson/data/SWOT/l2_l3_combined/SWOT_L2L3_LR_SSH_493_021_browsebasin.nc\n",
      "2023-04-17T12:27:39.534704487\n"
     ]
    },
    {
     "name": "stderr",
     "output_type": "stream",
     "text": [
      "/tmp/ipykernel_2639729/3915517945.py:30: SerializationWarning: saving variable latitude with floating point data as an integer dtype without any _FillValue to use for NaNs\n",
      "  ds.to_netcdf(outfile)\n",
      "/tmp/ipykernel_2639729/3915517945.py:30: SerializationWarning: saving variable longitude with floating point data as an integer dtype without any _FillValue to use for NaNs\n",
      "  ds.to_netcdf(outfile)\n"
     ]
    },
    {
     "name": "stdout",
     "output_type": "stream",
     "text": [
      "/home/jupyter-mrayson/data/SWOT/l2_l3_combined/SWOT_L2L3_LR_SSH_494_021_browsebasin.nc\n",
      "2023-04-18T12:18:17.388072805\n"
     ]
    },
    {
     "name": "stderr",
     "output_type": "stream",
     "text": [
      "/tmp/ipykernel_2639729/3915517945.py:30: SerializationWarning: saving variable latitude with floating point data as an integer dtype without any _FillValue to use for NaNs\n",
      "  ds.to_netcdf(outfile)\n",
      "/tmp/ipykernel_2639729/3915517945.py:30: SerializationWarning: saving variable longitude with floating point data as an integer dtype without any _FillValue to use for NaNs\n",
      "  ds.to_netcdf(outfile)\n"
     ]
    },
    {
     "name": "stdout",
     "output_type": "stream",
     "text": [
      "/home/jupyter-mrayson/data/SWOT/l2_l3_combined/SWOT_L2L3_LR_SSH_495_021_browsebasin.nc\n",
      "2023-04-19T12:08:55.202048944\n"
     ]
    },
    {
     "name": "stderr",
     "output_type": "stream",
     "text": [
      "/tmp/ipykernel_2639729/3915517945.py:30: SerializationWarning: saving variable latitude with floating point data as an integer dtype without any _FillValue to use for NaNs\n",
      "  ds.to_netcdf(outfile)\n",
      "/tmp/ipykernel_2639729/3915517945.py:30: SerializationWarning: saving variable longitude with floating point data as an integer dtype without any _FillValue to use for NaNs\n",
      "  ds.to_netcdf(outfile)\n"
     ]
    },
    {
     "name": "stdout",
     "output_type": "stream",
     "text": [
      "/home/jupyter-mrayson/data/SWOT/l2_l3_combined/SWOT_L2L3_LR_SSH_496_021_browsebasin.nc\n",
      "2023-04-20T11:59:32.976480195\n"
     ]
    },
    {
     "name": "stderr",
     "output_type": "stream",
     "text": [
      "/tmp/ipykernel_2639729/3915517945.py:30: SerializationWarning: saving variable latitude with floating point data as an integer dtype without any _FillValue to use for NaNs\n",
      "  ds.to_netcdf(outfile)\n",
      "/tmp/ipykernel_2639729/3915517945.py:30: SerializationWarning: saving variable longitude with floating point data as an integer dtype without any _FillValue to use for NaNs\n",
      "  ds.to_netcdf(outfile)\n"
     ]
    },
    {
     "name": "stdout",
     "output_type": "stream",
     "text": [
      "/home/jupyter-mrayson/data/SWOT/l2_l3_combined/SWOT_L2L3_LR_SSH_497_021_browsebasin.nc\n",
      "2023-04-21T11:50:10.715677952\n"
     ]
    },
    {
     "name": "stderr",
     "output_type": "stream",
     "text": [
      "/tmp/ipykernel_2639729/3915517945.py:30: SerializationWarning: saving variable latitude with floating point data as an integer dtype without any _FillValue to use for NaNs\n",
      "  ds.to_netcdf(outfile)\n",
      "/tmp/ipykernel_2639729/3915517945.py:30: SerializationWarning: saving variable longitude with floating point data as an integer dtype without any _FillValue to use for NaNs\n",
      "  ds.to_netcdf(outfile)\n"
     ]
    },
    {
     "name": "stdout",
     "output_type": "stream",
     "text": [
      "/home/jupyter-mrayson/data/SWOT/l2_l3_combined/SWOT_L2L3_LR_SSH_498_021_browsebasin.nc\n",
      "2023-04-22T11:40:48.623658089\n"
     ]
    },
    {
     "name": "stderr",
     "output_type": "stream",
     "text": [
      "/tmp/ipykernel_2639729/3915517945.py:30: SerializationWarning: saving variable latitude with floating point data as an integer dtype without any _FillValue to use for NaNs\n",
      "  ds.to_netcdf(outfile)\n",
      "/tmp/ipykernel_2639729/3915517945.py:30: SerializationWarning: saving variable longitude with floating point data as an integer dtype without any _FillValue to use for NaNs\n",
      "  ds.to_netcdf(outfile)\n"
     ]
    },
    {
     "name": "stdout",
     "output_type": "stream",
     "text": [
      "/home/jupyter-mrayson/data/SWOT/l2_l3_combined/SWOT_L2L3_LR_SSH_499_021_browsebasin.nc\n",
      "2023-04-23T11:31:26.613770619\n"
     ]
    },
    {
     "name": "stderr",
     "output_type": "stream",
     "text": [
      "/tmp/ipykernel_2639729/3915517945.py:30: SerializationWarning: saving variable latitude with floating point data as an integer dtype without any _FillValue to use for NaNs\n",
      "  ds.to_netcdf(outfile)\n",
      "/tmp/ipykernel_2639729/3915517945.py:30: SerializationWarning: saving variable longitude with floating point data as an integer dtype without any _FillValue to use for NaNs\n",
      "  ds.to_netcdf(outfile)\n"
     ]
    },
    {
     "name": "stdout",
     "output_type": "stream",
     "text": [
      "/home/jupyter-mrayson/data/SWOT/l2_l3_combined/SWOT_L2L3_LR_SSH_500_021_browsebasin.nc\n",
      "2023-04-24T11:22:04.571126123\n"
     ]
    },
    {
     "name": "stderr",
     "output_type": "stream",
     "text": [
      "/tmp/ipykernel_2639729/3915517945.py:30: SerializationWarning: saving variable latitude with floating point data as an integer dtype without any _FillValue to use for NaNs\n",
      "  ds.to_netcdf(outfile)\n",
      "/tmp/ipykernel_2639729/3915517945.py:30: SerializationWarning: saving variable longitude with floating point data as an integer dtype without any _FillValue to use for NaNs\n",
      "  ds.to_netcdf(outfile)\n"
     ]
    },
    {
     "name": "stdout",
     "output_type": "stream",
     "text": [
      "/home/jupyter-mrayson/data/SWOT/l2_l3_combined/SWOT_L2L3_LR_SSH_501_021_browsebasin.nc\n",
      "2023-04-25T11:12:42.486809340\n"
     ]
    },
    {
     "name": "stderr",
     "output_type": "stream",
     "text": [
      "/tmp/ipykernel_2639729/3915517945.py:30: SerializationWarning: saving variable latitude with floating point data as an integer dtype without any _FillValue to use for NaNs\n",
      "  ds.to_netcdf(outfile)\n",
      "/tmp/ipykernel_2639729/3915517945.py:30: SerializationWarning: saving variable longitude with floating point data as an integer dtype without any _FillValue to use for NaNs\n",
      "  ds.to_netcdf(outfile)\n"
     ]
    },
    {
     "name": "stdout",
     "output_type": "stream",
     "text": [
      "/home/jupyter-mrayson/data/SWOT/l2_l3_combined/SWOT_L2L3_LR_SSH_502_021_browsebasin.nc\n",
      "2023-04-26T11:03:20.379613759\n"
     ]
    },
    {
     "name": "stderr",
     "output_type": "stream",
     "text": [
      "/tmp/ipykernel_2639729/3915517945.py:30: SerializationWarning: saving variable latitude with floating point data as an integer dtype without any _FillValue to use for NaNs\n",
      "  ds.to_netcdf(outfile)\n",
      "/tmp/ipykernel_2639729/3915517945.py:30: SerializationWarning: saving variable longitude with floating point data as an integer dtype without any _FillValue to use for NaNs\n",
      "  ds.to_netcdf(outfile)\n"
     ]
    },
    {
     "name": "stdout",
     "output_type": "stream",
     "text": [
      "/home/jupyter-mrayson/data/SWOT/l2_l3_combined/SWOT_L2L3_LR_SSH_503_021_browsebasin.nc\n",
      "2023-04-27T10:53:58.250676235\n"
     ]
    },
    {
     "name": "stderr",
     "output_type": "stream",
     "text": [
      "/tmp/ipykernel_2639729/3915517945.py:30: SerializationWarning: saving variable latitude with floating point data as an integer dtype without any _FillValue to use for NaNs\n",
      "  ds.to_netcdf(outfile)\n",
      "/tmp/ipykernel_2639729/3915517945.py:30: SerializationWarning: saving variable longitude with floating point data as an integer dtype without any _FillValue to use for NaNs\n",
      "  ds.to_netcdf(outfile)\n"
     ]
    },
    {
     "name": "stdout",
     "output_type": "stream",
     "text": [
      "/home/jupyter-mrayson/data/SWOT/l2_l3_combined/SWOT_L2L3_LR_SSH_504_021_browsebasin.nc\n",
      "2023-04-28T10:44:36.092963959\n"
     ]
    },
    {
     "name": "stderr",
     "output_type": "stream",
     "text": [
      "/tmp/ipykernel_2639729/3915517945.py:30: SerializationWarning: saving variable latitude with floating point data as an integer dtype without any _FillValue to use for NaNs\n",
      "  ds.to_netcdf(outfile)\n",
      "/tmp/ipykernel_2639729/3915517945.py:30: SerializationWarning: saving variable longitude with floating point data as an integer dtype without any _FillValue to use for NaNs\n",
      "  ds.to_netcdf(outfile)\n"
     ]
    },
    {
     "name": "stdout",
     "output_type": "stream",
     "text": [
      "/home/jupyter-mrayson/data/SWOT/l2_l3_combined/SWOT_L2L3_LR_SSH_505_021_browsebasin.nc\n",
      "2023-04-29T10:35:13.908146290\n"
     ]
    },
    {
     "name": "stderr",
     "output_type": "stream",
     "text": [
      "/tmp/ipykernel_2639729/3915517945.py:30: SerializationWarning: saving variable latitude with floating point data as an integer dtype without any _FillValue to use for NaNs\n",
      "  ds.to_netcdf(outfile)\n",
      "/tmp/ipykernel_2639729/3915517945.py:30: SerializationWarning: saving variable longitude with floating point data as an integer dtype without any _FillValue to use for NaNs\n",
      "  ds.to_netcdf(outfile)\n"
     ]
    },
    {
     "name": "stdout",
     "output_type": "stream",
     "text": [
      "/home/jupyter-mrayson/data/SWOT/l2_l3_combined/SWOT_L2L3_LR_SSH_506_021_browsebasin.nc\n",
      "2023-04-30T10:25:51.696323339\n"
     ]
    },
    {
     "name": "stderr",
     "output_type": "stream",
     "text": [
      "/tmp/ipykernel_2639729/3915517945.py:30: SerializationWarning: saving variable latitude with floating point data as an integer dtype without any _FillValue to use for NaNs\n",
      "  ds.to_netcdf(outfile)\n",
      "/tmp/ipykernel_2639729/3915517945.py:30: SerializationWarning: saving variable longitude with floating point data as an integer dtype without any _FillValue to use for NaNs\n",
      "  ds.to_netcdf(outfile)\n"
     ]
    },
    {
     "name": "stdout",
     "output_type": "stream",
     "text": [
      "/home/jupyter-mrayson/data/SWOT/l2_l3_combined/SWOT_L2L3_LR_SSH_507_021_browsebasin.nc\n",
      "2023-05-01T10:16:29.454962598\n"
     ]
    },
    {
     "name": "stderr",
     "output_type": "stream",
     "text": [
      "/tmp/ipykernel_2639729/3915517945.py:30: SerializationWarning: saving variable latitude with floating point data as an integer dtype without any _FillValue to use for NaNs\n",
      "  ds.to_netcdf(outfile)\n",
      "/tmp/ipykernel_2639729/3915517945.py:30: SerializationWarning: saving variable longitude with floating point data as an integer dtype without any _FillValue to use for NaNs\n",
      "  ds.to_netcdf(outfile)\n"
     ]
    },
    {
     "name": "stdout",
     "output_type": "stream",
     "text": [
      "/home/jupyter-mrayson/data/SWOT/l2_l3_combined/SWOT_L2L3_LR_SSH_508_021_browsebasin.nc\n",
      "2023-05-02T10:07:07.182533042\n"
     ]
    },
    {
     "name": "stderr",
     "output_type": "stream",
     "text": [
      "/tmp/ipykernel_2639729/3915517945.py:30: SerializationWarning: saving variable latitude with floating point data as an integer dtype without any _FillValue to use for NaNs\n",
      "  ds.to_netcdf(outfile)\n",
      "/tmp/ipykernel_2639729/3915517945.py:30: SerializationWarning: saving variable longitude with floating point data as an integer dtype without any _FillValue to use for NaNs\n",
      "  ds.to_netcdf(outfile)\n"
     ]
    },
    {
     "name": "stdout",
     "output_type": "stream",
     "text": [
      "/home/jupyter-mrayson/data/SWOT/l2_l3_combined/SWOT_L2L3_LR_SSH_509_021_browsebasin.nc\n",
      "2023-05-03T09:57:44.877050246\n"
     ]
    },
    {
     "name": "stderr",
     "output_type": "stream",
     "text": [
      "/tmp/ipykernel_2639729/3915517945.py:30: SerializationWarning: saving variable latitude with floating point data as an integer dtype without any _FillValue to use for NaNs\n",
      "  ds.to_netcdf(outfile)\n",
      "/tmp/ipykernel_2639729/3915517945.py:30: SerializationWarning: saving variable longitude with floating point data as an integer dtype without any _FillValue to use for NaNs\n",
      "  ds.to_netcdf(outfile)\n"
     ]
    },
    {
     "name": "stdout",
     "output_type": "stream",
     "text": [
      "/home/jupyter-mrayson/data/SWOT/l2_l3_combined/SWOT_L2L3_LR_SSH_510_021_browsebasin.nc\n",
      "2023-05-04T09:48:22.539738492\n"
     ]
    },
    {
     "name": "stderr",
     "output_type": "stream",
     "text": [
      "/tmp/ipykernel_2639729/3915517945.py:30: SerializationWarning: saving variable latitude with floating point data as an integer dtype without any _FillValue to use for NaNs\n",
      "  ds.to_netcdf(outfile)\n",
      "/tmp/ipykernel_2639729/3915517945.py:30: SerializationWarning: saving variable longitude with floating point data as an integer dtype without any _FillValue to use for NaNs\n",
      "  ds.to_netcdf(outfile)\n"
     ]
    },
    {
     "name": "stdout",
     "output_type": "stream",
     "text": [
      "/home/jupyter-mrayson/data/SWOT/l2_l3_combined/SWOT_L2L3_LR_SSH_511_021_browsebasin.nc\n",
      "2023-05-05T09:39:00.169103079\n"
     ]
    },
    {
     "name": "stderr",
     "output_type": "stream",
     "text": [
      "/tmp/ipykernel_2639729/3915517945.py:30: SerializationWarning: saving variable latitude with floating point data as an integer dtype without any _FillValue to use for NaNs\n",
      "  ds.to_netcdf(outfile)\n",
      "/tmp/ipykernel_2639729/3915517945.py:30: SerializationWarning: saving variable longitude with floating point data as an integer dtype without any _FillValue to use for NaNs\n",
      "  ds.to_netcdf(outfile)\n"
     ]
    },
    {
     "name": "stdout",
     "output_type": "stream",
     "text": [
      "/home/jupyter-mrayson/data/SWOT/l2_l3_combined/SWOT_L2L3_LR_SSH_512_021_browsebasin.nc\n",
      "2023-05-06T09:29:37.936391935\n"
     ]
    },
    {
     "name": "stderr",
     "output_type": "stream",
     "text": [
      "/tmp/ipykernel_2639729/3915517945.py:30: SerializationWarning: saving variable latitude with floating point data as an integer dtype without any _FillValue to use for NaNs\n",
      "  ds.to_netcdf(outfile)\n",
      "/tmp/ipykernel_2639729/3915517945.py:30: SerializationWarning: saving variable longitude with floating point data as an integer dtype without any _FillValue to use for NaNs\n",
      "  ds.to_netcdf(outfile)\n"
     ]
    },
    {
     "name": "stdout",
     "output_type": "stream",
     "text": [
      "/home/jupyter-mrayson/data/SWOT/l2_l3_combined/SWOT_L2L3_LR_SSH_513_021_browsebasin.nc\n",
      "2023-05-07T09:20:15.797251161\n"
     ]
    },
    {
     "name": "stderr",
     "output_type": "stream",
     "text": [
      "/tmp/ipykernel_2639729/3915517945.py:30: SerializationWarning: saving variable latitude with floating point data as an integer dtype without any _FillValue to use for NaNs\n",
      "  ds.to_netcdf(outfile)\n",
      "/tmp/ipykernel_2639729/3915517945.py:30: SerializationWarning: saving variable longitude with floating point data as an integer dtype without any _FillValue to use for NaNs\n",
      "  ds.to_netcdf(outfile)\n"
     ]
    },
    {
     "name": "stdout",
     "output_type": "stream",
     "text": [
      "/home/jupyter-mrayson/data/SWOT/l2_l3_combined/SWOT_L2L3_LR_SSH_514_021_browsebasin.nc\n",
      "2023-05-08T09:10:53.631111760\n"
     ]
    },
    {
     "name": "stderr",
     "output_type": "stream",
     "text": [
      "/tmp/ipykernel_2639729/3915517945.py:30: SerializationWarning: saving variable latitude with floating point data as an integer dtype without any _FillValue to use for NaNs\n",
      "  ds.to_netcdf(outfile)\n",
      "/tmp/ipykernel_2639729/3915517945.py:30: SerializationWarning: saving variable longitude with floating point data as an integer dtype without any _FillValue to use for NaNs\n",
      "  ds.to_netcdf(outfile)\n"
     ]
    },
    {
     "name": "stdout",
     "output_type": "stream",
     "text": [
      "/home/jupyter-mrayson/data/SWOT/l2_l3_combined/SWOT_L2L3_LR_SSH_515_021_browsebasin.nc\n",
      "2023-05-09T09:01:31.439389747\n"
     ]
    },
    {
     "name": "stderr",
     "output_type": "stream",
     "text": [
      "/tmp/ipykernel_2639729/3915517945.py:30: SerializationWarning: saving variable latitude with floating point data as an integer dtype without any _FillValue to use for NaNs\n",
      "  ds.to_netcdf(outfile)\n",
      "/tmp/ipykernel_2639729/3915517945.py:30: SerializationWarning: saving variable longitude with floating point data as an integer dtype without any _FillValue to use for NaNs\n",
      "  ds.to_netcdf(outfile)\n"
     ]
    },
    {
     "name": "stdout",
     "output_type": "stream",
     "text": [
      "/home/jupyter-mrayson/data/SWOT/l2_l3_combined/SWOT_L2L3_LR_SSH_516_021_browsebasin.nc\n",
      "2023-05-10T08:52:09.221043270\n"
     ]
    },
    {
     "name": "stderr",
     "output_type": "stream",
     "text": [
      "/tmp/ipykernel_2639729/3915517945.py:30: SerializationWarning: saving variable latitude with floating point data as an integer dtype without any _FillValue to use for NaNs\n",
      "  ds.to_netcdf(outfile)\n",
      "/tmp/ipykernel_2639729/3915517945.py:30: SerializationWarning: saving variable longitude with floating point data as an integer dtype without any _FillValue to use for NaNs\n",
      "  ds.to_netcdf(outfile)\n"
     ]
    },
    {
     "name": "stdout",
     "output_type": "stream",
     "text": [
      "/home/jupyter-mrayson/data/SWOT/l2_l3_combined/SWOT_L2L3_LR_SSH_517_021_browsebasin.nc\n",
      "2023-05-11T08:42:46.970920949\n"
     ]
    },
    {
     "name": "stderr",
     "output_type": "stream",
     "text": [
      "/tmp/ipykernel_2639729/3915517945.py:30: SerializationWarning: saving variable latitude with floating point data as an integer dtype without any _FillValue to use for NaNs\n",
      "  ds.to_netcdf(outfile)\n",
      "/tmp/ipykernel_2639729/3915517945.py:30: SerializationWarning: saving variable longitude with floating point data as an integer dtype without any _FillValue to use for NaNs\n",
      "  ds.to_netcdf(outfile)\n"
     ]
    },
    {
     "name": "stdout",
     "output_type": "stream",
     "text": [
      "/home/jupyter-mrayson/data/SWOT/l2_l3_combined/SWOT_L2L3_LR_SSH_518_021_browsebasin.nc\n",
      "2023-05-12T08:33:24.691439839\n"
     ]
    },
    {
     "name": "stderr",
     "output_type": "stream",
     "text": [
      "/tmp/ipykernel_2639729/3915517945.py:30: SerializationWarning: saving variable latitude with floating point data as an integer dtype without any _FillValue to use for NaNs\n",
      "  ds.to_netcdf(outfile)\n",
      "/tmp/ipykernel_2639729/3915517945.py:30: SerializationWarning: saving variable longitude with floating point data as an integer dtype without any _FillValue to use for NaNs\n",
      "  ds.to_netcdf(outfile)\n"
     ]
    },
    {
     "name": "stdout",
     "output_type": "stream",
     "text": [
      "/home/jupyter-mrayson/data/SWOT/l2_l3_combined/SWOT_L2L3_LR_SSH_519_021_browsebasin.nc\n",
      "2023-05-13T08:24:02.375167245\n"
     ]
    },
    {
     "name": "stderr",
     "output_type": "stream",
     "text": [
      "/tmp/ipykernel_2639729/3915517945.py:30: SerializationWarning: saving variable latitude with floating point data as an integer dtype without any _FillValue to use for NaNs\n",
      "  ds.to_netcdf(outfile)\n",
      "/tmp/ipykernel_2639729/3915517945.py:30: SerializationWarning: saving variable longitude with floating point data as an integer dtype without any _FillValue to use for NaNs\n",
      "  ds.to_netcdf(outfile)\n"
     ]
    },
    {
     "name": "stdout",
     "output_type": "stream",
     "text": [
      "/home/jupyter-mrayson/data/SWOT/l2_l3_combined/SWOT_L2L3_LR_SSH_520_021_browsebasin.nc\n",
      "2023-05-14T08:14:39.971911756\n"
     ]
    },
    {
     "name": "stderr",
     "output_type": "stream",
     "text": [
      "/tmp/ipykernel_2639729/3915517945.py:30: SerializationWarning: saving variable latitude with floating point data as an integer dtype without any _FillValue to use for NaNs\n",
      "  ds.to_netcdf(outfile)\n",
      "/tmp/ipykernel_2639729/3915517945.py:30: SerializationWarning: saving variable longitude with floating point data as an integer dtype without any _FillValue to use for NaNs\n",
      "  ds.to_netcdf(outfile)\n"
     ]
    },
    {
     "name": "stdout",
     "output_type": "stream",
     "text": [
      "/home/jupyter-mrayson/data/SWOT/l2_l3_combined/SWOT_L2L3_LR_SSH_521_021_browsebasin.nc\n",
      "2023-05-15T08:05:17.588784302\n"
     ]
    },
    {
     "name": "stderr",
     "output_type": "stream",
     "text": [
      "/tmp/ipykernel_2639729/3915517945.py:30: SerializationWarning: saving variable latitude with floating point data as an integer dtype without any _FillValue to use for NaNs\n",
      "  ds.to_netcdf(outfile)\n",
      "/tmp/ipykernel_2639729/3915517945.py:30: SerializationWarning: saving variable longitude with floating point data as an integer dtype without any _FillValue to use for NaNs\n",
      "  ds.to_netcdf(outfile)\n"
     ]
    },
    {
     "name": "stdout",
     "output_type": "stream",
     "text": [
      "/home/jupyter-mrayson/data/SWOT/l2_l3_combined/SWOT_L2L3_LR_SSH_522_021_browsebasin.nc\n",
      "2023-05-16T07:55:55.172560106\n"
     ]
    },
    {
     "name": "stderr",
     "output_type": "stream",
     "text": [
      "/tmp/ipykernel_2639729/3915517945.py:30: SerializationWarning: saving variable latitude with floating point data as an integer dtype without any _FillValue to use for NaNs\n",
      "  ds.to_netcdf(outfile)\n",
      "/tmp/ipykernel_2639729/3915517945.py:30: SerializationWarning: saving variable longitude with floating point data as an integer dtype without any _FillValue to use for NaNs\n",
      "  ds.to_netcdf(outfile)\n"
     ]
    },
    {
     "name": "stdout",
     "output_type": "stream",
     "text": [
      "/home/jupyter-mrayson/data/SWOT/l2_l3_combined/SWOT_L2L3_LR_SSH_523_021_browsebasin.nc\n",
      "2023-05-17T07:46:32.728426865\n"
     ]
    },
    {
     "name": "stderr",
     "output_type": "stream",
     "text": [
      "/tmp/ipykernel_2639729/3915517945.py:30: SerializationWarning: saving variable latitude with floating point data as an integer dtype without any _FillValue to use for NaNs\n",
      "  ds.to_netcdf(outfile)\n",
      "/tmp/ipykernel_2639729/3915517945.py:30: SerializationWarning: saving variable longitude with floating point data as an integer dtype without any _FillValue to use for NaNs\n",
      "  ds.to_netcdf(outfile)\n"
     ]
    },
    {
     "name": "stdout",
     "output_type": "stream",
     "text": [
      "/home/jupyter-mrayson/data/SWOT/l2_l3_combined/SWOT_L2L3_LR_SSH_524_021_browsebasin.nc\n",
      "2023-05-18T07:37:10.501876372\n"
     ]
    },
    {
     "name": "stderr",
     "output_type": "stream",
     "text": [
      "/tmp/ipykernel_2639729/3915517945.py:30: SerializationWarning: saving variable latitude with floating point data as an integer dtype without any _FillValue to use for NaNs\n",
      "  ds.to_netcdf(outfile)\n",
      "/tmp/ipykernel_2639729/3915517945.py:30: SerializationWarning: saving variable longitude with floating point data as an integer dtype without any _FillValue to use for NaNs\n",
      "  ds.to_netcdf(outfile)\n"
     ]
    },
    {
     "name": "stdout",
     "output_type": "stream",
     "text": [
      "/home/jupyter-mrayson/data/SWOT/l2_l3_combined/SWOT_L2L3_LR_SSH_525_021_browsebasin.nc\n",
      "2023-05-19T07:27:48.580186069\n",
      "526  no L2 file\n",
      "527  no L2 file\n",
      "528  no L2 file\n"
     ]
    },
    {
     "name": "stderr",
     "output_type": "stream",
     "text": [
      "/tmp/ipykernel_2639729/3915517945.py:30: SerializationWarning: saving variable latitude with floating point data as an integer dtype without any _FillValue to use for NaNs\n",
      "  ds.to_netcdf(outfile)\n",
      "/tmp/ipykernel_2639729/3915517945.py:30: SerializationWarning: saving variable longitude with floating point data as an integer dtype without any _FillValue to use for NaNs\n",
      "  ds.to_netcdf(outfile)\n"
     ]
    },
    {
     "name": "stdout",
     "output_type": "stream",
     "text": [
      "/home/jupyter-mrayson/data/SWOT/l2_l3_combined/SWOT_L2L3_LR_SSH_529_021_browsebasin.nc\n",
      "2023-05-23T06:50:20.635503825\n"
     ]
    },
    {
     "name": "stderr",
     "output_type": "stream",
     "text": [
      "/tmp/ipykernel_2639729/3915517945.py:30: SerializationWarning: saving variable latitude with floating point data as an integer dtype without any _FillValue to use for NaNs\n",
      "  ds.to_netcdf(outfile)\n",
      "/tmp/ipykernel_2639729/3915517945.py:30: SerializationWarning: saving variable longitude with floating point data as an integer dtype without any _FillValue to use for NaNs\n",
      "  ds.to_netcdf(outfile)\n"
     ]
    },
    {
     "name": "stdout",
     "output_type": "stream",
     "text": [
      "/home/jupyter-mrayson/data/SWOT/l2_l3_combined/SWOT_L2L3_LR_SSH_530_021_browsebasin.nc\n",
      "2023-05-24T06:40:58.581790399\n"
     ]
    },
    {
     "name": "stderr",
     "output_type": "stream",
     "text": [
      "/tmp/ipykernel_2639729/3915517945.py:30: SerializationWarning: saving variable latitude with floating point data as an integer dtype without any _FillValue to use for NaNs\n",
      "  ds.to_netcdf(outfile)\n",
      "/tmp/ipykernel_2639729/3915517945.py:30: SerializationWarning: saving variable longitude with floating point data as an integer dtype without any _FillValue to use for NaNs\n",
      "  ds.to_netcdf(outfile)\n"
     ]
    },
    {
     "name": "stdout",
     "output_type": "stream",
     "text": [
      "/home/jupyter-mrayson/data/SWOT/l2_l3_combined/SWOT_L2L3_LR_SSH_531_021_browsebasin.nc\n",
      "2023-05-25T06:31:36.499512488\n"
     ]
    },
    {
     "name": "stderr",
     "output_type": "stream",
     "text": [
      "/tmp/ipykernel_2639729/3915517945.py:30: SerializationWarning: saving variable latitude with floating point data as an integer dtype without any _FillValue to use for NaNs\n",
      "  ds.to_netcdf(outfile)\n",
      "/tmp/ipykernel_2639729/3915517945.py:30: SerializationWarning: saving variable longitude with floating point data as an integer dtype without any _FillValue to use for NaNs\n",
      "  ds.to_netcdf(outfile)\n"
     ]
    },
    {
     "name": "stdout",
     "output_type": "stream",
     "text": [
      "/home/jupyter-mrayson/data/SWOT/l2_l3_combined/SWOT_L2L3_LR_SSH_532_021_browsebasin.nc\n",
      "2023-05-26T06:22:14.389330485\n"
     ]
    },
    {
     "name": "stderr",
     "output_type": "stream",
     "text": [
      "/tmp/ipykernel_2639729/3915517945.py:30: SerializationWarning: saving variable latitude with floating point data as an integer dtype without any _FillValue to use for NaNs\n",
      "  ds.to_netcdf(outfile)\n",
      "/tmp/ipykernel_2639729/3915517945.py:30: SerializationWarning: saving variable longitude with floating point data as an integer dtype without any _FillValue to use for NaNs\n",
      "  ds.to_netcdf(outfile)\n"
     ]
    },
    {
     "name": "stdout",
     "output_type": "stream",
     "text": [
      "/home/jupyter-mrayson/data/SWOT/l2_l3_combined/SWOT_L2L3_LR_SSH_533_021_browsebasin.nc\n",
      "2023-05-27T06:12:52.250067865\n"
     ]
    },
    {
     "name": "stderr",
     "output_type": "stream",
     "text": [
      "/tmp/ipykernel_2639729/3915517945.py:30: SerializationWarning: saving variable latitude with floating point data as an integer dtype without any _FillValue to use for NaNs\n",
      "  ds.to_netcdf(outfile)\n",
      "/tmp/ipykernel_2639729/3915517945.py:30: SerializationWarning: saving variable longitude with floating point data as an integer dtype without any _FillValue to use for NaNs\n",
      "  ds.to_netcdf(outfile)\n"
     ]
    },
    {
     "name": "stdout",
     "output_type": "stream",
     "text": [
      "/home/jupyter-mrayson/data/SWOT/l2_l3_combined/SWOT_L2L3_LR_SSH_534_021_browsebasin.nc\n",
      "2023-05-28T06:03:30.082258838\n"
     ]
    },
    {
     "name": "stderr",
     "output_type": "stream",
     "text": [
      "/tmp/ipykernel_2639729/3915517945.py:30: SerializationWarning: saving variable latitude with floating point data as an integer dtype without any _FillValue to use for NaNs\n",
      "  ds.to_netcdf(outfile)\n",
      "/tmp/ipykernel_2639729/3915517945.py:30: SerializationWarning: saving variable longitude with floating point data as an integer dtype without any _FillValue to use for NaNs\n",
      "  ds.to_netcdf(outfile)\n"
     ]
    },
    {
     "name": "stdout",
     "output_type": "stream",
     "text": [
      "/home/jupyter-mrayson/data/SWOT/l2_l3_combined/SWOT_L2L3_LR_SSH_535_021_browsebasin.nc\n",
      "2023-05-29T05:54:07.884208097\n"
     ]
    },
    {
     "name": "stderr",
     "output_type": "stream",
     "text": [
      "/tmp/ipykernel_2639729/3915517945.py:30: SerializationWarning: saving variable latitude with floating point data as an integer dtype without any _FillValue to use for NaNs\n",
      "  ds.to_netcdf(outfile)\n",
      "/tmp/ipykernel_2639729/3915517945.py:30: SerializationWarning: saving variable longitude with floating point data as an integer dtype without any _FillValue to use for NaNs\n",
      "  ds.to_netcdf(outfile)\n"
     ]
    },
    {
     "name": "stdout",
     "output_type": "stream",
     "text": [
      "/home/jupyter-mrayson/data/SWOT/l2_l3_combined/SWOT_L2L3_LR_SSH_536_021_browsebasin.nc\n",
      "2023-05-30T05:44:45.657165022\n"
     ]
    },
    {
     "name": "stderr",
     "output_type": "stream",
     "text": [
      "/tmp/ipykernel_2639729/3915517945.py:30: SerializationWarning: saving variable latitude with floating point data as an integer dtype without any _FillValue to use for NaNs\n",
      "  ds.to_netcdf(outfile)\n",
      "/tmp/ipykernel_2639729/3915517945.py:30: SerializationWarning: saving variable longitude with floating point data as an integer dtype without any _FillValue to use for NaNs\n",
      "  ds.to_netcdf(outfile)\n"
     ]
    },
    {
     "name": "stdout",
     "output_type": "stream",
     "text": [
      "/home/jupyter-mrayson/data/SWOT/l2_l3_combined/SWOT_L2L3_LR_SSH_537_021_browsebasin.nc\n",
      "2023-05-31T05:35:23.400831421\n"
     ]
    },
    {
     "name": "stderr",
     "output_type": "stream",
     "text": [
      "/tmp/ipykernel_2639729/3915517945.py:30: SerializationWarning: saving variable latitude with floating point data as an integer dtype without any _FillValue to use for NaNs\n",
      "  ds.to_netcdf(outfile)\n",
      "/tmp/ipykernel_2639729/3915517945.py:30: SerializationWarning: saving variable longitude with floating point data as an integer dtype without any _FillValue to use for NaNs\n",
      "  ds.to_netcdf(outfile)\n"
     ]
    },
    {
     "name": "stdout",
     "output_type": "stream",
     "text": [
      "/home/jupyter-mrayson/data/SWOT/l2_l3_combined/SWOT_L2L3_LR_SSH_538_021_browsebasin.nc\n",
      "2023-06-01T05:26:01.117108671\n"
     ]
    },
    {
     "name": "stderr",
     "output_type": "stream",
     "text": [
      "/tmp/ipykernel_2639729/3915517945.py:30: SerializationWarning: saving variable latitude with floating point data as an integer dtype without any _FillValue to use for NaNs\n",
      "  ds.to_netcdf(outfile)\n",
      "/tmp/ipykernel_2639729/3915517945.py:30: SerializationWarning: saving variable longitude with floating point data as an integer dtype without any _FillValue to use for NaNs\n",
      "  ds.to_netcdf(outfile)\n"
     ]
    },
    {
     "name": "stdout",
     "output_type": "stream",
     "text": [
      "/home/jupyter-mrayson/data/SWOT/l2_l3_combined/SWOT_L2L3_LR_SSH_539_021_browsebasin.nc\n",
      "2023-06-02T05:16:38.832142996\n"
     ]
    },
    {
     "name": "stderr",
     "output_type": "stream",
     "text": [
      "/tmp/ipykernel_2639729/3915517945.py:30: SerializationWarning: saving variable latitude with floating point data as an integer dtype without any _FillValue to use for NaNs\n",
      "  ds.to_netcdf(outfile)\n",
      "/tmp/ipykernel_2639729/3915517945.py:30: SerializationWarning: saving variable longitude with floating point data as an integer dtype without any _FillValue to use for NaNs\n",
      "  ds.to_netcdf(outfile)\n"
     ]
    },
    {
     "name": "stdout",
     "output_type": "stream",
     "text": [
      "/home/jupyter-mrayson/data/SWOT/l2_l3_combined/SWOT_L2L3_LR_SSH_540_021_browsebasin.nc\n",
      "2023-06-03T05:07:16.814202778\n"
     ]
    },
    {
     "name": "stderr",
     "output_type": "stream",
     "text": [
      "/tmp/ipykernel_2639729/3915517945.py:30: SerializationWarning: saving variable latitude with floating point data as an integer dtype without any _FillValue to use for NaNs\n",
      "  ds.to_netcdf(outfile)\n",
      "/tmp/ipykernel_2639729/3915517945.py:30: SerializationWarning: saving variable longitude with floating point data as an integer dtype without any _FillValue to use for NaNs\n",
      "  ds.to_netcdf(outfile)\n"
     ]
    },
    {
     "name": "stdout",
     "output_type": "stream",
     "text": [
      "/home/jupyter-mrayson/data/SWOT/l2_l3_combined/SWOT_L2L3_LR_SSH_541_021_browsebasin.nc\n",
      "2023-06-04T04:57:54.774155104\n"
     ]
    },
    {
     "name": "stderr",
     "output_type": "stream",
     "text": [
      "/tmp/ipykernel_2639729/3915517945.py:30: SerializationWarning: saving variable latitude with floating point data as an integer dtype without any _FillValue to use for NaNs\n",
      "  ds.to_netcdf(outfile)\n",
      "/tmp/ipykernel_2639729/3915517945.py:30: SerializationWarning: saving variable longitude with floating point data as an integer dtype without any _FillValue to use for NaNs\n",
      "  ds.to_netcdf(outfile)\n"
     ]
    },
    {
     "name": "stdout",
     "output_type": "stream",
     "text": [
      "/home/jupyter-mrayson/data/SWOT/l2_l3_combined/SWOT_L2L3_LR_SSH_542_021_browsebasin.nc\n",
      "2023-06-05T04:48:32.710625232\n"
     ]
    },
    {
     "name": "stderr",
     "output_type": "stream",
     "text": [
      "/tmp/ipykernel_2639729/3915517945.py:30: SerializationWarning: saving variable latitude with floating point data as an integer dtype without any _FillValue to use for NaNs\n",
      "  ds.to_netcdf(outfile)\n",
      "/tmp/ipykernel_2639729/3915517945.py:30: SerializationWarning: saving variable longitude with floating point data as an integer dtype without any _FillValue to use for NaNs\n",
      "  ds.to_netcdf(outfile)\n"
     ]
    },
    {
     "name": "stdout",
     "output_type": "stream",
     "text": [
      "/home/jupyter-mrayson/data/SWOT/l2_l3_combined/SWOT_L2L3_LR_SSH_543_021_browsebasin.nc\n",
      "2023-06-06T04:39:10.620533671\n"
     ]
    },
    {
     "name": "stderr",
     "output_type": "stream",
     "text": [
      "/tmp/ipykernel_2639729/3915517945.py:30: SerializationWarning: saving variable latitude with floating point data as an integer dtype without any _FillValue to use for NaNs\n",
      "  ds.to_netcdf(outfile)\n",
      "/tmp/ipykernel_2639729/3915517945.py:30: SerializationWarning: saving variable longitude with floating point data as an integer dtype without any _FillValue to use for NaNs\n",
      "  ds.to_netcdf(outfile)\n"
     ]
    },
    {
     "name": "stdout",
     "output_type": "stream",
     "text": [
      "/home/jupyter-mrayson/data/SWOT/l2_l3_combined/SWOT_L2L3_LR_SSH_544_021_browsebasin.nc\n",
      "2023-06-07T04:29:48.500266130\n"
     ]
    },
    {
     "name": "stderr",
     "output_type": "stream",
     "text": [
      "/tmp/ipykernel_2639729/3915517945.py:30: SerializationWarning: saving variable latitude with floating point data as an integer dtype without any _FillValue to use for NaNs\n",
      "  ds.to_netcdf(outfile)\n",
      "/tmp/ipykernel_2639729/3915517945.py:30: SerializationWarning: saving variable longitude with floating point data as an integer dtype without any _FillValue to use for NaNs\n",
      "  ds.to_netcdf(outfile)\n"
     ]
    },
    {
     "name": "stdout",
     "output_type": "stream",
     "text": [
      "/home/jupyter-mrayson/data/SWOT/l2_l3_combined/SWOT_L2L3_LR_SSH_545_021_browsebasin.nc\n",
      "2023-06-08T04:20:26.346041451\n"
     ]
    },
    {
     "name": "stderr",
     "output_type": "stream",
     "text": [
      "/tmp/ipykernel_2639729/3915517945.py:30: SerializationWarning: saving variable latitude with floating point data as an integer dtype without any _FillValue to use for NaNs\n",
      "  ds.to_netcdf(outfile)\n",
      "/tmp/ipykernel_2639729/3915517945.py:30: SerializationWarning: saving variable longitude with floating point data as an integer dtype without any _FillValue to use for NaNs\n",
      "  ds.to_netcdf(outfile)\n"
     ]
    },
    {
     "name": "stdout",
     "output_type": "stream",
     "text": [
      "/home/jupyter-mrayson/data/SWOT/l2_l3_combined/SWOT_L2L3_LR_SSH_546_021_browsebasin.nc\n",
      "2023-06-09T04:11:04.158258092\n"
     ]
    },
    {
     "name": "stderr",
     "output_type": "stream",
     "text": [
      "/tmp/ipykernel_2639729/3915517945.py:30: SerializationWarning: saving variable latitude with floating point data as an integer dtype without any _FillValue to use for NaNs\n",
      "  ds.to_netcdf(outfile)\n",
      "/tmp/ipykernel_2639729/3915517945.py:30: SerializationWarning: saving variable longitude with floating point data as an integer dtype without any _FillValue to use for NaNs\n",
      "  ds.to_netcdf(outfile)\n"
     ]
    },
    {
     "name": "stdout",
     "output_type": "stream",
     "text": [
      "/home/jupyter-mrayson/data/SWOT/l2_l3_combined/SWOT_L2L3_LR_SSH_547_021_browsebasin.nc\n",
      "2023-06-10T04:01:41.937167290\n"
     ]
    },
    {
     "name": "stderr",
     "output_type": "stream",
     "text": [
      "/tmp/ipykernel_2639729/3915517945.py:30: SerializationWarning: saving variable latitude with floating point data as an integer dtype without any _FillValue to use for NaNs\n",
      "  ds.to_netcdf(outfile)\n",
      "/tmp/ipykernel_2639729/3915517945.py:30: SerializationWarning: saving variable longitude with floating point data as an integer dtype without any _FillValue to use for NaNs\n",
      "  ds.to_netcdf(outfile)\n"
     ]
    },
    {
     "name": "stdout",
     "output_type": "stream",
     "text": [
      "/home/jupyter-mrayson/data/SWOT/l2_l3_combined/SWOT_L2L3_LR_SSH_548_021_browsebasin.nc\n",
      "2023-06-11T03:52:19.685354454\n"
     ]
    },
    {
     "name": "stderr",
     "output_type": "stream",
     "text": [
      "/tmp/ipykernel_2639729/3915517945.py:30: SerializationWarning: saving variable latitude with floating point data as an integer dtype without any _FillValue to use for NaNs\n",
      "  ds.to_netcdf(outfile)\n",
      "/tmp/ipykernel_2639729/3915517945.py:30: SerializationWarning: saving variable longitude with floating point data as an integer dtype without any _FillValue to use for NaNs\n",
      "  ds.to_netcdf(outfile)\n"
     ]
    },
    {
     "name": "stdout",
     "output_type": "stream",
     "text": [
      "/home/jupyter-mrayson/data/SWOT/l2_l3_combined/SWOT_L2L3_LR_SSH_549_021_browsebasin.nc\n",
      "2023-06-12T03:42:57.404170999\n"
     ]
    },
    {
     "name": "stderr",
     "output_type": "stream",
     "text": [
      "/tmp/ipykernel_2639729/3915517945.py:30: SerializationWarning: saving variable latitude with floating point data as an integer dtype without any _FillValue to use for NaNs\n",
      "  ds.to_netcdf(outfile)\n",
      "/tmp/ipykernel_2639729/3915517945.py:30: SerializationWarning: saving variable longitude with floating point data as an integer dtype without any _FillValue to use for NaNs\n",
      "  ds.to_netcdf(outfile)\n"
     ]
    },
    {
     "name": "stdout",
     "output_type": "stream",
     "text": [
      "/home/jupyter-mrayson/data/SWOT/l2_l3_combined/SWOT_L2L3_LR_SSH_550_021_browsebasin.nc\n",
      "2023-06-13T03:33:35.098628572\n"
     ]
    },
    {
     "name": "stderr",
     "output_type": "stream",
     "text": [
      "/tmp/ipykernel_2639729/3915517945.py:30: SerializationWarning: saving variable latitude with floating point data as an integer dtype without any _FillValue to use for NaNs\n",
      "  ds.to_netcdf(outfile)\n",
      "/tmp/ipykernel_2639729/3915517945.py:30: SerializationWarning: saving variable longitude with floating point data as an integer dtype without any _FillValue to use for NaNs\n",
      "  ds.to_netcdf(outfile)\n"
     ]
    },
    {
     "name": "stdout",
     "output_type": "stream",
     "text": [
      "/home/jupyter-mrayson/data/SWOT/l2_l3_combined/SWOT_L2L3_LR_SSH_551_021_browsebasin.nc\n",
      "2023-06-14T03:24:12.768112877\n"
     ]
    },
    {
     "name": "stderr",
     "output_type": "stream",
     "text": [
      "/tmp/ipykernel_2639729/3915517945.py:30: SerializationWarning: saving variable latitude with floating point data as an integer dtype without any _FillValue to use for NaNs\n",
      "  ds.to_netcdf(outfile)\n",
      "/tmp/ipykernel_2639729/3915517945.py:30: SerializationWarning: saving variable longitude with floating point data as an integer dtype without any _FillValue to use for NaNs\n",
      "  ds.to_netcdf(outfile)\n"
     ]
    },
    {
     "name": "stdout",
     "output_type": "stream",
     "text": [
      "/home/jupyter-mrayson/data/SWOT/l2_l3_combined/SWOT_L2L3_LR_SSH_552_021_browsebasin.nc\n",
      "2023-06-15T03:14:50.414613185\n"
     ]
    },
    {
     "name": "stderr",
     "output_type": "stream",
     "text": [
      "/tmp/ipykernel_2639729/3915517945.py:30: SerializationWarning: saving variable latitude with floating point data as an integer dtype without any _FillValue to use for NaNs\n",
      "  ds.to_netcdf(outfile)\n",
      "/tmp/ipykernel_2639729/3915517945.py:30: SerializationWarning: saving variable longitude with floating point data as an integer dtype without any _FillValue to use for NaNs\n",
      "  ds.to_netcdf(outfile)\n"
     ]
    },
    {
     "name": "stdout",
     "output_type": "stream",
     "text": [
      "/home/jupyter-mrayson/data/SWOT/l2_l3_combined/SWOT_L2L3_LR_SSH_553_021_browsebasin.nc\n",
      "2023-06-16T03:05:28.038131927\n"
     ]
    },
    {
     "name": "stderr",
     "output_type": "stream",
     "text": [
      "/tmp/ipykernel_2639729/3915517945.py:30: SerializationWarning: saving variable latitude with floating point data as an integer dtype without any _FillValue to use for NaNs\n",
      "  ds.to_netcdf(outfile)\n",
      "/tmp/ipykernel_2639729/3915517945.py:30: SerializationWarning: saving variable longitude with floating point data as an integer dtype without any _FillValue to use for NaNs\n",
      "  ds.to_netcdf(outfile)\n"
     ]
    },
    {
     "name": "stdout",
     "output_type": "stream",
     "text": [
      "/home/jupyter-mrayson/data/SWOT/l2_l3_combined/SWOT_L2L3_LR_SSH_554_021_browsebasin.nc\n",
      "2023-06-17T02:56:05.801412929\n"
     ]
    },
    {
     "name": "stderr",
     "output_type": "stream",
     "text": [
      "/tmp/ipykernel_2639729/3915517945.py:30: SerializationWarning: saving variable latitude with floating point data as an integer dtype without any _FillValue to use for NaNs\n",
      "  ds.to_netcdf(outfile)\n",
      "/tmp/ipykernel_2639729/3915517945.py:30: SerializationWarning: saving variable longitude with floating point data as an integer dtype without any _FillValue to use for NaNs\n",
      "  ds.to_netcdf(outfile)\n"
     ]
    },
    {
     "name": "stdout",
     "output_type": "stream",
     "text": [
      "/home/jupyter-mrayson/data/SWOT/l2_l3_combined/SWOT_L2L3_LR_SSH_555_021_browsebasin.nc\n",
      "2023-06-18T02:46:43.969537803\n"
     ]
    },
    {
     "name": "stderr",
     "output_type": "stream",
     "text": [
      "/tmp/ipykernel_2639729/3915517945.py:30: SerializationWarning: saving variable latitude with floating point data as an integer dtype without any _FillValue to use for NaNs\n",
      "  ds.to_netcdf(outfile)\n",
      "/tmp/ipykernel_2639729/3915517945.py:30: SerializationWarning: saving variable longitude with floating point data as an integer dtype without any _FillValue to use for NaNs\n",
      "  ds.to_netcdf(outfile)\n"
     ]
    },
    {
     "name": "stdout",
     "output_type": "stream",
     "text": [
      "/home/jupyter-mrayson/data/SWOT/l2_l3_combined/SWOT_L2L3_LR_SSH_556_021_browsebasin.nc\n",
      "2023-06-19T02:37:22.104527431\n"
     ]
    },
    {
     "name": "stderr",
     "output_type": "stream",
     "text": [
      "/tmp/ipykernel_2639729/3915517945.py:30: SerializationWarning: saving variable latitude with floating point data as an integer dtype without any _FillValue to use for NaNs\n",
      "  ds.to_netcdf(outfile)\n",
      "/tmp/ipykernel_2639729/3915517945.py:30: SerializationWarning: saving variable longitude with floating point data as an integer dtype without any _FillValue to use for NaNs\n",
      "  ds.to_netcdf(outfile)\n"
     ]
    },
    {
     "name": "stdout",
     "output_type": "stream",
     "text": [
      "/home/jupyter-mrayson/data/SWOT/l2_l3_combined/SWOT_L2L3_LR_SSH_557_021_browsebasin.nc\n",
      "2023-06-20T02:28:00.206293939\n"
     ]
    },
    {
     "name": "stderr",
     "output_type": "stream",
     "text": [
      "/tmp/ipykernel_2639729/3915517945.py:30: SerializationWarning: saving variable latitude with floating point data as an integer dtype without any _FillValue to use for NaNs\n",
      "  ds.to_netcdf(outfile)\n",
      "/tmp/ipykernel_2639729/3915517945.py:30: SerializationWarning: saving variable longitude with floating point data as an integer dtype without any _FillValue to use for NaNs\n",
      "  ds.to_netcdf(outfile)\n"
     ]
    },
    {
     "name": "stdout",
     "output_type": "stream",
     "text": [
      "/home/jupyter-mrayson/data/SWOT/l2_l3_combined/SWOT_L2L3_LR_SSH_558_021_browsebasin.nc\n",
      "2023-06-21T02:18:38.272614192\n"
     ]
    },
    {
     "name": "stderr",
     "output_type": "stream",
     "text": [
      "/tmp/ipykernel_2639729/3915517945.py:30: SerializationWarning: saving variable latitude with floating point data as an integer dtype without any _FillValue to use for NaNs\n",
      "  ds.to_netcdf(outfile)\n",
      "/tmp/ipykernel_2639729/3915517945.py:30: SerializationWarning: saving variable longitude with floating point data as an integer dtype without any _FillValue to use for NaNs\n",
      "  ds.to_netcdf(outfile)\n"
     ]
    },
    {
     "name": "stdout",
     "output_type": "stream",
     "text": [
      "/home/jupyter-mrayson/data/SWOT/l2_l3_combined/SWOT_L2L3_LR_SSH_559_021_browsebasin.nc\n",
      "2023-06-22T02:09:16.305398093\n"
     ]
    },
    {
     "name": "stderr",
     "output_type": "stream",
     "text": [
      "/tmp/ipykernel_2639729/3915517945.py:30: SerializationWarning: saving variable latitude with floating point data as an integer dtype without any _FillValue to use for NaNs\n",
      "  ds.to_netcdf(outfile)\n",
      "/tmp/ipykernel_2639729/3915517945.py:30: SerializationWarning: saving variable longitude with floating point data as an integer dtype without any _FillValue to use for NaNs\n",
      "  ds.to_netcdf(outfile)\n"
     ]
    },
    {
     "name": "stdout",
     "output_type": "stream",
     "text": [
      "/home/jupyter-mrayson/data/SWOT/l2_l3_combined/SWOT_L2L3_LR_SSH_560_021_browsebasin.nc\n",
      "2023-06-23T01:59:54.302723870\n"
     ]
    },
    {
     "name": "stderr",
     "output_type": "stream",
     "text": [
      "/tmp/ipykernel_2639729/3915517945.py:30: SerializationWarning: saving variable latitude with floating point data as an integer dtype without any _FillValue to use for NaNs\n",
      "  ds.to_netcdf(outfile)\n",
      "/tmp/ipykernel_2639729/3915517945.py:30: SerializationWarning: saving variable longitude with floating point data as an integer dtype without any _FillValue to use for NaNs\n",
      "  ds.to_netcdf(outfile)\n"
     ]
    },
    {
     "name": "stdout",
     "output_type": "stream",
     "text": [
      "/home/jupyter-mrayson/data/SWOT/l2_l3_combined/SWOT_L2L3_LR_SSH_561_021_browsebasin.nc\n",
      "2023-06-24T01:50:32.264686996\n"
     ]
    },
    {
     "name": "stderr",
     "output_type": "stream",
     "text": [
      "/tmp/ipykernel_2639729/3915517945.py:30: SerializationWarning: saving variable latitude with floating point data as an integer dtype without any _FillValue to use for NaNs\n",
      "  ds.to_netcdf(outfile)\n",
      "/tmp/ipykernel_2639729/3915517945.py:30: SerializationWarning: saving variable longitude with floating point data as an integer dtype without any _FillValue to use for NaNs\n",
      "  ds.to_netcdf(outfile)\n"
     ]
    },
    {
     "name": "stdout",
     "output_type": "stream",
     "text": [
      "/home/jupyter-mrayson/data/SWOT/l2_l3_combined/SWOT_L2L3_LR_SSH_562_021_browsebasin.nc\n",
      "2023-06-25T01:41:10.193967031\n"
     ]
    },
    {
     "name": "stderr",
     "output_type": "stream",
     "text": [
      "/tmp/ipykernel_2639729/3915517945.py:30: SerializationWarning: saving variable latitude with floating point data as an integer dtype without any _FillValue to use for NaNs\n",
      "  ds.to_netcdf(outfile)\n",
      "/tmp/ipykernel_2639729/3915517945.py:30: SerializationWarning: saving variable longitude with floating point data as an integer dtype without any _FillValue to use for NaNs\n",
      "  ds.to_netcdf(outfile)\n"
     ]
    },
    {
     "name": "stdout",
     "output_type": "stream",
     "text": [
      "/home/jupyter-mrayson/data/SWOT/l2_l3_combined/SWOT_L2L3_LR_SSH_563_021_browsebasin.nc\n",
      "2023-06-26T01:31:48.087837042\n"
     ]
    },
    {
     "name": "stderr",
     "output_type": "stream",
     "text": [
      "/tmp/ipykernel_2639729/3915517945.py:30: SerializationWarning: saving variable latitude with floating point data as an integer dtype without any _FillValue to use for NaNs\n",
      "  ds.to_netcdf(outfile)\n",
      "/tmp/ipykernel_2639729/3915517945.py:30: SerializationWarning: saving variable longitude with floating point data as an integer dtype without any _FillValue to use for NaNs\n",
      "  ds.to_netcdf(outfile)\n"
     ]
    },
    {
     "name": "stdout",
     "output_type": "stream",
     "text": [
      "/home/jupyter-mrayson/data/SWOT/l2_l3_combined/SWOT_L2L3_LR_SSH_564_021_browsebasin.nc\n",
      "2023-06-27T01:22:25.952911282\n"
     ]
    },
    {
     "name": "stderr",
     "output_type": "stream",
     "text": [
      "/tmp/ipykernel_2639729/3915517945.py:30: SerializationWarning: saving variable latitude with floating point data as an integer dtype without any _FillValue to use for NaNs\n",
      "  ds.to_netcdf(outfile)\n",
      "/tmp/ipykernel_2639729/3915517945.py:30: SerializationWarning: saving variable longitude with floating point data as an integer dtype without any _FillValue to use for NaNs\n",
      "  ds.to_netcdf(outfile)\n"
     ]
    },
    {
     "name": "stdout",
     "output_type": "stream",
     "text": [
      "/home/jupyter-mrayson/data/SWOT/l2_l3_combined/SWOT_L2L3_LR_SSH_565_021_browsebasin.nc\n",
      "2023-06-28T01:13:03.792676692\n"
     ]
    },
    {
     "name": "stderr",
     "output_type": "stream",
     "text": [
      "/tmp/ipykernel_2639729/3915517945.py:30: SerializationWarning: saving variable latitude with floating point data as an integer dtype without any _FillValue to use for NaNs\n",
      "  ds.to_netcdf(outfile)\n",
      "/tmp/ipykernel_2639729/3915517945.py:30: SerializationWarning: saving variable longitude with floating point data as an integer dtype without any _FillValue to use for NaNs\n",
      "  ds.to_netcdf(outfile)\n"
     ]
    },
    {
     "name": "stdout",
     "output_type": "stream",
     "text": [
      "/home/jupyter-mrayson/data/SWOT/l2_l3_combined/SWOT_L2L3_LR_SSH_566_021_browsebasin.nc\n",
      "2023-06-29T01:03:41.604882315\n"
     ]
    },
    {
     "name": "stderr",
     "output_type": "stream",
     "text": [
      "/tmp/ipykernel_2639729/3915517945.py:30: SerializationWarning: saving variable latitude with floating point data as an integer dtype without any _FillValue to use for NaNs\n",
      "  ds.to_netcdf(outfile)\n",
      "/tmp/ipykernel_2639729/3915517945.py:30: SerializationWarning: saving variable longitude with floating point data as an integer dtype without any _FillValue to use for NaNs\n",
      "  ds.to_netcdf(outfile)\n"
     ]
    },
    {
     "name": "stdout",
     "output_type": "stream",
     "text": [
      "/home/jupyter-mrayson/data/SWOT/l2_l3_combined/SWOT_L2L3_LR_SSH_567_021_browsebasin.nc\n",
      "NaT\n"
     ]
    },
    {
     "name": "stderr",
     "output_type": "stream",
     "text": [
      "/tmp/ipykernel_2639729/3915517945.py:30: SerializationWarning: saving variable latitude with floating point data as an integer dtype without any _FillValue to use for NaNs\n",
      "  ds.to_netcdf(outfile)\n",
      "/tmp/ipykernel_2639729/3915517945.py:30: SerializationWarning: saving variable longitude with floating point data as an integer dtype without any _FillValue to use for NaNs\n",
      "  ds.to_netcdf(outfile)\n"
     ]
    },
    {
     "name": "stdout",
     "output_type": "stream",
     "text": [
      "/home/jupyter-mrayson/data/SWOT/l2_l3_combined/SWOT_L2L3_LR_SSH_568_021_browsebasin.nc\n",
      "2023-07-01T00:44:57.231972190\n"
     ]
    },
    {
     "name": "stderr",
     "output_type": "stream",
     "text": [
      "/tmp/ipykernel_2639729/3915517945.py:30: SerializationWarning: saving variable latitude with floating point data as an integer dtype without any _FillValue to use for NaNs\n",
      "  ds.to_netcdf(outfile)\n",
      "/tmp/ipykernel_2639729/3915517945.py:30: SerializationWarning: saving variable longitude with floating point data as an integer dtype without any _FillValue to use for NaNs\n",
      "  ds.to_netcdf(outfile)\n"
     ]
    },
    {
     "name": "stdout",
     "output_type": "stream",
     "text": [
      "/home/jupyter-mrayson/data/SWOT/l2_l3_combined/SWOT_L2L3_LR_SSH_569_021_browsebasin.nc\n",
      "2023-07-02T00:35:35.306350772\n"
     ]
    },
    {
     "name": "stderr",
     "output_type": "stream",
     "text": [
      "/tmp/ipykernel_2639729/3915517945.py:30: SerializationWarning: saving variable latitude with floating point data as an integer dtype without any _FillValue to use for NaNs\n",
      "  ds.to_netcdf(outfile)\n",
      "/tmp/ipykernel_2639729/3915517945.py:30: SerializationWarning: saving variable longitude with floating point data as an integer dtype without any _FillValue to use for NaNs\n",
      "  ds.to_netcdf(outfile)\n"
     ]
    },
    {
     "name": "stdout",
     "output_type": "stream",
     "text": [
      "/home/jupyter-mrayson/data/SWOT/l2_l3_combined/SWOT_L2L3_LR_SSH_570_021_browsebasin.nc\n",
      "2023-07-03T00:26:13.350117699\n"
     ]
    },
    {
     "name": "stderr",
     "output_type": "stream",
     "text": [
      "/tmp/ipykernel_2639729/3915517945.py:30: SerializationWarning: saving variable latitude with floating point data as an integer dtype without any _FillValue to use for NaNs\n",
      "  ds.to_netcdf(outfile)\n",
      "/tmp/ipykernel_2639729/3915517945.py:30: SerializationWarning: saving variable longitude with floating point data as an integer dtype without any _FillValue to use for NaNs\n",
      "  ds.to_netcdf(outfile)\n"
     ]
    },
    {
     "name": "stdout",
     "output_type": "stream",
     "text": [
      "/home/jupyter-mrayson/data/SWOT/l2_l3_combined/SWOT_L2L3_LR_SSH_571_021_browsebasin.nc\n",
      "2023-07-04T00:16:51.360952045\n"
     ]
    },
    {
     "name": "stderr",
     "output_type": "stream",
     "text": [
      "/tmp/ipykernel_2639729/3915517945.py:30: SerializationWarning: saving variable latitude with floating point data as an integer dtype without any _FillValue to use for NaNs\n",
      "  ds.to_netcdf(outfile)\n",
      "/tmp/ipykernel_2639729/3915517945.py:30: SerializationWarning: saving variable longitude with floating point data as an integer dtype without any _FillValue to use for NaNs\n",
      "  ds.to_netcdf(outfile)\n"
     ]
    },
    {
     "name": "stdout",
     "output_type": "stream",
     "text": [
      "/home/jupyter-mrayson/data/SWOT/l2_l3_combined/SWOT_L2L3_LR_SSH_572_021_browsebasin.nc\n",
      "2023-07-05T00:07:29.337262012\n"
     ]
    },
    {
     "name": "stderr",
     "output_type": "stream",
     "text": [
      "/tmp/ipykernel_2639729/3915517945.py:30: SerializationWarning: saving variable latitude with floating point data as an integer dtype without any _FillValue to use for NaNs\n",
      "  ds.to_netcdf(outfile)\n",
      "/tmp/ipykernel_2639729/3915517945.py:30: SerializationWarning: saving variable longitude with floating point data as an integer dtype without any _FillValue to use for NaNs\n",
      "  ds.to_netcdf(outfile)\n"
     ]
    },
    {
     "name": "stdout",
     "output_type": "stream",
     "text": [
      "/home/jupyter-mrayson/data/SWOT/l2_l3_combined/SWOT_L2L3_LR_SSH_573_021_browsebasin.nc\n",
      "2023-07-05T23:58:07.281808889\n"
     ]
    },
    {
     "name": "stderr",
     "output_type": "stream",
     "text": [
      "/tmp/ipykernel_2639729/3915517945.py:30: SerializationWarning: saving variable latitude with floating point data as an integer dtype without any _FillValue to use for NaNs\n",
      "  ds.to_netcdf(outfile)\n",
      "/tmp/ipykernel_2639729/3915517945.py:30: SerializationWarning: saving variable longitude with floating point data as an integer dtype without any _FillValue to use for NaNs\n",
      "  ds.to_netcdf(outfile)\n"
     ]
    },
    {
     "name": "stdout",
     "output_type": "stream",
     "text": [
      "/home/jupyter-mrayson/data/SWOT/l2_l3_combined/SWOT_L2L3_LR_SSH_574_021_browsebasin.nc\n",
      "2023-07-06T23:48:45.199147777\n"
     ]
    },
    {
     "name": "stderr",
     "output_type": "stream",
     "text": [
      "/tmp/ipykernel_2639729/3915517945.py:30: SerializationWarning: saving variable latitude with floating point data as an integer dtype without any _FillValue to use for NaNs\n",
      "  ds.to_netcdf(outfile)\n",
      "/tmp/ipykernel_2639729/3915517945.py:30: SerializationWarning: saving variable longitude with floating point data as an integer dtype without any _FillValue to use for NaNs\n",
      "  ds.to_netcdf(outfile)\n"
     ]
    },
    {
     "name": "stdout",
     "output_type": "stream",
     "text": [
      "/home/jupyter-mrayson/data/SWOT/l2_l3_combined/SWOT_L2L3_LR_SSH_575_021_browsebasin.nc\n",
      "2023-07-07T23:39:23.089570636\n"
     ]
    },
    {
     "name": "stderr",
     "output_type": "stream",
     "text": [
      "/tmp/ipykernel_2639729/3915517945.py:30: SerializationWarning: saving variable latitude with floating point data as an integer dtype without any _FillValue to use for NaNs\n",
      "  ds.to_netcdf(outfile)\n",
      "/tmp/ipykernel_2639729/3915517945.py:30: SerializationWarning: saving variable longitude with floating point data as an integer dtype without any _FillValue to use for NaNs\n",
      "  ds.to_netcdf(outfile)\n"
     ]
    },
    {
     "name": "stdout",
     "output_type": "stream",
     "text": [
      "/home/jupyter-mrayson/data/SWOT/l2_l3_combined/SWOT_L2L3_LR_SSH_576_021_browsebasin.nc\n",
      "2023-07-08T23:30:00.955179368\n"
     ]
    },
    {
     "name": "stderr",
     "output_type": "stream",
     "text": [
      "/tmp/ipykernel_2639729/3915517945.py:30: SerializationWarning: saving variable latitude with floating point data as an integer dtype without any _FillValue to use for NaNs\n",
      "  ds.to_netcdf(outfile)\n",
      "/tmp/ipykernel_2639729/3915517945.py:30: SerializationWarning: saving variable longitude with floating point data as an integer dtype without any _FillValue to use for NaNs\n",
      "  ds.to_netcdf(outfile)\n"
     ]
    },
    {
     "name": "stdout",
     "output_type": "stream",
     "text": [
      "/home/jupyter-mrayson/data/SWOT/l2_l3_combined/SWOT_L2L3_LR_SSH_577_021_browsebasin.nc\n",
      "2023-07-09T23:20:38.796825011\n"
     ]
    },
    {
     "name": "stderr",
     "output_type": "stream",
     "text": [
      "/tmp/ipykernel_2639729/3915517945.py:30: SerializationWarning: saving variable latitude with floating point data as an integer dtype without any _FillValue to use for NaNs\n",
      "  ds.to_netcdf(outfile)\n",
      "/tmp/ipykernel_2639729/3915517945.py:30: SerializationWarning: saving variable longitude with floating point data as an integer dtype without any _FillValue to use for NaNs\n",
      "  ds.to_netcdf(outfile)\n"
     ]
    }
   ],
   "source": [
    "region = 'browsebasin'\n",
    "area = [120, -16, 125, -11] # Kimberley\n",
    "flags = 'good'\n",
    "pass_no = 21\n",
    "\n",
    "good_cycle=[]\n",
    "for cycle_no in range(474, 578):\n",
    "\n",
    "    l2files = sorted(glob(f'/home/jupyter-mrayson/data/SWOT/l2_karin_v1_0/cycle_{cycle_no}/SWOT_L2_LR_SSH_Expert_*_0{pass_no}*.nc'))\n",
    "    \n",
    "    l3files = sorted(glob(f'/home/jupyter-mrayson/data/SWOT/l3_karin_nadir_v1_0/cycle_{cycle_no}/*_0{pass_no}*.nc'))\n",
    "\n",
    "    if len(l2files)==0:\n",
    "        print(cycle_no, ' no L2 file')\n",
    "        continue\n",
    "\n",
    "    if len(l3files)==0:\n",
    "        print(cycle_no, ' no L3 file')\n",
    "        continue\n",
    "\n",
    "    #continue\n",
    "        \n",
    "    ds = ka.process_l2_l3(l2files[0], l3files[0], flags, area=area)\n",
    "    #ds.attrs['cycle number'] = cycle_no\n",
    "    good_cycle.append(cycle_no)\n",
    "    outfile = f'/home/jupyter-mrayson/data/SWOT/l2_l3_combined/SWOT_L2L3_LR_SSH_{cycle_no}_0{pass_no}_{region}.nc'\n",
    "    #outfile\n",
    "    print(outfile)\n",
    "    print(ds.time.mean().values)\n",
    "    ds.to_netcdf(outfile)"
   ]
  },
  {
   "cell_type": "code",
   "execution_count": 8,
   "id": "0196bfd7-079c-408e-83fd-7903a578ec58",
   "metadata": {},
   "outputs": [
    {
     "name": "stderr",
     "output_type": "stream",
     "text": [
      "/tmp/ipykernel_2102394/1642760250.py:10: SerializationWarning: saving variable latitude with floating point data as an integer dtype without any _FillValue to use for NaNs\n",
      "  dsall.to_netcdf(outfile)\n",
      "/tmp/ipykernel_2102394/1642760250.py:10: SerializationWarning: saving variable longitude with floating point data as an integer dtype without any _FillValue to use for NaNs\n",
      "  dsall.to_netcdf(outfile)\n"
     ]
    },
    {
     "data": {
      "text/html": [
       "<div><svg style=\"position: absolute; width: 0; height: 0; overflow: hidden\">\n",
       "<defs>\n",
       "<symbol id=\"icon-database\" viewBox=\"0 0 32 32\">\n",
       "<path d=\"M16 0c-8.837 0-16 2.239-16 5v4c0 2.761 7.163 5 16 5s16-2.239 16-5v-4c0-2.761-7.163-5-16-5z\"></path>\n",
       "<path d=\"M16 17c-8.837 0-16-2.239-16-5v6c0 2.761 7.163 5 16 5s16-2.239 16-5v-6c0 2.761-7.163 5-16 5z\"></path>\n",
       "<path d=\"M16 26c-8.837 0-16-2.239-16-5v6c0 2.761 7.163 5 16 5s16-2.239 16-5v-6c0 2.761-7.163 5-16 5z\"></path>\n",
       "</symbol>\n",
       "<symbol id=\"icon-file-text2\" viewBox=\"0 0 32 32\">\n",
       "<path d=\"M28.681 7.159c-0.694-0.947-1.662-2.053-2.724-3.116s-2.169-2.030-3.116-2.724c-1.612-1.182-2.393-1.319-2.841-1.319h-15.5c-1.378 0-2.5 1.121-2.5 2.5v27c0 1.378 1.122 2.5 2.5 2.5h23c1.378 0 2.5-1.122 2.5-2.5v-19.5c0-0.448-0.137-1.23-1.319-2.841zM24.543 5.457c0.959 0.959 1.712 1.825 2.268 2.543h-4.811v-4.811c0.718 0.556 1.584 1.309 2.543 2.268zM28 29.5c0 0.271-0.229 0.5-0.5 0.5h-23c-0.271 0-0.5-0.229-0.5-0.5v-27c0-0.271 0.229-0.5 0.5-0.5 0 0 15.499-0 15.5 0v7c0 0.552 0.448 1 1 1h7v19.5z\"></path>\n",
       "<path d=\"M23 26h-14c-0.552 0-1-0.448-1-1s0.448-1 1-1h14c0.552 0 1 0.448 1 1s-0.448 1-1 1z\"></path>\n",
       "<path d=\"M23 22h-14c-0.552 0-1-0.448-1-1s0.448-1 1-1h14c0.552 0 1 0.448 1 1s-0.448 1-1 1z\"></path>\n",
       "<path d=\"M23 18h-14c-0.552 0-1-0.448-1-1s0.448-1 1-1h14c0.552 0 1 0.448 1 1s-0.448 1-1 1z\"></path>\n",
       "</symbol>\n",
       "</defs>\n",
       "</svg>\n",
       "<style>/* CSS stylesheet for displaying xarray objects in jupyterlab.\n",
       " *\n",
       " */\n",
       "\n",
       ":root {\n",
       "  --xr-font-color0: var(--jp-content-font-color0, rgba(0, 0, 0, 1));\n",
       "  --xr-font-color2: var(--jp-content-font-color2, rgba(0, 0, 0, 0.54));\n",
       "  --xr-font-color3: var(--jp-content-font-color3, rgba(0, 0, 0, 0.38));\n",
       "  --xr-border-color: var(--jp-border-color2, #e0e0e0);\n",
       "  --xr-disabled-color: var(--jp-layout-color3, #bdbdbd);\n",
       "  --xr-background-color: var(--jp-layout-color0, white);\n",
       "  --xr-background-color-row-even: var(--jp-layout-color1, white);\n",
       "  --xr-background-color-row-odd: var(--jp-layout-color2, #eeeeee);\n",
       "}\n",
       "\n",
       "html[theme=dark],\n",
       "body[data-theme=dark],\n",
       "body.vscode-dark {\n",
       "  --xr-font-color0: rgba(255, 255, 255, 1);\n",
       "  --xr-font-color2: rgba(255, 255, 255, 0.54);\n",
       "  --xr-font-color3: rgba(255, 255, 255, 0.38);\n",
       "  --xr-border-color: #1F1F1F;\n",
       "  --xr-disabled-color: #515151;\n",
       "  --xr-background-color: #111111;\n",
       "  --xr-background-color-row-even: #111111;\n",
       "  --xr-background-color-row-odd: #313131;\n",
       "}\n",
       "\n",
       ".xr-wrap {\n",
       "  display: block !important;\n",
       "  min-width: 300px;\n",
       "  max-width: 700px;\n",
       "}\n",
       "\n",
       ".xr-text-repr-fallback {\n",
       "  /* fallback to plain text repr when CSS is not injected (untrusted notebook) */\n",
       "  display: none;\n",
       "}\n",
       "\n",
       ".xr-header {\n",
       "  padding-top: 6px;\n",
       "  padding-bottom: 6px;\n",
       "  margin-bottom: 4px;\n",
       "  border-bottom: solid 1px var(--xr-border-color);\n",
       "}\n",
       "\n",
       ".xr-header > div,\n",
       ".xr-header > ul {\n",
       "  display: inline;\n",
       "  margin-top: 0;\n",
       "  margin-bottom: 0;\n",
       "}\n",
       "\n",
       ".xr-obj-type,\n",
       ".xr-array-name {\n",
       "  margin-left: 2px;\n",
       "  margin-right: 10px;\n",
       "}\n",
       "\n",
       ".xr-obj-type {\n",
       "  color: var(--xr-font-color2);\n",
       "}\n",
       "\n",
       ".xr-sections {\n",
       "  padding-left: 0 !important;\n",
       "  display: grid;\n",
       "  grid-template-columns: 150px auto auto 1fr 20px 20px;\n",
       "}\n",
       "\n",
       ".xr-section-item {\n",
       "  display: contents;\n",
       "}\n",
       "\n",
       ".xr-section-item input {\n",
       "  display: none;\n",
       "}\n",
       "\n",
       ".xr-section-item input + label {\n",
       "  color: var(--xr-disabled-color);\n",
       "}\n",
       "\n",
       ".xr-section-item input:enabled + label {\n",
       "  cursor: pointer;\n",
       "  color: var(--xr-font-color2);\n",
       "}\n",
       "\n",
       ".xr-section-item input:enabled + label:hover {\n",
       "  color: var(--xr-font-color0);\n",
       "}\n",
       "\n",
       ".xr-section-summary {\n",
       "  grid-column: 1;\n",
       "  color: var(--xr-font-color2);\n",
       "  font-weight: 500;\n",
       "}\n",
       "\n",
       ".xr-section-summary > span {\n",
       "  display: inline-block;\n",
       "  padding-left: 0.5em;\n",
       "}\n",
       "\n",
       ".xr-section-summary-in:disabled + label {\n",
       "  color: var(--xr-font-color2);\n",
       "}\n",
       "\n",
       ".xr-section-summary-in + label:before {\n",
       "  display: inline-block;\n",
       "  content: '►';\n",
       "  font-size: 11px;\n",
       "  width: 15px;\n",
       "  text-align: center;\n",
       "}\n",
       "\n",
       ".xr-section-summary-in:disabled + label:before {\n",
       "  color: var(--xr-disabled-color);\n",
       "}\n",
       "\n",
       ".xr-section-summary-in:checked + label:before {\n",
       "  content: '▼';\n",
       "}\n",
       "\n",
       ".xr-section-summary-in:checked + label > span {\n",
       "  display: none;\n",
       "}\n",
       "\n",
       ".xr-section-summary,\n",
       ".xr-section-inline-details {\n",
       "  padding-top: 4px;\n",
       "  padding-bottom: 4px;\n",
       "}\n",
       "\n",
       ".xr-section-inline-details {\n",
       "  grid-column: 2 / -1;\n",
       "}\n",
       "\n",
       ".xr-section-details {\n",
       "  display: none;\n",
       "  grid-column: 1 / -1;\n",
       "  margin-bottom: 5px;\n",
       "}\n",
       "\n",
       ".xr-section-summary-in:checked ~ .xr-section-details {\n",
       "  display: contents;\n",
       "}\n",
       "\n",
       ".xr-array-wrap {\n",
       "  grid-column: 1 / -1;\n",
       "  display: grid;\n",
       "  grid-template-columns: 20px auto;\n",
       "}\n",
       "\n",
       ".xr-array-wrap > label {\n",
       "  grid-column: 1;\n",
       "  vertical-align: top;\n",
       "}\n",
       "\n",
       ".xr-preview {\n",
       "  color: var(--xr-font-color3);\n",
       "}\n",
       "\n",
       ".xr-array-preview,\n",
       ".xr-array-data {\n",
       "  padding: 0 5px !important;\n",
       "  grid-column: 2;\n",
       "}\n",
       "\n",
       ".xr-array-data,\n",
       ".xr-array-in:checked ~ .xr-array-preview {\n",
       "  display: none;\n",
       "}\n",
       "\n",
       ".xr-array-in:checked ~ .xr-array-data,\n",
       ".xr-array-preview {\n",
       "  display: inline-block;\n",
       "}\n",
       "\n",
       ".xr-dim-list {\n",
       "  display: inline-block !important;\n",
       "  list-style: none;\n",
       "  padding: 0 !important;\n",
       "  margin: 0;\n",
       "}\n",
       "\n",
       ".xr-dim-list li {\n",
       "  display: inline-block;\n",
       "  padding: 0;\n",
       "  margin: 0;\n",
       "}\n",
       "\n",
       ".xr-dim-list:before {\n",
       "  content: '(';\n",
       "}\n",
       "\n",
       ".xr-dim-list:after {\n",
       "  content: ')';\n",
       "}\n",
       "\n",
       ".xr-dim-list li:not(:last-child):after {\n",
       "  content: ',';\n",
       "  padding-right: 5px;\n",
       "}\n",
       "\n",
       ".xr-has-index {\n",
       "  font-weight: bold;\n",
       "}\n",
       "\n",
       ".xr-var-list,\n",
       ".xr-var-item {\n",
       "  display: contents;\n",
       "}\n",
       "\n",
       ".xr-var-item > div,\n",
       ".xr-var-item label,\n",
       ".xr-var-item > .xr-var-name span {\n",
       "  background-color: var(--xr-background-color-row-even);\n",
       "  margin-bottom: 0;\n",
       "}\n",
       "\n",
       ".xr-var-item > .xr-var-name:hover span {\n",
       "  padding-right: 5px;\n",
       "}\n",
       "\n",
       ".xr-var-list > li:nth-child(odd) > div,\n",
       ".xr-var-list > li:nth-child(odd) > label,\n",
       ".xr-var-list > li:nth-child(odd) > .xr-var-name span {\n",
       "  background-color: var(--xr-background-color-row-odd);\n",
       "}\n",
       "\n",
       ".xr-var-name {\n",
       "  grid-column: 1;\n",
       "}\n",
       "\n",
       ".xr-var-dims {\n",
       "  grid-column: 2;\n",
       "}\n",
       "\n",
       ".xr-var-dtype {\n",
       "  grid-column: 3;\n",
       "  text-align: right;\n",
       "  color: var(--xr-font-color2);\n",
       "}\n",
       "\n",
       ".xr-var-preview {\n",
       "  grid-column: 4;\n",
       "}\n",
       "\n",
       ".xr-index-preview {\n",
       "  grid-column: 2 / 5;\n",
       "  color: var(--xr-font-color2);\n",
       "}\n",
       "\n",
       ".xr-var-name,\n",
       ".xr-var-dims,\n",
       ".xr-var-dtype,\n",
       ".xr-preview,\n",
       ".xr-attrs dt {\n",
       "  white-space: nowrap;\n",
       "  overflow: hidden;\n",
       "  text-overflow: ellipsis;\n",
       "  padding-right: 10px;\n",
       "}\n",
       "\n",
       ".xr-var-name:hover,\n",
       ".xr-var-dims:hover,\n",
       ".xr-var-dtype:hover,\n",
       ".xr-attrs dt:hover {\n",
       "  overflow: visible;\n",
       "  width: auto;\n",
       "  z-index: 1;\n",
       "}\n",
       "\n",
       ".xr-var-attrs,\n",
       ".xr-var-data,\n",
       ".xr-index-data {\n",
       "  display: none;\n",
       "  background-color: var(--xr-background-color) !important;\n",
       "  padding-bottom: 5px !important;\n",
       "}\n",
       "\n",
       ".xr-var-attrs-in:checked ~ .xr-var-attrs,\n",
       ".xr-var-data-in:checked ~ .xr-var-data,\n",
       ".xr-index-data-in:checked ~ .xr-index-data {\n",
       "  display: block;\n",
       "}\n",
       "\n",
       ".xr-var-data > table {\n",
       "  float: right;\n",
       "}\n",
       "\n",
       ".xr-var-name span,\n",
       ".xr-var-data,\n",
       ".xr-index-name div,\n",
       ".xr-index-data,\n",
       ".xr-attrs {\n",
       "  padding-left: 25px !important;\n",
       "}\n",
       "\n",
       ".xr-attrs,\n",
       ".xr-var-attrs,\n",
       ".xr-var-data,\n",
       ".xr-index-data {\n",
       "  grid-column: 1 / -1;\n",
       "}\n",
       "\n",
       "dl.xr-attrs {\n",
       "  padding: 0;\n",
       "  margin: 0;\n",
       "  display: grid;\n",
       "  grid-template-columns: 125px auto;\n",
       "}\n",
       "\n",
       ".xr-attrs dt,\n",
       ".xr-attrs dd {\n",
       "  padding: 0;\n",
       "  margin: 0;\n",
       "  float: left;\n",
       "  padding-right: 10px;\n",
       "  width: auto;\n",
       "}\n",
       "\n",
       ".xr-attrs dt {\n",
       "  font-weight: normal;\n",
       "  grid-column: 1;\n",
       "}\n",
       "\n",
       ".xr-attrs dt:hover span {\n",
       "  display: inline-block;\n",
       "  background: var(--xr-background-color);\n",
       "  padding-right: 10px;\n",
       "}\n",
       "\n",
       ".xr-attrs dd {\n",
       "  grid-column: 2;\n",
       "  white-space: pre-wrap;\n",
       "  word-break: break-all;\n",
       "}\n",
       "\n",
       ".xr-icon-database,\n",
       ".xr-icon-file-text2,\n",
       ".xr-no-icon {\n",
       "  display: inline-block;\n",
       "  vertical-align: middle;\n",
       "  width: 1em;\n",
       "  height: 1.5em !important;\n",
       "  stroke-width: 0;\n",
       "  stroke: currentColor;\n",
       "  fill: currentColor;\n",
       "}\n",
       "</style><pre class='xr-text-repr-fallback'>&lt;xarray.Dataset&gt;\n",
       "Dimensions:             (num_lines: 290, num_pixels: 69, cycle: 98)\n",
       "Coordinates:\n",
       "    latitude            (num_lines, num_pixels) float64 -15.99 -15.99 ... -11.01\n",
       "    longitude           (num_lines, num_pixels) float64 122.2 122.3 ... 124.3\n",
       "    latitude_nadir      (cycle, num_lines) float64 -16.08 -16.07 ... -10.92\n",
       "    longitude_nadir     (cycle, num_lines) float64 122.9 122.9 ... 123.7 123.7\n",
       "  * cycle               (cycle) int64 476 478 479 480 481 ... 574 575 576 577\n",
       "Dimensions without coordinates: num_lines, num_pixels\n",
       "Data variables:\n",
       "    ssha_l3             (cycle, num_lines, num_pixels) float64 nan nan ... nan\n",
       "    ssha_l2             (cycle, num_lines, num_pixels) float64 nan nan ... nan\n",
       "    ssha_l2_l3_all      (cycle, num_lines, num_pixels) float64 nan nan ... nan\n",
       "    ssha_l2_l3_dynamic  (cycle, num_lines, num_pixels) float64 nan nan ... nan\n",
       "    time                (cycle, num_lines, num_pixels) datetime64[ns] 2023-03...\n",
       "Attributes:\n",
       "    l2_version:    V1.2.1\n",
       "    l3_version:    1.0\n",
       "    l2_file:       /home/jupyter-mrayson/data/SWOT/l2_karin_v1_0/cycle_476/SW...\n",
       "    l3_file:       /home/jupyter-mrayson/data/SWOT/l3_karin_nadir_v1_0/cycle_...\n",
       "    quality_flag:  good</pre><div class='xr-wrap' style='display:none'><div class='xr-header'><div class='xr-obj-type'>xarray.Dataset</div></div><ul class='xr-sections'><li class='xr-section-item'><input id='section-8a18656a-761e-4801-ac86-9a8cfbb81902' class='xr-section-summary-in' type='checkbox' disabled ><label for='section-8a18656a-761e-4801-ac86-9a8cfbb81902' class='xr-section-summary'  title='Expand/collapse section'>Dimensions:</label><div class='xr-section-inline-details'><ul class='xr-dim-list'><li><span>num_lines</span>: 290</li><li><span>num_pixels</span>: 69</li><li><span class='xr-has-index'>cycle</span>: 98</li></ul></div><div class='xr-section-details'></div></li><li class='xr-section-item'><input id='section-5eba1c26-a842-4ff3-ba75-1ea72ffe841d' class='xr-section-summary-in' type='checkbox'  checked><label for='section-5eba1c26-a842-4ff3-ba75-1ea72ffe841d' class='xr-section-summary' >Coordinates: <span>(5)</span></label><div class='xr-section-inline-details'></div><div class='xr-section-details'><ul class='xr-var-list'><li class='xr-var-item'><div class='xr-var-name'><span>latitude</span></div><div class='xr-var-dims'>(num_lines, num_pixels)</div><div class='xr-var-dtype'>float64</div><div class='xr-var-preview xr-preview'>-15.99 -15.99 ... -11.01 -11.01</div><input id='attrs-ee10f420-9582-48ef-ae19-42a33788e279' class='xr-var-attrs-in' type='checkbox' ><label for='attrs-ee10f420-9582-48ef-ae19-42a33788e279' title='Show/Hide attributes'><svg class='icon xr-icon-file-text2'><use xlink:href='#icon-file-text2'></use></svg></label><input id='data-81bbf868-850e-43c8-a99a-9074d83c1ebf' class='xr-var-data-in' type='checkbox'><label for='data-81bbf868-850e-43c8-a99a-9074d83c1ebf' title='Show/Hide data repr'><svg class='icon xr-icon-database'><use xlink:href='#icon-database'></use></svg></label><div class='xr-var-attrs'><dl class='xr-attrs'><dt><span>comment :</span></dt><dd>Latitude of measurement [-80,80]. Positive latitude is North latitude, negative latitude is South latitude.</dd><dt><span>long_name :</span></dt><dd>latitude (positive N, negative S)</dd><dt><span>standard_name :</span></dt><dd>latitude</dd><dt><span>units :</span></dt><dd>degrees_north</dd></dl></div><div class='xr-var-data'><pre>array([[-15.985795, -15.988684, -15.991571, ..., -16.173025, -16.175808,\n",
       "        -16.178589],\n",
       "       [-15.967963, -15.970851, -15.973737, ..., -16.155161, -16.157944,\n",
       "        -16.160725],\n",
       "       [-15.950131, -15.953018, -15.955904, ..., -16.137297, -16.14008 ,\n",
       "        -16.142861],\n",
       "       ...,\n",
       "       [-10.863322, -10.866081, -10.868838, ..., -11.043111, -11.045799,\n",
       "        -11.048485],\n",
       "       [-10.845459, -10.848218, -10.850975, ..., -11.025227, -11.027915,\n",
       "        -11.030602],\n",
       "       [-10.827596, -10.830354, -10.833111, ..., -11.007344, -11.010031,\n",
       "        -11.012718]])</pre></div></li><li class='xr-var-item'><div class='xr-var-name'><span>longitude</span></div><div class='xr-var-dims'>(num_lines, num_pixels)</div><div class='xr-var-dtype'>float64</div><div class='xr-var-preview xr-preview'>122.2 122.3 122.3 ... 124.3 124.3</div><input id='attrs-f0f42555-552a-4d46-94bd-d636a641ea20' class='xr-var-attrs-in' type='checkbox' ><label for='attrs-f0f42555-552a-4d46-94bd-d636a641ea20' title='Show/Hide attributes'><svg class='icon xr-icon-file-text2'><use xlink:href='#icon-file-text2'></use></svg></label><input id='data-0818589e-7900-4566-aa3c-0fc0798ac8d1' class='xr-var-data-in' type='checkbox'><label for='data-0818589e-7900-4566-aa3c-0fc0798ac8d1' title='Show/Hide data repr'><svg class='icon xr-icon-database'><use xlink:href='#icon-database'></use></svg></label><div class='xr-var-attrs'><dl class='xr-attrs'><dt><span>comment :</span></dt><dd>Longitude of measurement. East longitude relative to Greenwich meridian.</dd><dt><span>long_name :</span></dt><dd>longitude (degrees East)</dd><dt><span>standard_name :</span></dt><dd>longitude</dd><dt><span>units :</span></dt><dd>degrees_east</dd></dl></div><div class='xr-var-data'><pre>array([[122.236439, 122.254883, 122.273328, ..., 123.454886, 123.473365,\n",
       "        123.491844],\n",
       "       [122.239426, 122.257868, 122.276312, ..., 123.45777 , 123.476247,\n",
       "        123.494724],\n",
       "       [122.242412, 122.260853, 122.279295, ..., 123.460653, 123.479128,\n",
       "        123.497604],\n",
       "       ...,\n",
       "       [123.064031, 123.082109, 123.100187, ..., 124.25788 , 124.27598 ,\n",
       "        124.29408 ],\n",
       "       [123.066823, 123.0849  , 123.102977, ..., 124.260605, 124.278703,\n",
       "        124.296802],\n",
       "       [123.069615, 123.087691, 123.105767, ..., 124.263328, 124.281426,\n",
       "        124.299524]])</pre></div></li><li class='xr-var-item'><div class='xr-var-name'><span>latitude_nadir</span></div><div class='xr-var-dims'>(cycle, num_lines)</div><div class='xr-var-dtype'>float64</div><div class='xr-var-preview xr-preview'>-16.08 -16.07 ... -10.94 -10.92</div><input id='attrs-7ae91801-e615-423b-bbeb-7f0aad209b6f' class='xr-var-attrs-in' type='checkbox' ><label for='attrs-7ae91801-e615-423b-bbeb-7f0aad209b6f' title='Show/Hide attributes'><svg class='icon xr-icon-file-text2'><use xlink:href='#icon-file-text2'></use></svg></label><input id='data-e2a60226-ab8d-495a-a56f-0b99590b6ab5' class='xr-var-data-in' type='checkbox'><label for='data-e2a60226-ab8d-495a-a56f-0b99590b6ab5' title='Show/Hide data repr'><svg class='icon xr-icon-database'><use xlink:href='#icon-database'></use></svg></label><div class='xr-var-attrs'><dl class='xr-attrs'><dt><span>long_name :</span></dt><dd>latitude of satellite nadir point</dd><dt><span>standard_name :</span></dt><dd>latitude</dd><dt><span>units :</span></dt><dd>degrees_north</dd><dt><span>quality_flag :</span></dt><dd>orbit_qual</dd><dt><span>valid_min :</span></dt><dd>-80000000</dd><dt><span>valid_max :</span></dt><dd>80000000</dd><dt><span>comment :</span></dt><dd>Geodetic latitude [-80,80] (degrees north of equator) of the satellite nadir point.</dd></dl></div><div class='xr-var-data'><pre>array([[-16.084833, -16.06698 , -16.049134, ..., -10.957932, -10.940061,\n",
       "        -10.922174],\n",
       "       [-16.08503 , -16.067182, -16.049328, ..., -10.958141, -10.940261,\n",
       "        -10.922389],\n",
       "       [-16.08501 , -16.067159, -16.049313, ..., -10.958121, -10.940251,\n",
       "        -10.922374],\n",
       "       ...,\n",
       "       [-16.083024, -16.065179, -16.047325, ..., -10.956537, -10.938666,\n",
       "        -10.920785],\n",
       "       [-16.083126, -16.065272, -16.047424, ..., -10.956513, -10.938637,\n",
       "        -10.920767],\n",
       "       [-16.083258, -16.065413, -16.047552, ..., -10.956504, -10.938639,\n",
       "        -10.920772]])</pre></div></li><li class='xr-var-item'><div class='xr-var-name'><span>longitude_nadir</span></div><div class='xr-var-dims'>(cycle, num_lines)</div><div class='xr-var-dtype'>float64</div><div class='xr-var-preview xr-preview'>122.9 122.9 122.9 ... 123.7 123.7</div><input id='attrs-e6eeed44-bc9a-4c84-a8de-6927accc8d99' class='xr-var-attrs-in' type='checkbox' ><label for='attrs-e6eeed44-bc9a-4c84-a8de-6927accc8d99' title='Show/Hide attributes'><svg class='icon xr-icon-file-text2'><use xlink:href='#icon-file-text2'></use></svg></label><input id='data-8378d217-52c6-463d-884a-33c23e016d8e' class='xr-var-data-in' type='checkbox'><label for='data-8378d217-52c6-463d-884a-33c23e016d8e' title='Show/Hide data repr'><svg class='icon xr-icon-database'><use xlink:href='#icon-database'></use></svg></label><div class='xr-var-attrs'><dl class='xr-attrs'><dt><span>long_name :</span></dt><dd>longitude of satellite nadir point</dd><dt><span>standard_name :</span></dt><dd>longitude</dd><dt><span>units :</span></dt><dd>degrees_east</dd><dt><span>quality_flag :</span></dt><dd>orbit_qual</dd><dt><span>valid_min :</span></dt><dd>0</dd><dt><span>valid_max :</span></dt><dd>359999999</dd><dt><span>comment :</span></dt><dd>Longitude (degrees east of Grenwich meridian) of the satellite nadir point.</dd></dl></div><div class='xr-var-data'><pre>array([[122.87416 , 122.877093, 122.880023, ..., 123.688516, 123.69127 ,\n",
       "        123.694027],\n",
       "       [122.874771, 122.877703, 122.880634, ..., 123.689076, 123.691831,\n",
       "        123.694585],\n",
       "       [122.87525 , 122.878182, 122.881112, ..., 123.689539, 123.692293,\n",
       "        123.695048],\n",
       "       ...,\n",
       "       [122.864468, 122.867397, 122.870328, ..., 123.678392, 123.681146,\n",
       "        123.6839  ],\n",
       "       [122.864566, 122.867497, 122.870426, ..., 123.678479, 123.681233,\n",
       "        123.683986],\n",
       "       [122.864883, 122.867813, 122.870744, ..., 123.678789, 123.681541,\n",
       "        123.684293]])</pre></div></li><li class='xr-var-item'><div class='xr-var-name'><span class='xr-has-index'>cycle</span></div><div class='xr-var-dims'>(cycle)</div><div class='xr-var-dtype'>int64</div><div class='xr-var-preview xr-preview'>476 478 479 480 ... 574 575 576 577</div><input id='attrs-ed35b702-1f53-413b-b385-813224ece54f' class='xr-var-attrs-in' type='checkbox' disabled><label for='attrs-ed35b702-1f53-413b-b385-813224ece54f' title='Show/Hide attributes'><svg class='icon xr-icon-file-text2'><use xlink:href='#icon-file-text2'></use></svg></label><input id='data-e379eeef-cf84-4026-81d8-24f11db849fd' class='xr-var-data-in' type='checkbox'><label for='data-e379eeef-cf84-4026-81d8-24f11db849fd' title='Show/Hide data repr'><svg class='icon xr-icon-database'><use xlink:href='#icon-database'></use></svg></label><div class='xr-var-attrs'><dl class='xr-attrs'></dl></div><div class='xr-var-data'><pre>array([476, 478, 479, 480, 481, 482, 483, 484, 485, 486, 487, 488, 489, 490,\n",
       "       491, 492, 493, 494, 495, 496, 497, 498, 499, 500, 501, 502, 503, 504,\n",
       "       505, 506, 507, 508, 509, 510, 511, 512, 513, 514, 515, 516, 517, 518,\n",
       "       519, 520, 521, 522, 523, 524, 525, 529, 530, 531, 532, 533, 534, 535,\n",
       "       536, 537, 538, 539, 540, 541, 542, 543, 544, 545, 546, 547, 548, 549,\n",
       "       550, 551, 552, 553, 554, 555, 556, 557, 558, 559, 560, 561, 562, 563,\n",
       "       564, 565, 566, 567, 568, 569, 570, 571, 572, 573, 574, 575, 576, 577])</pre></div></li></ul></div></li><li class='xr-section-item'><input id='section-f9217e9a-99a8-4142-a0c8-22f565b3c98a' class='xr-section-summary-in' type='checkbox'  checked><label for='section-f9217e9a-99a8-4142-a0c8-22f565b3c98a' class='xr-section-summary' >Data variables: <span>(5)</span></label><div class='xr-section-inline-details'></div><div class='xr-section-details'><ul class='xr-var-list'><li class='xr-var-item'><div class='xr-var-name'><span>ssha_l3</span></div><div class='xr-var-dims'>(cycle, num_lines, num_pixels)</div><div class='xr-var-dtype'>float64</div><div class='xr-var-preview xr-preview'>nan nan nan nan ... nan nan nan nan</div><input id='attrs-991c4f41-09f9-4d89-8f47-6ef87554180b' class='xr-var-attrs-in' type='checkbox' ><label for='attrs-991c4f41-09f9-4d89-8f47-6ef87554180b' title='Show/Hide attributes'><svg class='icon xr-icon-file-text2'><use xlink:href='#icon-file-text2'></use></svg></label><input id='data-78339415-b225-4757-a34b-1ffb059dc03f' class='xr-var-data-in' type='checkbox'><label for='data-78339415-b225-4757-a34b-1ffb059dc03f' title='Show/Hide data repr'><svg class='icon xr-icon-database'><use xlink:href='#icon-database'></use></svg></label><div class='xr-var-attrs'><dl class='xr-attrs'><dt><span>long_name :</span></dt><dd>sea surface height anomaly</dd><dt><span>standard_name :</span></dt><dd>sea_surface_height_above_reference_ellipsoid</dd><dt><span>comment :</span></dt><dd>Height of the sea surface anomaly with all corrections applied.</dd><dt><span>units :</span></dt><dd>m</dd></dl></div><div class='xr-var-data'><pre>array([[[nan, nan, nan, ..., nan, nan, nan],\n",
       "        [nan, nan, nan, ..., nan, nan, nan],\n",
       "        [nan, nan, nan, ..., nan, nan, nan],\n",
       "        ...,\n",
       "        [nan, nan, nan, ..., nan, nan, nan],\n",
       "        [nan, nan, nan, ..., nan, nan, nan],\n",
       "        [nan, nan, nan, ..., nan, nan, nan]],\n",
       "\n",
       "       [[nan, nan, nan, ..., nan, nan, nan],\n",
       "        [nan, nan, nan, ..., nan, nan, nan],\n",
       "        [nan, nan, nan, ..., nan, nan, nan],\n",
       "        ...,\n",
       "        [nan, nan, nan, ..., nan, nan, nan],\n",
       "        [nan, nan, nan, ..., nan, nan, nan],\n",
       "        [nan, nan, nan, ..., nan, nan, nan]],\n",
       "\n",
       "       [[nan, nan, nan, ..., nan, nan, nan],\n",
       "        [nan, nan, nan, ..., nan, nan, nan],\n",
       "        [nan, nan, nan, ..., nan, nan, nan],\n",
       "        ...,\n",
       "...\n",
       "        ...,\n",
       "        [nan, nan, nan, ..., nan, nan, nan],\n",
       "        [nan, nan, nan, ..., nan, nan, nan],\n",
       "        [nan, nan, nan, ..., nan, nan, nan]],\n",
       "\n",
       "       [[nan, nan, nan, ..., nan, nan, nan],\n",
       "        [nan, nan, nan, ..., nan, nan, nan],\n",
       "        [nan, nan, nan, ..., nan, nan, nan],\n",
       "        ...,\n",
       "        [nan, nan, nan, ..., nan, nan, nan],\n",
       "        [nan, nan, nan, ..., nan, nan, nan],\n",
       "        [nan, nan, nan, ..., nan, nan, nan]],\n",
       "\n",
       "       [[nan, nan, nan, ..., nan, nan, nan],\n",
       "        [nan, nan, nan, ..., nan, nan, nan],\n",
       "        [nan, nan, nan, ..., nan, nan, nan],\n",
       "        ...,\n",
       "        [nan, nan, nan, ..., nan, nan, nan],\n",
       "        [nan, nan, nan, ..., nan, nan, nan],\n",
       "        [nan, nan, nan, ..., nan, nan, nan]]])</pre></div></li><li class='xr-var-item'><div class='xr-var-name'><span>ssha_l2</span></div><div class='xr-var-dims'>(cycle, num_lines, num_pixels)</div><div class='xr-var-dtype'>float64</div><div class='xr-var-preview xr-preview'>nan nan nan nan ... nan nan nan nan</div><input id='attrs-3b130d31-ef21-4a59-92fa-17af0e7a165e' class='xr-var-attrs-in' type='checkbox' ><label for='attrs-3b130d31-ef21-4a59-92fa-17af0e7a165e' title='Show/Hide attributes'><svg class='icon xr-icon-file-text2'><use xlink:href='#icon-file-text2'></use></svg></label><input id='data-17e39dfd-c15c-4e1b-9596-4147e56eeff5' class='xr-var-data-in' type='checkbox'><label for='data-17e39dfd-c15c-4e1b-9596-4147e56eeff5' title='Show/Hide data repr'><svg class='icon xr-icon-database'><use xlink:href='#icon-database'></use></svg></label><div class='xr-var-attrs'><dl class='xr-attrs'><dt><span>long_name :</span></dt><dd>sea surface height anomaly</dd><dt><span>standard_name :</span></dt><dd>sea_surface_height_above_reference_ellipsoid</dd><dt><span>comment :</span></dt><dd>ds_l2[&#x27;ssha_karin_2&#x27;] + ds_l2[&#x27;height_cor_xover&#x27;]</dd><dt><span>units :</span></dt><dd>m</dd></dl></div><div class='xr-var-data'><pre>array([[[nan, nan, nan, ..., nan, nan, nan],\n",
       "        [nan, nan, nan, ..., nan, nan, nan],\n",
       "        [nan, nan, nan, ..., nan, nan, nan],\n",
       "        ...,\n",
       "        [nan, nan, nan, ..., nan, nan, nan],\n",
       "        [nan, nan, nan, ..., nan, nan, nan],\n",
       "        [nan, nan, nan, ..., nan, nan, nan]],\n",
       "\n",
       "       [[nan, nan, nan, ..., nan, nan, nan],\n",
       "        [nan, nan, nan, ..., nan, nan, nan],\n",
       "        [nan, nan, nan, ..., nan, nan, nan],\n",
       "        ...,\n",
       "        [nan, nan, nan, ..., nan, nan, nan],\n",
       "        [nan, nan, nan, ..., nan, nan, nan],\n",
       "        [nan, nan, nan, ..., nan, nan, nan]],\n",
       "\n",
       "       [[nan, nan, nan, ..., nan, nan, nan],\n",
       "        [nan, nan, nan, ..., nan, nan, nan],\n",
       "        [nan, nan, nan, ..., nan, nan, nan],\n",
       "        ...,\n",
       "...\n",
       "        ...,\n",
       "        [nan, nan, nan, ..., nan, nan, nan],\n",
       "        [nan, nan, nan, ..., nan, nan, nan],\n",
       "        [nan, nan, nan, ..., nan, nan, nan]],\n",
       "\n",
       "       [[nan, nan, nan, ..., nan, nan, nan],\n",
       "        [nan, nan, nan, ..., nan, nan, nan],\n",
       "        [nan, nan, nan, ..., nan, nan, nan],\n",
       "        ...,\n",
       "        [nan, nan, nan, ..., nan, nan, nan],\n",
       "        [nan, nan, nan, ..., nan, nan, nan],\n",
       "        [nan, nan, nan, ..., nan, nan, nan]],\n",
       "\n",
       "       [[nan, nan, nan, ..., nan, nan, nan],\n",
       "        [nan, nan, nan, ..., nan, nan, nan],\n",
       "        [nan, nan, nan, ..., nan, nan, nan],\n",
       "        ...,\n",
       "        [nan, nan, nan, ..., nan, nan, nan],\n",
       "        [nan, nan, nan, ..., nan, nan, nan],\n",
       "        [nan, nan, nan, ..., nan, nan, nan]]])</pre></div></li><li class='xr-var-item'><div class='xr-var-name'><span>ssha_l2_l3_all</span></div><div class='xr-var-dims'>(cycle, num_lines, num_pixels)</div><div class='xr-var-dtype'>float64</div><div class='xr-var-preview xr-preview'>nan nan nan nan ... nan nan nan nan</div><input id='attrs-dcd9560b-45db-4eb3-bfb1-fcf29312cbaa' class='xr-var-attrs-in' type='checkbox' ><label for='attrs-dcd9560b-45db-4eb3-bfb1-fcf29312cbaa' title='Show/Hide attributes'><svg class='icon xr-icon-file-text2'><use xlink:href='#icon-file-text2'></use></svg></label><input id='data-8b27a1e0-cdf9-4eb1-be7f-6a85aff25882' class='xr-var-data-in' type='checkbox'><label for='data-8b27a1e0-cdf9-4eb1-be7f-6a85aff25882' title='Show/Hide data repr'><svg class='icon xr-icon-database'><use xlink:href='#icon-database'></use></svg></label><div class='xr-var-attrs'><dl class='xr-attrs'><dt><span>comment :</span></dt><dd>ssha = ds_l2[&#x27;ssh_karin_2&#x27;]            + ds_l3[&#x27;calibration&#x27;]            - ds_l3[&#x27;mss&#x27;]             - ds_l2[&#x27;solid_earth_tide&#x27;]            - ds_l3[&#x27;ocean_tide&#x27;]            - ds_l2[&#x27;pole_tide&#x27;]            - ds_l2[&#x27;dac&#x27;]        </dd></dl></div><div class='xr-var-data'><pre>array([[[nan, nan, nan, ..., nan, nan, nan],\n",
       "        [nan, nan, nan, ..., nan, nan, nan],\n",
       "        [nan, nan, nan, ..., nan, nan, nan],\n",
       "        ...,\n",
       "        [nan, nan, nan, ..., nan, nan, nan],\n",
       "        [nan, nan, nan, ..., nan, nan, nan],\n",
       "        [nan, nan, nan, ..., nan, nan, nan]],\n",
       "\n",
       "       [[nan, nan, nan, ..., nan, nan, nan],\n",
       "        [nan, nan, nan, ..., nan, nan, nan],\n",
       "        [nan, nan, nan, ..., nan, nan, nan],\n",
       "        ...,\n",
       "        [nan, nan, nan, ..., nan, nan, nan],\n",
       "        [nan, nan, nan, ..., nan, nan, nan],\n",
       "        [nan, nan, nan, ..., nan, nan, nan]],\n",
       "\n",
       "       [[nan, nan, nan, ..., nan, nan, nan],\n",
       "        [nan, nan, nan, ..., nan, nan, nan],\n",
       "        [nan, nan, nan, ..., nan, nan, nan],\n",
       "        ...,\n",
       "...\n",
       "        ...,\n",
       "        [nan, nan, nan, ..., nan, nan, nan],\n",
       "        [nan, nan, nan, ..., nan, nan, nan],\n",
       "        [nan, nan, nan, ..., nan, nan, nan]],\n",
       "\n",
       "       [[nan, nan, nan, ..., nan, nan, nan],\n",
       "        [nan, nan, nan, ..., nan, nan, nan],\n",
       "        [nan, nan, nan, ..., nan, nan, nan],\n",
       "        ...,\n",
       "        [nan, nan, nan, ..., nan, nan, nan],\n",
       "        [nan, nan, nan, ..., nan, nan, nan],\n",
       "        [nan, nan, nan, ..., nan, nan, nan]],\n",
       "\n",
       "       [[nan, nan, nan, ..., nan, nan, nan],\n",
       "        [nan, nan, nan, ..., nan, nan, nan],\n",
       "        [nan, nan, nan, ..., nan, nan, nan],\n",
       "        ...,\n",
       "        [nan, nan, nan, ..., nan, nan, nan],\n",
       "        [nan, nan, nan, ..., nan, nan, nan],\n",
       "        [nan, nan, nan, ..., nan, nan, nan]]])</pre></div></li><li class='xr-var-item'><div class='xr-var-name'><span>ssha_l2_l3_dynamic</span></div><div class='xr-var-dims'>(cycle, num_lines, num_pixels)</div><div class='xr-var-dtype'>float64</div><div class='xr-var-preview xr-preview'>nan nan nan nan ... nan nan nan nan</div><input id='attrs-d5b49dc4-0b49-447e-981a-e83a56fca1b4' class='xr-var-attrs-in' type='checkbox' ><label for='attrs-d5b49dc4-0b49-447e-981a-e83a56fca1b4' title='Show/Hide attributes'><svg class='icon xr-icon-file-text2'><use xlink:href='#icon-file-text2'></use></svg></label><input id='data-f76fb1d2-0893-4f33-8922-a9dd859432e0' class='xr-var-data-in' type='checkbox'><label for='data-f76fb1d2-0893-4f33-8922-a9dd859432e0' title='Show/Hide data repr'><svg class='icon xr-icon-database'><use xlink:href='#icon-database'></use></svg></label><div class='xr-var-attrs'><dl class='xr-attrs'><dt><span>comment :</span></dt><dd>ssha = ds_l2[&#x27;ssh_karin_2&#x27;]            + ds_l2[&#x27;height_cor_xover&#x27;]            - ds_l3[&#x27;mss&#x27;]             - ds_l2[&#x27;solid_earth_tide&#x27;]            - ds_l3[&#x27;ocean_tide&#x27;]            - ds_l2[&#x27;pole_tide&#x27;]            - ds_l2[&#x27;dac&#x27;]        </dd></dl></div><div class='xr-var-data'><pre>array([[[nan, nan, nan, ..., nan, nan, nan],\n",
       "        [nan, nan, nan, ..., nan, nan, nan],\n",
       "        [nan, nan, nan, ..., nan, nan, nan],\n",
       "        ...,\n",
       "        [nan, nan, nan, ..., nan, nan, nan],\n",
       "        [nan, nan, nan, ..., nan, nan, nan],\n",
       "        [nan, nan, nan, ..., nan, nan, nan]],\n",
       "\n",
       "       [[nan, nan, nan, ..., nan, nan, nan],\n",
       "        [nan, nan, nan, ..., nan, nan, nan],\n",
       "        [nan, nan, nan, ..., nan, nan, nan],\n",
       "        ...,\n",
       "        [nan, nan, nan, ..., nan, nan, nan],\n",
       "        [nan, nan, nan, ..., nan, nan, nan],\n",
       "        [nan, nan, nan, ..., nan, nan, nan]],\n",
       "\n",
       "       [[nan, nan, nan, ..., nan, nan, nan],\n",
       "        [nan, nan, nan, ..., nan, nan, nan],\n",
       "        [nan, nan, nan, ..., nan, nan, nan],\n",
       "        ...,\n",
       "...\n",
       "        ...,\n",
       "        [nan, nan, nan, ..., nan, nan, nan],\n",
       "        [nan, nan, nan, ..., nan, nan, nan],\n",
       "        [nan, nan, nan, ..., nan, nan, nan]],\n",
       "\n",
       "       [[nan, nan, nan, ..., nan, nan, nan],\n",
       "        [nan, nan, nan, ..., nan, nan, nan],\n",
       "        [nan, nan, nan, ..., nan, nan, nan],\n",
       "        ...,\n",
       "        [nan, nan, nan, ..., nan, nan, nan],\n",
       "        [nan, nan, nan, ..., nan, nan, nan],\n",
       "        [nan, nan, nan, ..., nan, nan, nan]],\n",
       "\n",
       "       [[nan, nan, nan, ..., nan, nan, nan],\n",
       "        [nan, nan, nan, ..., nan, nan, nan],\n",
       "        [nan, nan, nan, ..., nan, nan, nan],\n",
       "        ...,\n",
       "        [nan, nan, nan, ..., nan, nan, nan],\n",
       "        [nan, nan, nan, ..., nan, nan, nan],\n",
       "        [nan, nan, nan, ..., nan, nan, nan]]])</pre></div></li><li class='xr-var-item'><div class='xr-var-name'><span>time</span></div><div class='xr-var-dims'>(cycle, num_lines, num_pixels)</div><div class='xr-var-dtype'>datetime64[ns]</div><div class='xr-var-preview xr-preview'>2023-03-31T15:06:09.229765248 .....</div><input id='attrs-2a6170fb-4062-414e-8f48-8e32db8d4a94' class='xr-var-attrs-in' type='checkbox' ><label for='attrs-2a6170fb-4062-414e-8f48-8e32db8d4a94' title='Show/Hide attributes'><svg class='icon xr-icon-file-text2'><use xlink:href='#icon-file-text2'></use></svg></label><input id='data-39124dc9-e4dc-4c89-9911-b8ba639baf7b' class='xr-var-data-in' type='checkbox'><label for='data-39124dc9-e4dc-4c89-9911-b8ba639baf7b' title='Show/Hide data repr'><svg class='icon xr-icon-database'><use xlink:href='#icon-database'></use></svg></label><div class='xr-var-attrs'><dl class='xr-attrs'><dt><span>long_name :</span></dt><dd>time in UTC</dd><dt><span>standard_name :</span></dt><dd>time</dd><dt><span>tai_utc_difference :</span></dt><dd>37.0</dd><dt><span>leap_second :</span></dt><dd>0000-00-00T00:00:00Z</dd><dt><span>comment :</span></dt><dd>Time of measurement in seconds in the UTC time scale since 1 Jan 2000 00:00:00 UTC. [tai_utc_difference] is the difference between TAI and UTC reference time (seconds) for the first measurement of the data set. If a leap second occurs within the data set, the attribute leap_second is set to the UTC time at which the leap second occurs.</dd></dl></div><div class='xr-var-data'><pre>array([[[&#x27;2023-03-31T15:06:09.229765248&#x27;,\n",
       "         &#x27;2023-03-31T15:06:09.229765248&#x27;,\n",
       "         &#x27;2023-03-31T15:06:09.229765248&#x27;, ...,\n",
       "                                   &#x27;NaT&#x27;,\n",
       "                                   &#x27;NaT&#x27;,\n",
       "                                   &#x27;NaT&#x27;],\n",
       "        [&#x27;2023-03-31T15:06:09.540318080&#x27;,\n",
       "         &#x27;2023-03-31T15:06:09.540318080&#x27;,\n",
       "         &#x27;2023-03-31T15:06:09.540318080&#x27;, ...,\n",
       "                                   &#x27;NaT&#x27;,\n",
       "                                   &#x27;NaT&#x27;,\n",
       "                                   &#x27;NaT&#x27;],\n",
       "        [&#x27;2023-03-31T15:06:09.850755456&#x27;,\n",
       "         &#x27;2023-03-31T15:06:09.850755456&#x27;,\n",
       "         &#x27;2023-03-31T15:06:09.850755456&#x27;, ...,\n",
       "                                   &#x27;NaT&#x27;,\n",
       "                                   &#x27;NaT&#x27;,\n",
       "                                   &#x27;NaT&#x27;],\n",
       "        ...,\n",
       "        [                          &#x27;NaT&#x27;,\n",
       "...\n",
       "                                   &#x27;NaT&#x27;],\n",
       "        ...,\n",
       "        [                          &#x27;NaT&#x27;,\n",
       "                                   &#x27;NaT&#x27;,\n",
       "                                   &#x27;NaT&#x27;, ...,\n",
       "         &#x27;2023-07-09T23:21:23.003266176&#x27;,\n",
       "         &#x27;2023-07-09T23:21:23.003266176&#x27;,\n",
       "         &#x27;2023-07-09T23:21:23.003266176&#x27;],\n",
       "        [                          &#x27;NaT&#x27;,\n",
       "                                   &#x27;NaT&#x27;,\n",
       "                                   &#x27;NaT&#x27;, ...,\n",
       "         &#x27;2023-07-09T23:21:23.313473024&#x27;,\n",
       "         &#x27;2023-07-09T23:21:23.313473024&#x27;,\n",
       "         &#x27;2023-07-09T23:21:23.313473024&#x27;],\n",
       "        [                          &#x27;NaT&#x27;,\n",
       "                                   &#x27;NaT&#x27;,\n",
       "                                   &#x27;NaT&#x27;, ...,\n",
       "         &#x27;2023-07-09T23:21:23.623709312&#x27;,\n",
       "         &#x27;2023-07-09T23:21:23.623709312&#x27;,\n",
       "         &#x27;2023-07-09T23:21:23.623709312&#x27;]]], dtype=&#x27;datetime64[ns]&#x27;)</pre></div></li></ul></div></li><li class='xr-section-item'><input id='section-3d4f026b-84a8-4c1b-ade0-e4ad33063638' class='xr-section-summary-in' type='checkbox'  ><label for='section-3d4f026b-84a8-4c1b-ade0-e4ad33063638' class='xr-section-summary' >Indexes: <span>(1)</span></label><div class='xr-section-inline-details'></div><div class='xr-section-details'><ul class='xr-var-list'><li class='xr-var-item'><div class='xr-index-name'><div>cycle</div></div><div class='xr-index-preview'>PandasIndex</div><div></div><input id='index-cd74fe57-a176-4cc4-85e1-ba3540278d42' class='xr-index-data-in' type='checkbox'/><label for='index-cd74fe57-a176-4cc4-85e1-ba3540278d42' title='Show/Hide index repr'><svg class='icon xr-icon-database'><use xlink:href='#icon-database'></use></svg></label><div class='xr-index-data'><pre>PandasIndex(Index([476, 478, 479, 480, 481, 482, 483, 484, 485, 486, 487, 488, 489, 490,\n",
       "       491, 492, 493, 494, 495, 496, 497, 498, 499, 500, 501, 502, 503, 504,\n",
       "       505, 506, 507, 508, 509, 510, 511, 512, 513, 514, 515, 516, 517, 518,\n",
       "       519, 520, 521, 522, 523, 524, 525, 529, 530, 531, 532, 533, 534, 535,\n",
       "       536, 537, 538, 539, 540, 541, 542, 543, 544, 545, 546, 547, 548, 549,\n",
       "       550, 551, 552, 553, 554, 555, 556, 557, 558, 559, 560, 561, 562, 563,\n",
       "       564, 565, 566, 567, 568, 569, 570, 571, 572, 573, 574, 575, 576, 577],\n",
       "      dtype=&#x27;int64&#x27;, name=&#x27;cycle&#x27;))</pre></div></li></ul></div></li><li class='xr-section-item'><input id='section-ca722a88-f6d0-4e0c-9df5-ac9b108bfba9' class='xr-section-summary-in' type='checkbox'  checked><label for='section-ca722a88-f6d0-4e0c-9df5-ac9b108bfba9' class='xr-section-summary' >Attributes: <span>(5)</span></label><div class='xr-section-inline-details'></div><div class='xr-section-details'><dl class='xr-attrs'><dt><span>l2_version :</span></dt><dd>V1.2.1</dd><dt><span>l3_version :</span></dt><dd>1.0</dd><dt><span>l2_file :</span></dt><dd>/home/jupyter-mrayson/data/SWOT/l2_karin_v1_0/cycle_476/SWOT_L2_LR_SSH_Expert_476_021_20230331T144512_20230331T153537_PGC0_02.nc</dd><dt><span>l3_file :</span></dt><dd>/home/jupyter-mrayson/data/SWOT/l3_karin_nadir_v1_0/cycle_476/SWOT_L3_LR_SSH_Expert_476_021_20230331T144513_20230331T153619_v1.0.nc</dd><dt><span>quality_flag :</span></dt><dd>good</dd></dl></div></li></ul></div></div>"
      ],
      "text/plain": [
       "<xarray.Dataset>\n",
       "Dimensions:             (num_lines: 290, num_pixels: 69, cycle: 98)\n",
       "Coordinates:\n",
       "    latitude            (num_lines, num_pixels) float64 -15.99 -15.99 ... -11.01\n",
       "    longitude           (num_lines, num_pixels) float64 122.2 122.3 ... 124.3\n",
       "    latitude_nadir      (cycle, num_lines) float64 -16.08 -16.07 ... -10.92\n",
       "    longitude_nadir     (cycle, num_lines) float64 122.9 122.9 ... 123.7 123.7\n",
       "  * cycle               (cycle) int64 476 478 479 480 481 ... 574 575 576 577\n",
       "Dimensions without coordinates: num_lines, num_pixels\n",
       "Data variables:\n",
       "    ssha_l3             (cycle, num_lines, num_pixels) float64 nan nan ... nan\n",
       "    ssha_l2             (cycle, num_lines, num_pixels) float64 nan nan ... nan\n",
       "    ssha_l2_l3_all      (cycle, num_lines, num_pixels) float64 nan nan ... nan\n",
       "    ssha_l2_l3_dynamic  (cycle, num_lines, num_pixels) float64 nan nan ... nan\n",
       "    time                (cycle, num_lines, num_pixels) datetime64[ns] 2023-03...\n",
       "Attributes:\n",
       "    l2_version:    V1.2.1\n",
       "    l3_version:    1.0\n",
       "    l2_file:       /home/jupyter-mrayson/data/SWOT/l2_karin_v1_0/cycle_476/SW...\n",
       "    l3_file:       /home/jupyter-mrayson/data/SWOT/l3_karin_nadir_v1_0/cycle_...\n",
       "    quality_flag:  good"
      ]
     },
     "execution_count": 8,
     "metadata": {},
     "output_type": "execute_result"
    }
   ],
   "source": [
    "import pandas as pd\n",
    "ncfiles = sorted(glob(f'/home/jupyter-mrayson/data/SWOT/l2_l3_combined/SWOT_L2L3_LR_SSH_*.nc'))\n",
    "\n",
    "myds = [xr.open_dataset(nc) for nc in ncfiles]\n",
    "\n",
    "dsall = xr.concat(myds, pd.Index(good_cycle, name='cycle'))\n",
    "dsall\n",
    "\n",
    "outfile = f'/home/jupyter-mrayson/data/SWOT/l2_l3_combined/SWOT_L2L3_LR_SSH_CALVAL_0{pass_no}_{region}.nc'\n",
    "dsall.to_netcdf(outfile)\n",
    "dsall"
   ]
  },
  {
   "cell_type": "code",
   "execution_count": 9,
   "id": "c2617afa-f720-4d8c-ba1d-d10d22ba5580",
   "metadata": {},
   "outputs": [
    {
     "name": "stdout",
     "output_type": "stream",
     "text": [
      "476\n",
      "478\n",
      "479\n",
      "480\n",
      "481\n",
      "482\n",
      "483\n",
      "484\n",
      "485\n",
      "486\n",
      "487\n",
      "488\n",
      "489\n",
      "490\n",
      "491\n",
      "492\n",
      "493\n",
      "494\n",
      "495\n",
      "496\n",
      "497\n",
      "498\n",
      "499\n",
      "500\n",
      "501\n",
      "502\n",
      "503\n",
      "504\n",
      "505\n",
      "506\n",
      "507\n",
      "508\n",
      "509\n",
      "510\n",
      "511\n",
      "512\n",
      "513\n",
      "514\n",
      "515\n",
      "516\n",
      "517\n",
      "518\n",
      "519\n",
      "520\n",
      "521\n",
      "522\n",
      "523\n",
      "524\n",
      "525\n",
      "529\n",
      "530\n",
      "531\n",
      "532\n",
      "533\n",
      "534\n",
      "535\n",
      "536\n",
      "537\n",
      "538\n",
      "539\n",
      "540\n",
      "541\n",
      "542\n",
      "543\n",
      "544\n",
      "545\n",
      "546\n",
      "547\n",
      "548\n",
      "549\n",
      "550\n",
      "551\n",
      "552\n",
      "553\n",
      "554\n",
      "555\n",
      "556\n",
      "557\n",
      "558\n",
      "559\n",
      "560\n",
      "561\n",
      "562\n",
      "563\n",
      "564\n",
      "565\n",
      "566\n",
      "567\n",
      "568\n",
      "569\n",
      "570\n",
      "571\n",
      "572\n",
      "573\n",
      "574\n",
      "575\n",
      "576\n",
      "577\n"
     ]
    },
    {
     "ename": "ValueError",
     "evalue": "Could not find any dimension coordinates to use to order the datasets for concatenation",
     "output_type": "error",
     "traceback": [
      "\u001b[0;31m---------------------------------------------------------------------------\u001b[0m",
      "\u001b[0;31mValueError\u001b[0m                                Traceback (most recent call last)",
      "Cell \u001b[0;32mIn[9], line 10\u001b[0m\n\u001b[1;32m      7\u001b[0m     xda \u001b[38;5;241m=\u001b[39m xda\u001b[38;5;241m.\u001b[39mexpand_dims(cycle \u001b[38;5;241m=\u001b[39m \u001b[38;5;28mint\u001b[39m(xda\u001b[38;5;241m.\u001b[39mattrs[\u001b[38;5;124m'\u001b[39m\u001b[38;5;124mcycle number\u001b[39m\u001b[38;5;124m'\u001b[39m]))\n\u001b[1;32m      8\u001b[0m     \u001b[38;5;28;01mreturn\u001b[39;00m xda\n\u001b[0;32m---> 10\u001b[0m dsall \u001b[38;5;241m=\u001b[39m \u001b[43mxr\u001b[49m\u001b[38;5;241;43m.\u001b[39;49m\u001b[43mopen_mfdataset\u001b[49m\u001b[43m(\u001b[49m\u001b[43mncfiles\u001b[49m\u001b[43m,\u001b[49m\u001b[43m \u001b[49m\u001b[43mpreprocess\u001b[49m\u001b[38;5;241;43m=\u001b[39;49m\u001b[43madd_dim\u001b[49m\u001b[43m)\u001b[49m\n\u001b[1;32m     11\u001b[0m dsall\n",
      "File \u001b[0;32m~/.local/lib/python3.10/site-packages/xarray/backends/api.py:1040\u001b[0m, in \u001b[0;36mopen_mfdataset\u001b[0;34m(paths, chunks, concat_dim, compat, preprocess, engine, data_vars, coords, combine, parallel, join, attrs_file, combine_attrs, **kwargs)\u001b[0m\n\u001b[1;32m   1027\u001b[0m     combined \u001b[38;5;241m=\u001b[39m _nested_combine(\n\u001b[1;32m   1028\u001b[0m         datasets,\n\u001b[1;32m   1029\u001b[0m         concat_dims\u001b[38;5;241m=\u001b[39mconcat_dim,\n\u001b[0;32m   (...)\u001b[0m\n\u001b[1;32m   1035\u001b[0m         combine_attrs\u001b[38;5;241m=\u001b[39mcombine_attrs,\n\u001b[1;32m   1036\u001b[0m     )\n\u001b[1;32m   1037\u001b[0m \u001b[38;5;28;01melif\u001b[39;00m combine \u001b[38;5;241m==\u001b[39m \u001b[38;5;124m\"\u001b[39m\u001b[38;5;124mby_coords\u001b[39m\u001b[38;5;124m\"\u001b[39m:\n\u001b[1;32m   1038\u001b[0m     \u001b[38;5;66;03m# Redo ordering from coordinates, ignoring how they were ordered\u001b[39;00m\n\u001b[1;32m   1039\u001b[0m     \u001b[38;5;66;03m# previously\u001b[39;00m\n\u001b[0;32m-> 1040\u001b[0m     combined \u001b[38;5;241m=\u001b[39m \u001b[43mcombine_by_coords\u001b[49m\u001b[43m(\u001b[49m\n\u001b[1;32m   1041\u001b[0m \u001b[43m        \u001b[49m\u001b[43mdatasets\u001b[49m\u001b[43m,\u001b[49m\n\u001b[1;32m   1042\u001b[0m \u001b[43m        \u001b[49m\u001b[43mcompat\u001b[49m\u001b[38;5;241;43m=\u001b[39;49m\u001b[43mcompat\u001b[49m\u001b[43m,\u001b[49m\n\u001b[1;32m   1043\u001b[0m \u001b[43m        \u001b[49m\u001b[43mdata_vars\u001b[49m\u001b[38;5;241;43m=\u001b[39;49m\u001b[43mdata_vars\u001b[49m\u001b[43m,\u001b[49m\n\u001b[1;32m   1044\u001b[0m \u001b[43m        \u001b[49m\u001b[43mcoords\u001b[49m\u001b[38;5;241;43m=\u001b[39;49m\u001b[43mcoords\u001b[49m\u001b[43m,\u001b[49m\n\u001b[1;32m   1045\u001b[0m \u001b[43m        \u001b[49m\u001b[43mjoin\u001b[49m\u001b[38;5;241;43m=\u001b[39;49m\u001b[43mjoin\u001b[49m\u001b[43m,\u001b[49m\n\u001b[1;32m   1046\u001b[0m \u001b[43m        \u001b[49m\u001b[43mcombine_attrs\u001b[49m\u001b[38;5;241;43m=\u001b[39;49m\u001b[43mcombine_attrs\u001b[49m\u001b[43m,\u001b[49m\n\u001b[1;32m   1047\u001b[0m \u001b[43m    \u001b[49m\u001b[43m)\u001b[49m\n\u001b[1;32m   1048\u001b[0m \u001b[38;5;28;01melse\u001b[39;00m:\n\u001b[1;32m   1049\u001b[0m     \u001b[38;5;28;01mraise\u001b[39;00m \u001b[38;5;167;01mValueError\u001b[39;00m(\n\u001b[1;32m   1050\u001b[0m         \u001b[38;5;124m\"\u001b[39m\u001b[38;5;132;01m{}\u001b[39;00m\u001b[38;5;124m is an invalid option for the keyword argument\u001b[39m\u001b[38;5;124m\"\u001b[39m\n\u001b[1;32m   1051\u001b[0m         \u001b[38;5;124m\"\u001b[39m\u001b[38;5;124m ``combine``\u001b[39m\u001b[38;5;124m\"\u001b[39m\u001b[38;5;241m.\u001b[39mformat(combine)\n\u001b[1;32m   1052\u001b[0m     )\n",
      "File \u001b[0;32m~/.local/lib/python3.10/site-packages/xarray/core/combine.py:973\u001b[0m, in \u001b[0;36mcombine_by_coords\u001b[0;34m(data_objects, compat, data_vars, coords, fill_value, join, combine_attrs, datasets)\u001b[0m\n\u001b[1;32m    969\u001b[0m     grouped_by_vars \u001b[38;5;241m=\u001b[39m itertools\u001b[38;5;241m.\u001b[39mgroupby(sorted_datasets, key\u001b[38;5;241m=\u001b[39mvars_as_keys)\n\u001b[1;32m    971\u001b[0m     \u001b[38;5;66;03m# Perform the multidimensional combine on each group of data variables\u001b[39;00m\n\u001b[1;32m    972\u001b[0m     \u001b[38;5;66;03m# before merging back together\u001b[39;00m\n\u001b[0;32m--> 973\u001b[0m     concatenated_grouped_by_data_vars \u001b[38;5;241m=\u001b[39m \u001b[38;5;28;43mtuple\u001b[39;49m\u001b[43m(\u001b[49m\n\u001b[1;32m    974\u001b[0m \u001b[43m        \u001b[49m\u001b[43m_combine_single_variable_hypercube\u001b[49m\u001b[43m(\u001b[49m\n\u001b[1;32m    975\u001b[0m \u001b[43m            \u001b[49m\u001b[38;5;28;43mtuple\u001b[39;49m\u001b[43m(\u001b[49m\u001b[43mdatasets_with_same_vars\u001b[49m\u001b[43m)\u001b[49m\u001b[43m,\u001b[49m\n\u001b[1;32m    976\u001b[0m \u001b[43m            \u001b[49m\u001b[43mfill_value\u001b[49m\u001b[38;5;241;43m=\u001b[39;49m\u001b[43mfill_value\u001b[49m\u001b[43m,\u001b[49m\n\u001b[1;32m    977\u001b[0m \u001b[43m            \u001b[49m\u001b[43mdata_vars\u001b[49m\u001b[38;5;241;43m=\u001b[39;49m\u001b[43mdata_vars\u001b[49m\u001b[43m,\u001b[49m\n\u001b[1;32m    978\u001b[0m \u001b[43m            \u001b[49m\u001b[43mcoords\u001b[49m\u001b[38;5;241;43m=\u001b[39;49m\u001b[43mcoords\u001b[49m\u001b[43m,\u001b[49m\n\u001b[1;32m    979\u001b[0m \u001b[43m            \u001b[49m\u001b[43mcompat\u001b[49m\u001b[38;5;241;43m=\u001b[39;49m\u001b[43mcompat\u001b[49m\u001b[43m,\u001b[49m\n\u001b[1;32m    980\u001b[0m \u001b[43m            \u001b[49m\u001b[43mjoin\u001b[49m\u001b[38;5;241;43m=\u001b[39;49m\u001b[43mjoin\u001b[49m\u001b[43m,\u001b[49m\n\u001b[1;32m    981\u001b[0m \u001b[43m            \u001b[49m\u001b[43mcombine_attrs\u001b[49m\u001b[38;5;241;43m=\u001b[39;49m\u001b[43mcombine_attrs\u001b[49m\u001b[43m,\u001b[49m\n\u001b[1;32m    982\u001b[0m \u001b[43m        \u001b[49m\u001b[43m)\u001b[49m\n\u001b[1;32m    983\u001b[0m \u001b[43m        \u001b[49m\u001b[38;5;28;43;01mfor\u001b[39;49;00m\u001b[43m \u001b[49m\u001b[38;5;28;43mvars\u001b[39;49m\u001b[43m,\u001b[49m\u001b[43m \u001b[49m\u001b[43mdatasets_with_same_vars\u001b[49m\u001b[43m \u001b[49m\u001b[38;5;129;43;01min\u001b[39;49;00m\u001b[43m \u001b[49m\u001b[43mgrouped_by_vars\u001b[49m\n\u001b[1;32m    984\u001b[0m \u001b[43m    \u001b[49m\u001b[43m)\u001b[49m\n\u001b[1;32m    986\u001b[0m \u001b[38;5;28;01mreturn\u001b[39;00m merge(\n\u001b[1;32m    987\u001b[0m     concatenated_grouped_by_data_vars,\n\u001b[1;32m    988\u001b[0m     compat\u001b[38;5;241m=\u001b[39mcompat,\n\u001b[0;32m   (...)\u001b[0m\n\u001b[1;32m    991\u001b[0m     combine_attrs\u001b[38;5;241m=\u001b[39mcombine_attrs,\n\u001b[1;32m    992\u001b[0m )\n",
      "File \u001b[0;32m~/.local/lib/python3.10/site-packages/xarray/core/combine.py:974\u001b[0m, in \u001b[0;36m<genexpr>\u001b[0;34m(.0)\u001b[0m\n\u001b[1;32m    969\u001b[0m     grouped_by_vars \u001b[38;5;241m=\u001b[39m itertools\u001b[38;5;241m.\u001b[39mgroupby(sorted_datasets, key\u001b[38;5;241m=\u001b[39mvars_as_keys)\n\u001b[1;32m    971\u001b[0m     \u001b[38;5;66;03m# Perform the multidimensional combine on each group of data variables\u001b[39;00m\n\u001b[1;32m    972\u001b[0m     \u001b[38;5;66;03m# before merging back together\u001b[39;00m\n\u001b[1;32m    973\u001b[0m     concatenated_grouped_by_data_vars \u001b[38;5;241m=\u001b[39m \u001b[38;5;28mtuple\u001b[39m(\n\u001b[0;32m--> 974\u001b[0m         \u001b[43m_combine_single_variable_hypercube\u001b[49m\u001b[43m(\u001b[49m\n\u001b[1;32m    975\u001b[0m \u001b[43m            \u001b[49m\u001b[38;5;28;43mtuple\u001b[39;49m\u001b[43m(\u001b[49m\u001b[43mdatasets_with_same_vars\u001b[49m\u001b[43m)\u001b[49m\u001b[43m,\u001b[49m\n\u001b[1;32m    976\u001b[0m \u001b[43m            \u001b[49m\u001b[43mfill_value\u001b[49m\u001b[38;5;241;43m=\u001b[39;49m\u001b[43mfill_value\u001b[49m\u001b[43m,\u001b[49m\n\u001b[1;32m    977\u001b[0m \u001b[43m            \u001b[49m\u001b[43mdata_vars\u001b[49m\u001b[38;5;241;43m=\u001b[39;49m\u001b[43mdata_vars\u001b[49m\u001b[43m,\u001b[49m\n\u001b[1;32m    978\u001b[0m \u001b[43m            \u001b[49m\u001b[43mcoords\u001b[49m\u001b[38;5;241;43m=\u001b[39;49m\u001b[43mcoords\u001b[49m\u001b[43m,\u001b[49m\n\u001b[1;32m    979\u001b[0m \u001b[43m            \u001b[49m\u001b[43mcompat\u001b[49m\u001b[38;5;241;43m=\u001b[39;49m\u001b[43mcompat\u001b[49m\u001b[43m,\u001b[49m\n\u001b[1;32m    980\u001b[0m \u001b[43m            \u001b[49m\u001b[43mjoin\u001b[49m\u001b[38;5;241;43m=\u001b[39;49m\u001b[43mjoin\u001b[49m\u001b[43m,\u001b[49m\n\u001b[1;32m    981\u001b[0m \u001b[43m            \u001b[49m\u001b[43mcombine_attrs\u001b[49m\u001b[38;5;241;43m=\u001b[39;49m\u001b[43mcombine_attrs\u001b[49m\u001b[43m,\u001b[49m\n\u001b[1;32m    982\u001b[0m \u001b[43m        \u001b[49m\u001b[43m)\u001b[49m\n\u001b[1;32m    983\u001b[0m         \u001b[38;5;28;01mfor\u001b[39;00m \u001b[38;5;28mvars\u001b[39m, datasets_with_same_vars \u001b[38;5;129;01min\u001b[39;00m grouped_by_vars\n\u001b[1;32m    984\u001b[0m     )\n\u001b[1;32m    986\u001b[0m \u001b[38;5;28;01mreturn\u001b[39;00m merge(\n\u001b[1;32m    987\u001b[0m     concatenated_grouped_by_data_vars,\n\u001b[1;32m    988\u001b[0m     compat\u001b[38;5;241m=\u001b[39mcompat,\n\u001b[0;32m   (...)\u001b[0m\n\u001b[1;32m    991\u001b[0m     combine_attrs\u001b[38;5;241m=\u001b[39mcombine_attrs,\n\u001b[1;32m    992\u001b[0m )\n",
      "File \u001b[0;32m~/.local/lib/python3.10/site-packages/xarray/core/combine.py:622\u001b[0m, in \u001b[0;36m_combine_single_variable_hypercube\u001b[0;34m(datasets, fill_value, data_vars, coords, compat, join, combine_attrs)\u001b[0m\n\u001b[1;32m    616\u001b[0m \u001b[38;5;28;01mif\u001b[39;00m \u001b[38;5;28mlen\u001b[39m(datasets) \u001b[38;5;241m==\u001b[39m \u001b[38;5;241m0\u001b[39m:\n\u001b[1;32m    617\u001b[0m     \u001b[38;5;28;01mraise\u001b[39;00m \u001b[38;5;167;01mValueError\u001b[39;00m(\n\u001b[1;32m    618\u001b[0m         \u001b[38;5;124m\"\u001b[39m\u001b[38;5;124mAt least one Dataset is required to resolve variable names \u001b[39m\u001b[38;5;124m\"\u001b[39m\n\u001b[1;32m    619\u001b[0m         \u001b[38;5;124m\"\u001b[39m\u001b[38;5;124mfor combined hypercube.\u001b[39m\u001b[38;5;124m\"\u001b[39m\n\u001b[1;32m    620\u001b[0m     )\n\u001b[0;32m--> 622\u001b[0m combined_ids, concat_dims \u001b[38;5;241m=\u001b[39m \u001b[43m_infer_concat_order_from_coords\u001b[49m\u001b[43m(\u001b[49m\u001b[38;5;28;43mlist\u001b[39;49m\u001b[43m(\u001b[49m\u001b[43mdatasets\u001b[49m\u001b[43m)\u001b[49m\u001b[43m)\u001b[49m\n\u001b[1;32m    624\u001b[0m \u001b[38;5;28;01mif\u001b[39;00m fill_value \u001b[38;5;129;01mis\u001b[39;00m \u001b[38;5;28;01mNone\u001b[39;00m:\n\u001b[1;32m    625\u001b[0m     \u001b[38;5;66;03m# check that datasets form complete hypercube\u001b[39;00m\n\u001b[1;32m    626\u001b[0m     _check_shape_tile_ids(combined_ids)\n",
      "File \u001b[0;32m~/.local/lib/python3.10/site-packages/xarray/core/combine.py:145\u001b[0m, in \u001b[0;36m_infer_concat_order_from_coords\u001b[0;34m(datasets)\u001b[0m\n\u001b[1;32m    140\u001b[0m             tile_ids \u001b[38;5;241m=\u001b[39m [\n\u001b[1;32m    141\u001b[0m                 tile_id \u001b[38;5;241m+\u001b[39m (position,) \u001b[38;5;28;01mfor\u001b[39;00m tile_id, position \u001b[38;5;129;01min\u001b[39;00m \u001b[38;5;28mzip\u001b[39m(tile_ids, order)\n\u001b[1;32m    142\u001b[0m             ]\n\u001b[1;32m    144\u001b[0m \u001b[38;5;28;01mif\u001b[39;00m \u001b[38;5;28mlen\u001b[39m(datasets) \u001b[38;5;241m>\u001b[39m \u001b[38;5;241m1\u001b[39m \u001b[38;5;129;01mand\u001b[39;00m \u001b[38;5;129;01mnot\u001b[39;00m concat_dims:\n\u001b[0;32m--> 145\u001b[0m     \u001b[38;5;28;01mraise\u001b[39;00m \u001b[38;5;167;01mValueError\u001b[39;00m(\n\u001b[1;32m    146\u001b[0m         \u001b[38;5;124m\"\u001b[39m\u001b[38;5;124mCould not find any dimension coordinates to use to \u001b[39m\u001b[38;5;124m\"\u001b[39m\n\u001b[1;32m    147\u001b[0m         \u001b[38;5;124m\"\u001b[39m\u001b[38;5;124morder the datasets for concatenation\u001b[39m\u001b[38;5;124m\"\u001b[39m\n\u001b[1;32m    148\u001b[0m     )\n\u001b[1;32m    150\u001b[0m combined_ids \u001b[38;5;241m=\u001b[39m \u001b[38;5;28mdict\u001b[39m(\u001b[38;5;28mzip\u001b[39m(tile_ids, datasets))\n\u001b[1;32m    152\u001b[0m \u001b[38;5;28;01mreturn\u001b[39;00m combined_ids, concat_dims\n",
      "\u001b[0;31mValueError\u001b[0m: Could not find any dimension coordinates to use to order the datasets for concatenation"
     ]
    }
   ],
   "source": [
    "ncfiles = sorted(glob(f'/home/jupyter-mrayson/data/SWOT/l2_l3_combined/SWOT_L2L3_LR_SSH_*.nc'))\n",
    "\n",
    "from datetime import datetime\n",
    "def add_dim(xda):\n",
    "    #xda = xda.expand_dims(satpass = [np.nanmean(xda.time.values)])\n",
    "    print(int(xda.attrs['cycle number']))\n",
    "    xda = xda.expand_dims(cycle = int(xda.attrs['cycle number']))\n",
    "    return xda\n",
    "\n",
    "dsall = xr.open_mfdataset(ncfiles, preprocess=add_dim)\n",
    "dsall"
   ]
  },
  {
   "cell_type": "code",
   "execution_count": null,
   "id": "a2c22851-15e4-4ae4-a7f1-5e1f368c6a18",
   "metadata": {},
   "outputs": [],
   "source": []
  },
  {
   "cell_type": "markdown",
   "id": "953880f1-4d18-4aac-b935-1e4fbb16e171",
   "metadata": {},
   "source": [
    "---\n",
    "# Testing below here..."
   ]
  },
  {
   "cell_type": "code",
   "execution_count": 27,
   "id": "67d0e63a-a7aa-4ede-b0a4-a5a5a599cf57",
   "metadata": {},
   "outputs": [],
   "source": [
    "ds_l2_ = xr.open_dataset(l2files[0])\n",
    "ds_l3_ = xr.open_dataset(l3files[0])\n",
    "\n",
    "ds_l2 = ka.clip_swot(ds_l2_, area)\n",
    "ds_l3 = ka.clip_swot(ds_l3_, area)"
   ]
  },
  {
   "cell_type": "code",
   "execution_count": 12,
   "id": "c10d8284-d2ea-42a9-a1f6-caf379e19090",
   "metadata": {},
   "outputs": [
    {
     "data": {
      "text/html": [
       "<div><svg style=\"position: absolute; width: 0; height: 0; overflow: hidden\">\n",
       "<defs>\n",
       "<symbol id=\"icon-database\" viewBox=\"0 0 32 32\">\n",
       "<path d=\"M16 0c-8.837 0-16 2.239-16 5v4c0 2.761 7.163 5 16 5s16-2.239 16-5v-4c0-2.761-7.163-5-16-5z\"></path>\n",
       "<path d=\"M16 17c-8.837 0-16-2.239-16-5v6c0 2.761 7.163 5 16 5s16-2.239 16-5v-6c0 2.761-7.163 5-16 5z\"></path>\n",
       "<path d=\"M16 26c-8.837 0-16-2.239-16-5v6c0 2.761 7.163 5 16 5s16-2.239 16-5v-6c0 2.761-7.163 5-16 5z\"></path>\n",
       "</symbol>\n",
       "<symbol id=\"icon-file-text2\" viewBox=\"0 0 32 32\">\n",
       "<path d=\"M28.681 7.159c-0.694-0.947-1.662-2.053-2.724-3.116s-2.169-2.030-3.116-2.724c-1.612-1.182-2.393-1.319-2.841-1.319h-15.5c-1.378 0-2.5 1.121-2.5 2.5v27c0 1.378 1.122 2.5 2.5 2.5h23c1.378 0 2.5-1.122 2.5-2.5v-19.5c0-0.448-0.137-1.23-1.319-2.841zM24.543 5.457c0.959 0.959 1.712 1.825 2.268 2.543h-4.811v-4.811c0.718 0.556 1.584 1.309 2.543 2.268zM28 29.5c0 0.271-0.229 0.5-0.5 0.5h-23c-0.271 0-0.5-0.229-0.5-0.5v-27c0-0.271 0.229-0.5 0.5-0.5 0 0 15.499-0 15.5 0v7c0 0.552 0.448 1 1 1h7v19.5z\"></path>\n",
       "<path d=\"M23 26h-14c-0.552 0-1-0.448-1-1s0.448-1 1-1h14c0.552 0 1 0.448 1 1s-0.448 1-1 1z\"></path>\n",
       "<path d=\"M23 22h-14c-0.552 0-1-0.448-1-1s0.448-1 1-1h14c0.552 0 1 0.448 1 1s-0.448 1-1 1z\"></path>\n",
       "<path d=\"M23 18h-14c-0.552 0-1-0.448-1-1s0.448-1 1-1h14c0.552 0 1 0.448 1 1s-0.448 1-1 1z\"></path>\n",
       "</symbol>\n",
       "</defs>\n",
       "</svg>\n",
       "<style>/* CSS stylesheet for displaying xarray objects in jupyterlab.\n",
       " *\n",
       " */\n",
       "\n",
       ":root {\n",
       "  --xr-font-color0: var(--jp-content-font-color0, rgba(0, 0, 0, 1));\n",
       "  --xr-font-color2: var(--jp-content-font-color2, rgba(0, 0, 0, 0.54));\n",
       "  --xr-font-color3: var(--jp-content-font-color3, rgba(0, 0, 0, 0.38));\n",
       "  --xr-border-color: var(--jp-border-color2, #e0e0e0);\n",
       "  --xr-disabled-color: var(--jp-layout-color3, #bdbdbd);\n",
       "  --xr-background-color: var(--jp-layout-color0, white);\n",
       "  --xr-background-color-row-even: var(--jp-layout-color1, white);\n",
       "  --xr-background-color-row-odd: var(--jp-layout-color2, #eeeeee);\n",
       "}\n",
       "\n",
       "html[theme=dark],\n",
       "body[data-theme=dark],\n",
       "body.vscode-dark {\n",
       "  --xr-font-color0: rgba(255, 255, 255, 1);\n",
       "  --xr-font-color2: rgba(255, 255, 255, 0.54);\n",
       "  --xr-font-color3: rgba(255, 255, 255, 0.38);\n",
       "  --xr-border-color: #1F1F1F;\n",
       "  --xr-disabled-color: #515151;\n",
       "  --xr-background-color: #111111;\n",
       "  --xr-background-color-row-even: #111111;\n",
       "  --xr-background-color-row-odd: #313131;\n",
       "}\n",
       "\n",
       ".xr-wrap {\n",
       "  display: block !important;\n",
       "  min-width: 300px;\n",
       "  max-width: 700px;\n",
       "}\n",
       "\n",
       ".xr-text-repr-fallback {\n",
       "  /* fallback to plain text repr when CSS is not injected (untrusted notebook) */\n",
       "  display: none;\n",
       "}\n",
       "\n",
       ".xr-header {\n",
       "  padding-top: 6px;\n",
       "  padding-bottom: 6px;\n",
       "  margin-bottom: 4px;\n",
       "  border-bottom: solid 1px var(--xr-border-color);\n",
       "}\n",
       "\n",
       ".xr-header > div,\n",
       ".xr-header > ul {\n",
       "  display: inline;\n",
       "  margin-top: 0;\n",
       "  margin-bottom: 0;\n",
       "}\n",
       "\n",
       ".xr-obj-type,\n",
       ".xr-array-name {\n",
       "  margin-left: 2px;\n",
       "  margin-right: 10px;\n",
       "}\n",
       "\n",
       ".xr-obj-type {\n",
       "  color: var(--xr-font-color2);\n",
       "}\n",
       "\n",
       ".xr-sections {\n",
       "  padding-left: 0 !important;\n",
       "  display: grid;\n",
       "  grid-template-columns: 150px auto auto 1fr 20px 20px;\n",
       "}\n",
       "\n",
       ".xr-section-item {\n",
       "  display: contents;\n",
       "}\n",
       "\n",
       ".xr-section-item input {\n",
       "  display: none;\n",
       "}\n",
       "\n",
       ".xr-section-item input + label {\n",
       "  color: var(--xr-disabled-color);\n",
       "}\n",
       "\n",
       ".xr-section-item input:enabled + label {\n",
       "  cursor: pointer;\n",
       "  color: var(--xr-font-color2);\n",
       "}\n",
       "\n",
       ".xr-section-item input:enabled + label:hover {\n",
       "  color: var(--xr-font-color0);\n",
       "}\n",
       "\n",
       ".xr-section-summary {\n",
       "  grid-column: 1;\n",
       "  color: var(--xr-font-color2);\n",
       "  font-weight: 500;\n",
       "}\n",
       "\n",
       ".xr-section-summary > span {\n",
       "  display: inline-block;\n",
       "  padding-left: 0.5em;\n",
       "}\n",
       "\n",
       ".xr-section-summary-in:disabled + label {\n",
       "  color: var(--xr-font-color2);\n",
       "}\n",
       "\n",
       ".xr-section-summary-in + label:before {\n",
       "  display: inline-block;\n",
       "  content: '►';\n",
       "  font-size: 11px;\n",
       "  width: 15px;\n",
       "  text-align: center;\n",
       "}\n",
       "\n",
       ".xr-section-summary-in:disabled + label:before {\n",
       "  color: var(--xr-disabled-color);\n",
       "}\n",
       "\n",
       ".xr-section-summary-in:checked + label:before {\n",
       "  content: '▼';\n",
       "}\n",
       "\n",
       ".xr-section-summary-in:checked + label > span {\n",
       "  display: none;\n",
       "}\n",
       "\n",
       ".xr-section-summary,\n",
       ".xr-section-inline-details {\n",
       "  padding-top: 4px;\n",
       "  padding-bottom: 4px;\n",
       "}\n",
       "\n",
       ".xr-section-inline-details {\n",
       "  grid-column: 2 / -1;\n",
       "}\n",
       "\n",
       ".xr-section-details {\n",
       "  display: none;\n",
       "  grid-column: 1 / -1;\n",
       "  margin-bottom: 5px;\n",
       "}\n",
       "\n",
       ".xr-section-summary-in:checked ~ .xr-section-details {\n",
       "  display: contents;\n",
       "}\n",
       "\n",
       ".xr-array-wrap {\n",
       "  grid-column: 1 / -1;\n",
       "  display: grid;\n",
       "  grid-template-columns: 20px auto;\n",
       "}\n",
       "\n",
       ".xr-array-wrap > label {\n",
       "  grid-column: 1;\n",
       "  vertical-align: top;\n",
       "}\n",
       "\n",
       ".xr-preview {\n",
       "  color: var(--xr-font-color3);\n",
       "}\n",
       "\n",
       ".xr-array-preview,\n",
       ".xr-array-data {\n",
       "  padding: 0 5px !important;\n",
       "  grid-column: 2;\n",
       "}\n",
       "\n",
       ".xr-array-data,\n",
       ".xr-array-in:checked ~ .xr-array-preview {\n",
       "  display: none;\n",
       "}\n",
       "\n",
       ".xr-array-in:checked ~ .xr-array-data,\n",
       ".xr-array-preview {\n",
       "  display: inline-block;\n",
       "}\n",
       "\n",
       ".xr-dim-list {\n",
       "  display: inline-block !important;\n",
       "  list-style: none;\n",
       "  padding: 0 !important;\n",
       "  margin: 0;\n",
       "}\n",
       "\n",
       ".xr-dim-list li {\n",
       "  display: inline-block;\n",
       "  padding: 0;\n",
       "  margin: 0;\n",
       "}\n",
       "\n",
       ".xr-dim-list:before {\n",
       "  content: '(';\n",
       "}\n",
       "\n",
       ".xr-dim-list:after {\n",
       "  content: ')';\n",
       "}\n",
       "\n",
       ".xr-dim-list li:not(:last-child):after {\n",
       "  content: ',';\n",
       "  padding-right: 5px;\n",
       "}\n",
       "\n",
       ".xr-has-index {\n",
       "  font-weight: bold;\n",
       "}\n",
       "\n",
       ".xr-var-list,\n",
       ".xr-var-item {\n",
       "  display: contents;\n",
       "}\n",
       "\n",
       ".xr-var-item > div,\n",
       ".xr-var-item label,\n",
       ".xr-var-item > .xr-var-name span {\n",
       "  background-color: var(--xr-background-color-row-even);\n",
       "  margin-bottom: 0;\n",
       "}\n",
       "\n",
       ".xr-var-item > .xr-var-name:hover span {\n",
       "  padding-right: 5px;\n",
       "}\n",
       "\n",
       ".xr-var-list > li:nth-child(odd) > div,\n",
       ".xr-var-list > li:nth-child(odd) > label,\n",
       ".xr-var-list > li:nth-child(odd) > .xr-var-name span {\n",
       "  background-color: var(--xr-background-color-row-odd);\n",
       "}\n",
       "\n",
       ".xr-var-name {\n",
       "  grid-column: 1;\n",
       "}\n",
       "\n",
       ".xr-var-dims {\n",
       "  grid-column: 2;\n",
       "}\n",
       "\n",
       ".xr-var-dtype {\n",
       "  grid-column: 3;\n",
       "  text-align: right;\n",
       "  color: var(--xr-font-color2);\n",
       "}\n",
       "\n",
       ".xr-var-preview {\n",
       "  grid-column: 4;\n",
       "}\n",
       "\n",
       ".xr-index-preview {\n",
       "  grid-column: 2 / 5;\n",
       "  color: var(--xr-font-color2);\n",
       "}\n",
       "\n",
       ".xr-var-name,\n",
       ".xr-var-dims,\n",
       ".xr-var-dtype,\n",
       ".xr-preview,\n",
       ".xr-attrs dt {\n",
       "  white-space: nowrap;\n",
       "  overflow: hidden;\n",
       "  text-overflow: ellipsis;\n",
       "  padding-right: 10px;\n",
       "}\n",
       "\n",
       ".xr-var-name:hover,\n",
       ".xr-var-dims:hover,\n",
       ".xr-var-dtype:hover,\n",
       ".xr-attrs dt:hover {\n",
       "  overflow: visible;\n",
       "  width: auto;\n",
       "  z-index: 1;\n",
       "}\n",
       "\n",
       ".xr-var-attrs,\n",
       ".xr-var-data,\n",
       ".xr-index-data {\n",
       "  display: none;\n",
       "  background-color: var(--xr-background-color) !important;\n",
       "  padding-bottom: 5px !important;\n",
       "}\n",
       "\n",
       ".xr-var-attrs-in:checked ~ .xr-var-attrs,\n",
       ".xr-var-data-in:checked ~ .xr-var-data,\n",
       ".xr-index-data-in:checked ~ .xr-index-data {\n",
       "  display: block;\n",
       "}\n",
       "\n",
       ".xr-var-data > table {\n",
       "  float: right;\n",
       "}\n",
       "\n",
       ".xr-var-name span,\n",
       ".xr-var-data,\n",
       ".xr-index-name div,\n",
       ".xr-index-data,\n",
       ".xr-attrs {\n",
       "  padding-left: 25px !important;\n",
       "}\n",
       "\n",
       ".xr-attrs,\n",
       ".xr-var-attrs,\n",
       ".xr-var-data,\n",
       ".xr-index-data {\n",
       "  grid-column: 1 / -1;\n",
       "}\n",
       "\n",
       "dl.xr-attrs {\n",
       "  padding: 0;\n",
       "  margin: 0;\n",
       "  display: grid;\n",
       "  grid-template-columns: 125px auto;\n",
       "}\n",
       "\n",
       ".xr-attrs dt,\n",
       ".xr-attrs dd {\n",
       "  padding: 0;\n",
       "  margin: 0;\n",
       "  float: left;\n",
       "  padding-right: 10px;\n",
       "  width: auto;\n",
       "}\n",
       "\n",
       ".xr-attrs dt {\n",
       "  font-weight: normal;\n",
       "  grid-column: 1;\n",
       "}\n",
       "\n",
       ".xr-attrs dt:hover span {\n",
       "  display: inline-block;\n",
       "  background: var(--xr-background-color);\n",
       "  padding-right: 10px;\n",
       "}\n",
       "\n",
       ".xr-attrs dd {\n",
       "  grid-column: 2;\n",
       "  white-space: pre-wrap;\n",
       "  word-break: break-all;\n",
       "}\n",
       "\n",
       ".xr-icon-database,\n",
       ".xr-icon-file-text2,\n",
       ".xr-no-icon {\n",
       "  display: inline-block;\n",
       "  vertical-align: middle;\n",
       "  width: 1em;\n",
       "  height: 1.5em !important;\n",
       "  stroke-width: 0;\n",
       "  stroke: currentColor;\n",
       "  fill: currentColor;\n",
       "}\n",
       "</style><pre class='xr-text-repr-fallback'>&lt;xarray.Dataset&gt;\n",
       "Dimensions:             (num_lines: 290, num_pixels: 69)\n",
       "Coordinates:\n",
       "    latitude            (num_lines, num_pixels) float64 -15.99 -15.99 ... -11.01\n",
       "    longitude           (num_lines, num_pixels) float64 122.2 122.3 ... 124.3\n",
       "    latitude_nadir      (num_lines) float64 -16.08 -16.07 ... -10.94 -10.92\n",
       "    longitude_nadir     (num_lines) float64 122.9 122.9 122.9 ... 123.7 123.7\n",
       "Dimensions without coordinates: num_lines, num_pixels\n",
       "Data variables:\n",
       "    ssha_l3             (num_lines, num_pixels) float64 nan nan nan ... nan nan\n",
       "    ssha_l2             (num_lines, num_pixels) float64 nan nan nan ... nan nan\n",
       "    ssha_l2_l3_all      (num_lines, num_pixels) float64 nan nan nan ... nan nan\n",
       "    ssha_l2_l3_dynamic  (num_lines, num_pixels) float64 nan nan nan ... nan nan\n",
       "    time                (num_lines, num_pixels) datetime64[ns] 2023-04-26T11:...</pre><div class='xr-wrap' style='display:none'><div class='xr-header'><div class='xr-obj-type'>xarray.Dataset</div></div><ul class='xr-sections'><li class='xr-section-item'><input id='section-e4d0bb2b-4d54-45d9-a8bb-e24c5ac0f2ec' class='xr-section-summary-in' type='checkbox' disabled ><label for='section-e4d0bb2b-4d54-45d9-a8bb-e24c5ac0f2ec' class='xr-section-summary'  title='Expand/collapse section'>Dimensions:</label><div class='xr-section-inline-details'><ul class='xr-dim-list'><li><span>num_lines</span>: 290</li><li><span>num_pixels</span>: 69</li></ul></div><div class='xr-section-details'></div></li><li class='xr-section-item'><input id='section-bded460a-2574-4dc0-a8b3-1694106bd785' class='xr-section-summary-in' type='checkbox'  checked><label for='section-bded460a-2574-4dc0-a8b3-1694106bd785' class='xr-section-summary' >Coordinates: <span>(4)</span></label><div class='xr-section-inline-details'></div><div class='xr-section-details'><ul class='xr-var-list'><li class='xr-var-item'><div class='xr-var-name'><span>latitude</span></div><div class='xr-var-dims'>(num_lines, num_pixels)</div><div class='xr-var-dtype'>float64</div><div class='xr-var-preview xr-preview'>-15.99 -15.99 ... -11.01 -11.01</div><input id='attrs-5dfad12c-f26b-488d-b6fb-247c199d0522' class='xr-var-attrs-in' type='checkbox' ><label for='attrs-5dfad12c-f26b-488d-b6fb-247c199d0522' title='Show/Hide attributes'><svg class='icon xr-icon-file-text2'><use xlink:href='#icon-file-text2'></use></svg></label><input id='data-ac8e7108-ab1f-4052-8516-5295da4b17d6' class='xr-var-data-in' type='checkbox'><label for='data-ac8e7108-ab1f-4052-8516-5295da4b17d6' title='Show/Hide data repr'><svg class='icon xr-icon-database'><use xlink:href='#icon-database'></use></svg></label><div class='xr-var-attrs'><dl class='xr-attrs'><dt><span>comment :</span></dt><dd>Latitude of measurement [-80,80]. Positive latitude is North latitude, negative latitude is South latitude.</dd><dt><span>long_name :</span></dt><dd>latitude (positive N, negative S)</dd><dt><span>standard_name :</span></dt><dd>latitude</dd><dt><span>units :</span></dt><dd>degrees_north</dd></dl></div><div class='xr-var-data'><pre>array([[-15.985795, -15.988684, -15.991571, ..., -16.173025, -16.175808,\n",
       "        -16.178589],\n",
       "       [-15.967963, -15.970851, -15.973737, ..., -16.155161, -16.157944,\n",
       "        -16.160725],\n",
       "       [-15.950131, -15.953018, -15.955904, ..., -16.137297, -16.14008 ,\n",
       "        -16.142861],\n",
       "       ...,\n",
       "       [-10.863322, -10.866081, -10.868838, ..., -11.043111, -11.045799,\n",
       "        -11.048485],\n",
       "       [-10.845459, -10.848218, -10.850975, ..., -11.025227, -11.027915,\n",
       "        -11.030602],\n",
       "       [-10.827596, -10.830354, -10.833111, ..., -11.007344, -11.010031,\n",
       "        -11.012718]])</pre></div></li><li class='xr-var-item'><div class='xr-var-name'><span>longitude</span></div><div class='xr-var-dims'>(num_lines, num_pixels)</div><div class='xr-var-dtype'>float64</div><div class='xr-var-preview xr-preview'>122.2 122.3 122.3 ... 124.3 124.3</div><input id='attrs-c469fc67-2ac9-45b1-8178-6b87b58448ba' class='xr-var-attrs-in' type='checkbox' ><label for='attrs-c469fc67-2ac9-45b1-8178-6b87b58448ba' title='Show/Hide attributes'><svg class='icon xr-icon-file-text2'><use xlink:href='#icon-file-text2'></use></svg></label><input id='data-66ce22bf-1aa2-40f2-905a-50cbee633a60' class='xr-var-data-in' type='checkbox'><label for='data-66ce22bf-1aa2-40f2-905a-50cbee633a60' title='Show/Hide data repr'><svg class='icon xr-icon-database'><use xlink:href='#icon-database'></use></svg></label><div class='xr-var-attrs'><dl class='xr-attrs'><dt><span>comment :</span></dt><dd>Longitude of measurement. East longitude relative to Greenwich meridian.</dd><dt><span>long_name :</span></dt><dd>longitude (degrees East)</dd><dt><span>standard_name :</span></dt><dd>longitude</dd><dt><span>units :</span></dt><dd>degrees_east</dd></dl></div><div class='xr-var-data'><pre>array([[122.236439, 122.254883, 122.273328, ..., 123.454886, 123.473365,\n",
       "        123.491844],\n",
       "       [122.239426, 122.257868, 122.276312, ..., 123.45777 , 123.476247,\n",
       "        123.494724],\n",
       "       [122.242412, 122.260853, 122.279295, ..., 123.460653, 123.479128,\n",
       "        123.497604],\n",
       "       ...,\n",
       "       [123.064031, 123.082109, 123.100187, ..., 124.25788 , 124.27598 ,\n",
       "        124.29408 ],\n",
       "       [123.066823, 123.0849  , 123.102977, ..., 124.260605, 124.278703,\n",
       "        124.296802],\n",
       "       [123.069615, 123.087691, 123.105767, ..., 124.263328, 124.281426,\n",
       "        124.299524]])</pre></div></li><li class='xr-var-item'><div class='xr-var-name'><span>latitude_nadir</span></div><div class='xr-var-dims'>(num_lines)</div><div class='xr-var-dtype'>float64</div><div class='xr-var-preview xr-preview'>-16.08 -16.07 ... -10.94 -10.92</div><input id='attrs-c6465c9a-3e13-4ed7-a942-c671f72139ee' class='xr-var-attrs-in' type='checkbox' ><label for='attrs-c6465c9a-3e13-4ed7-a942-c671f72139ee' title='Show/Hide attributes'><svg class='icon xr-icon-file-text2'><use xlink:href='#icon-file-text2'></use></svg></label><input id='data-7e939a51-3213-4921-8b2e-53716c905d15' class='xr-var-data-in' type='checkbox'><label for='data-7e939a51-3213-4921-8b2e-53716c905d15' title='Show/Hide data repr'><svg class='icon xr-icon-database'><use xlink:href='#icon-database'></use></svg></label><div class='xr-var-attrs'><dl class='xr-attrs'><dt><span>long_name :</span></dt><dd>latitude of satellite nadir point</dd><dt><span>standard_name :</span></dt><dd>latitude</dd><dt><span>units :</span></dt><dd>degrees_north</dd><dt><span>quality_flag :</span></dt><dd>orbit_qual</dd><dt><span>valid_min :</span></dt><dd>-80000000</dd><dt><span>valid_max :</span></dt><dd>80000000</dd><dt><span>comment :</span></dt><dd>Geodetic latitude [-80,80] (degrees north of equator) of the satellite nadir point.</dd></dl></div><div class='xr-var-data'><pre>array([-16.082992, -16.065142, -16.047291, -16.029409, -16.011555,\n",
       "       -15.993706, -15.975853, -15.958007, -15.940151, -15.922306,\n",
       "       -15.90445 , -15.886603, -15.86875 , -15.850901, -15.833045,\n",
       "       -15.815154, -15.797299, -15.779449, -15.761595, -15.743747,\n",
       "       -15.72589 , -15.708044, -15.690187, -15.672338, -15.654484,\n",
       "       -15.636632, -15.618779, -15.600909, -15.583059, -15.565204,\n",
       "       -15.547352, -15.529501, -15.511644, -15.493796, -15.475938,\n",
       "       -15.458089, -15.440233, -15.42238 , -15.404525, -15.386656,\n",
       "       -15.368806, -15.350949, -15.333096, -15.315243, -15.297386,\n",
       "       -15.279537, -15.261677, -15.243827, -15.22597 , -15.208115,\n",
       "       -15.190264, -15.172406, -15.154557, -15.136697, -15.118845,\n",
       "       -15.10099 , -15.083132, -15.065281, -15.04742 , -15.02957 ,\n",
       "       -15.011712, -14.993856, -14.976004, -14.958148, -14.940297,\n",
       "       -14.922436, -14.904583, -14.886726, -14.868867, -14.851015,\n",
       "       -14.833153, -14.815302, -14.797442, -14.779586, -14.761733,\n",
       "       -14.743876, -14.726024, -14.708161, -14.690308, -14.672449,\n",
       "       -14.65459 , -14.636737, -14.618874, -14.601021, -14.583159,\n",
       "       -14.565303, -14.54745 , -14.529595, -14.511741, -14.493877,\n",
       "       -14.476024, -14.458163, -14.440304, -14.422448, -14.404584,\n",
       "       -14.386731, -14.368867, -14.35101 , -14.333158, -14.315306,\n",
       "...\n",
       "       -12.689735, -12.671868, -12.653997, -12.636134, -12.618254,\n",
       "       -12.600389, -12.58252 , -12.56465 , -12.546786, -12.528912,\n",
       "       -12.51105 , -12.493177, -12.475312, -12.457443, -12.439573,\n",
       "       -12.421706, -12.403818, -12.38595 , -12.36808 , -12.35021 ,\n",
       "       -12.332345, -12.314471, -12.296607, -12.278733, -12.260867,\n",
       "       -12.242998, -12.225124, -12.207264, -12.1894  , -12.171539,\n",
       "       -12.153664, -12.135797, -12.117928, -12.100054, -12.082189,\n",
       "       -12.064313, -12.046449, -12.028573, -12.010709, -11.992823,\n",
       "       -11.974897, -11.957025, -11.939154, -11.921282, -11.903414,\n",
       "       -11.885539, -11.867674, -11.849797, -11.831931, -11.814057,\n",
       "       -11.796186, -11.778315, -11.760431, -11.742565, -11.724689,\n",
       "       -11.70682 , -11.688949, -11.671074, -11.653207, -11.63533 ,\n",
       "       -11.617463, -11.599588, -11.581716, -11.563849, -11.545976,\n",
       "       -11.52811 , -11.510232, -11.492363, -11.47449 , -11.456615,\n",
       "       -11.438747, -11.420869, -11.403002, -11.385125, -11.367255,\n",
       "       -11.349378, -11.331495, -11.313628, -11.295749, -11.27788 ,\n",
       "       -11.260005, -11.242131, -11.224261, -11.206382, -11.188514,\n",
       "       -11.170636, -11.152765, -11.134893, -11.117019, -11.09915 ,\n",
       "       -11.08127 , -11.063402, -11.045524, -11.02765 , -11.009779,\n",
       "       -10.991899, -10.974031, -10.956151, -10.93828 , -10.920411])</pre></div></li><li class='xr-var-item'><div class='xr-var-name'><span>longitude_nadir</span></div><div class='xr-var-dims'>(num_lines)</div><div class='xr-var-dtype'>float64</div><div class='xr-var-preview xr-preview'>122.9 122.9 122.9 ... 123.7 123.7</div><input id='attrs-ed075524-c06f-4f40-afaa-85a4cae55bff' class='xr-var-attrs-in' type='checkbox' ><label for='attrs-ed075524-c06f-4f40-afaa-85a4cae55bff' title='Show/Hide attributes'><svg class='icon xr-icon-file-text2'><use xlink:href='#icon-file-text2'></use></svg></label><input id='data-16528743-589e-45fa-861a-cb4f2abb2d73' class='xr-var-data-in' type='checkbox'><label for='data-16528743-589e-45fa-861a-cb4f2abb2d73' title='Show/Hide data repr'><svg class='icon xr-icon-database'><use xlink:href='#icon-database'></use></svg></label><div class='xr-var-attrs'><dl class='xr-attrs'><dt><span>long_name :</span></dt><dd>longitude of satellite nadir point</dd><dt><span>standard_name :</span></dt><dd>longitude</dd><dt><span>units :</span></dt><dd>degrees_east</dd><dt><span>quality_flag :</span></dt><dd>orbit_qual</dd><dt><span>valid_min :</span></dt><dd>0</dd><dt><span>valid_max :</span></dt><dd>359999999</dd><dt><span>comment :</span></dt><dd>Longitude (degrees east of Grenwich meridian) of the satellite nadir point.</dd></dl></div><div class='xr-var-data'><pre>array([122.862918, 122.86585 , 122.868782, 122.871718, 122.874649,\n",
       "       122.877578, 122.880507, 122.883434, 122.886362, 122.889288,\n",
       "       122.892214, 122.895138, 122.898063, 122.900986, 122.903909,\n",
       "       122.906838, 122.909759, 122.91268 , 122.9156  , 122.918518,\n",
       "       122.921437, 122.924354, 122.927271, 122.930187, 122.933102,\n",
       "       122.936017, 122.938931, 122.941847, 122.944759, 122.947671,\n",
       "       122.950581, 122.953491, 122.956401, 122.959309, 122.962218,\n",
       "       122.965125, 122.968032, 122.970938, 122.973843, 122.97675 ,\n",
       "       122.979653, 122.982557, 122.985459, 122.98836 , 122.991262,\n",
       "       122.994161, 122.997061, 122.999959, 123.002858, 123.005755,\n",
       "       123.008651, 123.011547, 123.014442, 123.017337, 123.02023 ,\n",
       "       123.023124, 123.026016, 123.028907, 123.031799, 123.034689,\n",
       "       123.037579, 123.040468, 123.043355, 123.046243, 123.049129,\n",
       "       123.052016, 123.054901, 123.057786, 123.06067 , 123.063553,\n",
       "       123.066436, 123.069318, 123.0722  , 123.07508 , 123.077959,\n",
       "       123.080839, 123.083717, 123.086595, 123.089472, 123.092349,\n",
       "       123.095225, 123.0981  , 123.100975, 123.103848, 123.106722,\n",
       "       123.109594, 123.112465, 123.115336, 123.118206, 123.121077,\n",
       "       123.123945, 123.126814, 123.129682, 123.132549, 123.135416,\n",
       "       123.138281, 123.141147, 123.144011, 123.146874, 123.149736,\n",
       "...\n",
       "       123.407666, 123.410473, 123.41328 , 123.416085, 123.418892,\n",
       "       123.421696, 123.4245  , 123.427304, 123.430106, 123.43291 ,\n",
       "       123.43571 , 123.438512, 123.441313, 123.444113, 123.446912,\n",
       "       123.449711, 123.452513, 123.45531 , 123.458108, 123.460905,\n",
       "       123.4637  , 123.466497, 123.469291, 123.472086, 123.47488 ,\n",
       "       123.477673, 123.480467, 123.483257, 123.486048, 123.488838,\n",
       "       123.49163 , 123.49442 , 123.497209, 123.499999, 123.502786,\n",
       "       123.505575, 123.508362, 123.511149, 123.513935, 123.516723,\n",
       "       123.519517, 123.522302, 123.525086, 123.52787 , 123.530653,\n",
       "       123.533436, 123.536217, 123.539   , 123.54178 , 123.544561,\n",
       "       123.547341, 123.55012 , 123.552901, 123.555679, 123.558457,\n",
       "       123.561234, 123.564011, 123.566788, 123.569563, 123.572339,\n",
       "       123.575113, 123.577887, 123.580661, 123.583433, 123.586206,\n",
       "       123.588977, 123.59175 , 123.59452 , 123.597291, 123.600062,\n",
       "       123.602831, 123.6056  , 123.608368, 123.611137, 123.613904,\n",
       "       123.616672, 123.61944 , 123.622205, 123.624971, 123.627736,\n",
       "       123.630501, 123.633265, 123.636028, 123.638792, 123.641553,\n",
       "       123.644316, 123.647077, 123.649838, 123.652598, 123.655358,\n",
       "       123.658118, 123.660876, 123.663636, 123.666394, 123.669151,\n",
       "       123.671909, 123.674664, 123.677421, 123.680177, 123.682931])</pre></div></li></ul></div></li><li class='xr-section-item'><input id='section-c38c0d7a-c552-4988-ba58-ae98baa8fc8f' class='xr-section-summary-in' type='checkbox'  checked><label for='section-c38c0d7a-c552-4988-ba58-ae98baa8fc8f' class='xr-section-summary' >Data variables: <span>(5)</span></label><div class='xr-section-inline-details'></div><div class='xr-section-details'><ul class='xr-var-list'><li class='xr-var-item'><div class='xr-var-name'><span>ssha_l3</span></div><div class='xr-var-dims'>(num_lines, num_pixels)</div><div class='xr-var-dtype'>float64</div><div class='xr-var-preview xr-preview'>nan nan nan nan ... nan nan nan nan</div><input id='attrs-fd7a522b-3a6b-4770-a9cb-0a70b16578e2' class='xr-var-attrs-in' type='checkbox' ><label for='attrs-fd7a522b-3a6b-4770-a9cb-0a70b16578e2' title='Show/Hide attributes'><svg class='icon xr-icon-file-text2'><use xlink:href='#icon-file-text2'></use></svg></label><input id='data-f57e4aa2-dbfe-4866-bf15-c3f2f5b395bc' class='xr-var-data-in' type='checkbox'><label for='data-f57e4aa2-dbfe-4866-bf15-c3f2f5b395bc' title='Show/Hide data repr'><svg class='icon xr-icon-database'><use xlink:href='#icon-database'></use></svg></label><div class='xr-var-attrs'><dl class='xr-attrs'><dt><span>long_name :</span></dt><dd>sea surface height anomaly</dd><dt><span>standard_name :</span></dt><dd>sea_surface_height_above_reference_ellipsoid</dd><dt><span>comment :</span></dt><dd>Height of the sea surface anomaly with all corrections applied.</dd><dt><span>units :</span></dt><dd>m</dd></dl></div><div class='xr-var-data'><pre>array([[nan, nan, nan, ..., nan, nan, nan],\n",
       "       [nan, nan, nan, ..., nan, nan, nan],\n",
       "       [nan, nan, nan, ..., nan, nan, nan],\n",
       "       ...,\n",
       "       [nan, nan, nan, ..., nan, nan, nan],\n",
       "       [nan, nan, nan, ..., nan, nan, nan],\n",
       "       [nan, nan, nan, ..., nan, nan, nan]])</pre></div></li><li class='xr-var-item'><div class='xr-var-name'><span>ssha_l2</span></div><div class='xr-var-dims'>(num_lines, num_pixels)</div><div class='xr-var-dtype'>float64</div><div class='xr-var-preview xr-preview'>nan nan nan nan ... nan nan nan nan</div><input id='attrs-1ed68b96-21e9-41a0-a98a-1e0771b2fd9d' class='xr-var-attrs-in' type='checkbox' disabled><label for='attrs-1ed68b96-21e9-41a0-a98a-1e0771b2fd9d' title='Show/Hide attributes'><svg class='icon xr-icon-file-text2'><use xlink:href='#icon-file-text2'></use></svg></label><input id='data-104d1e49-9631-4a66-9716-05aca42e5868' class='xr-var-data-in' type='checkbox'><label for='data-104d1e49-9631-4a66-9716-05aca42e5868' title='Show/Hide data repr'><svg class='icon xr-icon-database'><use xlink:href='#icon-database'></use></svg></label><div class='xr-var-attrs'><dl class='xr-attrs'></dl></div><div class='xr-var-data'><pre>array([[nan, nan, nan, ..., nan, nan, nan],\n",
       "       [nan, nan, nan, ..., nan, nan, nan],\n",
       "       [nan, nan, nan, ..., nan, nan, nan],\n",
       "       ...,\n",
       "       [nan, nan, nan, ..., nan, nan, nan],\n",
       "       [nan, nan, nan, ..., nan, nan, nan],\n",
       "       [nan, nan, nan, ..., nan, nan, nan]])</pre></div></li><li class='xr-var-item'><div class='xr-var-name'><span>ssha_l2_l3_all</span></div><div class='xr-var-dims'>(num_lines, num_pixels)</div><div class='xr-var-dtype'>float64</div><div class='xr-var-preview xr-preview'>nan nan nan nan ... nan nan nan nan</div><input id='attrs-73344152-2f6e-4ec9-b473-a19f6f533e2d' class='xr-var-attrs-in' type='checkbox' disabled><label for='attrs-73344152-2f6e-4ec9-b473-a19f6f533e2d' title='Show/Hide attributes'><svg class='icon xr-icon-file-text2'><use xlink:href='#icon-file-text2'></use></svg></label><input id='data-67f8ea9f-6aa7-45be-90b0-0c93ded2a4b8' class='xr-var-data-in' type='checkbox'><label for='data-67f8ea9f-6aa7-45be-90b0-0c93ded2a4b8' title='Show/Hide data repr'><svg class='icon xr-icon-database'><use xlink:href='#icon-database'></use></svg></label><div class='xr-var-attrs'><dl class='xr-attrs'></dl></div><div class='xr-var-data'><pre>array([[nan, nan, nan, ..., nan, nan, nan],\n",
       "       [nan, nan, nan, ..., nan, nan, nan],\n",
       "       [nan, nan, nan, ..., nan, nan, nan],\n",
       "       ...,\n",
       "       [nan, nan, nan, ..., nan, nan, nan],\n",
       "       [nan, nan, nan, ..., nan, nan, nan],\n",
       "       [nan, nan, nan, ..., nan, nan, nan]])</pre></div></li><li class='xr-var-item'><div class='xr-var-name'><span>ssha_l2_l3_dynamic</span></div><div class='xr-var-dims'>(num_lines, num_pixels)</div><div class='xr-var-dtype'>float64</div><div class='xr-var-preview xr-preview'>nan nan nan nan ... nan nan nan nan</div><input id='attrs-9da03087-8690-48fa-b4fd-8da91ee95e14' class='xr-var-attrs-in' type='checkbox' disabled><label for='attrs-9da03087-8690-48fa-b4fd-8da91ee95e14' title='Show/Hide attributes'><svg class='icon xr-icon-file-text2'><use xlink:href='#icon-file-text2'></use></svg></label><input id='data-a436a223-b597-475e-b61b-fbd9b9df75bd' class='xr-var-data-in' type='checkbox'><label for='data-a436a223-b597-475e-b61b-fbd9b9df75bd' title='Show/Hide data repr'><svg class='icon xr-icon-database'><use xlink:href='#icon-database'></use></svg></label><div class='xr-var-attrs'><dl class='xr-attrs'></dl></div><div class='xr-var-data'><pre>array([[nan, nan, nan, ..., nan, nan, nan],\n",
       "       [nan, nan, nan, ..., nan, nan, nan],\n",
       "       [nan, nan, nan, ..., nan, nan, nan],\n",
       "       ...,\n",
       "       [nan, nan, nan, ..., nan, nan, nan],\n",
       "       [nan, nan, nan, ..., nan, nan, nan],\n",
       "       [nan, nan, nan, ..., nan, nan, nan]])</pre></div></li><li class='xr-var-item'><div class='xr-var-name'><span>time</span></div><div class='xr-var-dims'>(num_lines, num_pixels)</div><div class='xr-var-dtype'>datetime64[ns]</div><div class='xr-var-preview xr-preview'>2023-04-26T11:02:35.487796736 .....</div><input id='attrs-265e6a02-2387-43b8-a288-654eb5462c74' class='xr-var-attrs-in' type='checkbox' ><label for='attrs-265e6a02-2387-43b8-a288-654eb5462c74' title='Show/Hide attributes'><svg class='icon xr-icon-file-text2'><use xlink:href='#icon-file-text2'></use></svg></label><input id='data-ab1cc72b-6111-441e-9bbc-5f54178bdc4e' class='xr-var-data-in' type='checkbox'><label for='data-ab1cc72b-6111-441e-9bbc-5f54178bdc4e' title='Show/Hide data repr'><svg class='icon xr-icon-database'><use xlink:href='#icon-database'></use></svg></label><div class='xr-var-attrs'><dl class='xr-attrs'><dt><span>long_name :</span></dt><dd>time in UTC</dd><dt><span>standard_name :</span></dt><dd>time</dd><dt><span>tai_utc_difference :</span></dt><dd>37.0</dd><dt><span>leap_second :</span></dt><dd>0000-00-00T00:00:00Z</dd><dt><span>comment :</span></dt><dd>Time of measurement in seconds in the UTC time scale since 1 Jan 2000 00:00:00 UTC. [tai_utc_difference] is the difference between TAI and UTC reference time (seconds) for the first measurement of the data set. If a leap second occurs within the data set, the attribute leap_second is set to the UTC time at which the leap second occurs.</dd></dl></div><div class='xr-var-data'><pre>array([[&#x27;2023-04-26T11:02:35.487796736&#x27;, &#x27;2023-04-26T11:02:35.487796736&#x27;,\n",
       "        &#x27;2023-04-26T11:02:35.487796736&#x27;, ...,\n",
       "                                  &#x27;NaT&#x27;,                           &#x27;NaT&#x27;,\n",
       "                                  &#x27;NaT&#x27;],\n",
       "       [&#x27;2023-04-26T11:02:35.798311936&#x27;, &#x27;2023-04-26T11:02:35.798311936&#x27;,\n",
       "        &#x27;2023-04-26T11:02:35.798311936&#x27;, ...,\n",
       "                                  &#x27;NaT&#x27;,                           &#x27;NaT&#x27;,\n",
       "                                  &#x27;NaT&#x27;],\n",
       "       [&#x27;2023-04-26T11:02:36.108844032&#x27;, &#x27;2023-04-26T11:02:36.108844032&#x27;,\n",
       "        &#x27;2023-04-26T11:02:36.108844032&#x27;, ...,\n",
       "                                  &#x27;NaT&#x27;,                           &#x27;NaT&#x27;,\n",
       "                                  &#x27;NaT&#x27;],\n",
       "       ...,\n",
       "       [                          &#x27;NaT&#x27;,                           &#x27;NaT&#x27;,\n",
       "                                  &#x27;NaT&#x27;, ...,\n",
       "        &#x27;2023-04-26T11:04:04.591321984&#x27;, &#x27;2023-04-26T11:04:04.591321984&#x27;,\n",
       "        &#x27;2023-04-26T11:04:04.591321984&#x27;],\n",
       "       [                          &#x27;NaT&#x27;,                           &#x27;NaT&#x27;,\n",
       "                                  &#x27;NaT&#x27;, ...,\n",
       "        &#x27;2023-04-26T11:04:04.901669376&#x27;, &#x27;2023-04-26T11:04:04.901669376&#x27;,\n",
       "        &#x27;2023-04-26T11:04:04.901669376&#x27;],\n",
       "       [                          &#x27;NaT&#x27;,                           &#x27;NaT&#x27;,\n",
       "                                  &#x27;NaT&#x27;, ...,\n",
       "        &#x27;2023-04-26T11:04:05.211974400&#x27;, &#x27;2023-04-26T11:04:05.211974400&#x27;,\n",
       "        &#x27;2023-04-26T11:04:05.211974400&#x27;]], dtype=&#x27;datetime64[ns]&#x27;)</pre></div></li></ul></div></li><li class='xr-section-item'><input id='section-63b5195c-2c2e-46b1-87ff-b44dd1a4a400' class='xr-section-summary-in' type='checkbox' disabled ><label for='section-63b5195c-2c2e-46b1-87ff-b44dd1a4a400' class='xr-section-summary'  title='Expand/collapse section'>Indexes: <span>(0)</span></label><div class='xr-section-inline-details'></div><div class='xr-section-details'><ul class='xr-var-list'></ul></div></li><li class='xr-section-item'><input id='section-46630aeb-5d2f-435c-b59b-72f070e0b1d2' class='xr-section-summary-in' type='checkbox' disabled ><label for='section-46630aeb-5d2f-435c-b59b-72f070e0b1d2' class='xr-section-summary'  title='Expand/collapse section'>Attributes: <span>(0)</span></label><div class='xr-section-inline-details'></div><div class='xr-section-details'><dl class='xr-attrs'></dl></div></li></ul></div></div>"
      ],
      "text/plain": [
       "<xarray.Dataset>\n",
       "Dimensions:             (num_lines: 290, num_pixels: 69)\n",
       "Coordinates:\n",
       "    latitude            (num_lines, num_pixels) float64 -15.99 -15.99 ... -11.01\n",
       "    longitude           (num_lines, num_pixels) float64 122.2 122.3 ... 124.3\n",
       "    latitude_nadir      (num_lines) float64 -16.08 -16.07 ... -10.94 -10.92\n",
       "    longitude_nadir     (num_lines) float64 122.9 122.9 122.9 ... 123.7 123.7\n",
       "Dimensions without coordinates: num_lines, num_pixels\n",
       "Data variables:\n",
       "    ssha_l3             (num_lines, num_pixels) float64 nan nan nan ... nan nan\n",
       "    ssha_l2             (num_lines, num_pixels) float64 nan nan nan ... nan nan\n",
       "    ssha_l2_l3_all      (num_lines, num_pixels) float64 nan nan nan ... nan nan\n",
       "    ssha_l2_l3_dynamic  (num_lines, num_pixels) float64 nan nan nan ... nan nan\n",
       "    time                (num_lines, num_pixels) datetime64[ns] 2023-04-26T11:..."
      ]
     },
     "execution_count": 12,
     "metadata": {},
     "output_type": "execute_result"
    }
   ],
   "source": [
    "flags = 'good'\n",
    "ssha_l3 = ds_l3['ssha']\n",
    "ssha_l2 = ka.apply_flag(ds_l2['ssha_karin_2_qual'],\n",
    "    ds_l2['ssha_karin_2'] + ds_l2['height_cor_xover'], flags=flags)\n",
    "\n",
    "ssha_l2_l3_all = ka.calc_ssha_l2_l3_all(ds_l2, ds_l3, flags=flags)\n",
    "ssha_l2_l3_dynamic = ka.calc_ssha_l2_l3_dynamic(ds_l2, ds_l3, flags=flags)\n",
    "\n",
    "# Create a new dataset\n",
    "\n",
    "ds = xr.Dataset(\n",
    "    {'ssha_l3':ssha_l3,\n",
    "     'ssha_l2':ssha_l2,\n",
    "     'ssha_l2_l3_all':ssha_l2_l3_all,\n",
    "     'ssha_l2_l3_dynamic':ssha_l2_l3_dynamic,\n",
    "     'time':ds_l2['time'],\n",
    "    })\n",
    "ds"
   ]
  },
  {
   "cell_type": "code",
   "execution_count": 24,
   "id": "1f711d56-597b-45a0-81aa-4b33a49be9ff",
   "metadata": {},
   "outputs": [
    {
     "data": {
      "text/html": [
       "<div><svg style=\"position: absolute; width: 0; height: 0; overflow: hidden\">\n",
       "<defs>\n",
       "<symbol id=\"icon-database\" viewBox=\"0 0 32 32\">\n",
       "<path d=\"M16 0c-8.837 0-16 2.239-16 5v4c0 2.761 7.163 5 16 5s16-2.239 16-5v-4c0-2.761-7.163-5-16-5z\"></path>\n",
       "<path d=\"M16 17c-8.837 0-16-2.239-16-5v6c0 2.761 7.163 5 16 5s16-2.239 16-5v-6c0 2.761-7.163 5-16 5z\"></path>\n",
       "<path d=\"M16 26c-8.837 0-16-2.239-16-5v6c0 2.761 7.163 5 16 5s16-2.239 16-5v-6c0 2.761-7.163 5-16 5z\"></path>\n",
       "</symbol>\n",
       "<symbol id=\"icon-file-text2\" viewBox=\"0 0 32 32\">\n",
       "<path d=\"M28.681 7.159c-0.694-0.947-1.662-2.053-2.724-3.116s-2.169-2.030-3.116-2.724c-1.612-1.182-2.393-1.319-2.841-1.319h-15.5c-1.378 0-2.5 1.121-2.5 2.5v27c0 1.378 1.122 2.5 2.5 2.5h23c1.378 0 2.5-1.122 2.5-2.5v-19.5c0-0.448-0.137-1.23-1.319-2.841zM24.543 5.457c0.959 0.959 1.712 1.825 2.268 2.543h-4.811v-4.811c0.718 0.556 1.584 1.309 2.543 2.268zM28 29.5c0 0.271-0.229 0.5-0.5 0.5h-23c-0.271 0-0.5-0.229-0.5-0.5v-27c0-0.271 0.229-0.5 0.5-0.5 0 0 15.499-0 15.5 0v7c0 0.552 0.448 1 1 1h7v19.5z\"></path>\n",
       "<path d=\"M23 26h-14c-0.552 0-1-0.448-1-1s0.448-1 1-1h14c0.552 0 1 0.448 1 1s-0.448 1-1 1z\"></path>\n",
       "<path d=\"M23 22h-14c-0.552 0-1-0.448-1-1s0.448-1 1-1h14c0.552 0 1 0.448 1 1s-0.448 1-1 1z\"></path>\n",
       "<path d=\"M23 18h-14c-0.552 0-1-0.448-1-1s0.448-1 1-1h14c0.552 0 1 0.448 1 1s-0.448 1-1 1z\"></path>\n",
       "</symbol>\n",
       "</defs>\n",
       "</svg>\n",
       "<style>/* CSS stylesheet for displaying xarray objects in jupyterlab.\n",
       " *\n",
       " */\n",
       "\n",
       ":root {\n",
       "  --xr-font-color0: var(--jp-content-font-color0, rgba(0, 0, 0, 1));\n",
       "  --xr-font-color2: var(--jp-content-font-color2, rgba(0, 0, 0, 0.54));\n",
       "  --xr-font-color3: var(--jp-content-font-color3, rgba(0, 0, 0, 0.38));\n",
       "  --xr-border-color: var(--jp-border-color2, #e0e0e0);\n",
       "  --xr-disabled-color: var(--jp-layout-color3, #bdbdbd);\n",
       "  --xr-background-color: var(--jp-layout-color0, white);\n",
       "  --xr-background-color-row-even: var(--jp-layout-color1, white);\n",
       "  --xr-background-color-row-odd: var(--jp-layout-color2, #eeeeee);\n",
       "}\n",
       "\n",
       "html[theme=dark],\n",
       "body[data-theme=dark],\n",
       "body.vscode-dark {\n",
       "  --xr-font-color0: rgba(255, 255, 255, 1);\n",
       "  --xr-font-color2: rgba(255, 255, 255, 0.54);\n",
       "  --xr-font-color3: rgba(255, 255, 255, 0.38);\n",
       "  --xr-border-color: #1F1F1F;\n",
       "  --xr-disabled-color: #515151;\n",
       "  --xr-background-color: #111111;\n",
       "  --xr-background-color-row-even: #111111;\n",
       "  --xr-background-color-row-odd: #313131;\n",
       "}\n",
       "\n",
       ".xr-wrap {\n",
       "  display: block !important;\n",
       "  min-width: 300px;\n",
       "  max-width: 700px;\n",
       "}\n",
       "\n",
       ".xr-text-repr-fallback {\n",
       "  /* fallback to plain text repr when CSS is not injected (untrusted notebook) */\n",
       "  display: none;\n",
       "}\n",
       "\n",
       ".xr-header {\n",
       "  padding-top: 6px;\n",
       "  padding-bottom: 6px;\n",
       "  margin-bottom: 4px;\n",
       "  border-bottom: solid 1px var(--xr-border-color);\n",
       "}\n",
       "\n",
       ".xr-header > div,\n",
       ".xr-header > ul {\n",
       "  display: inline;\n",
       "  margin-top: 0;\n",
       "  margin-bottom: 0;\n",
       "}\n",
       "\n",
       ".xr-obj-type,\n",
       ".xr-array-name {\n",
       "  margin-left: 2px;\n",
       "  margin-right: 10px;\n",
       "}\n",
       "\n",
       ".xr-obj-type {\n",
       "  color: var(--xr-font-color2);\n",
       "}\n",
       "\n",
       ".xr-sections {\n",
       "  padding-left: 0 !important;\n",
       "  display: grid;\n",
       "  grid-template-columns: 150px auto auto 1fr 20px 20px;\n",
       "}\n",
       "\n",
       ".xr-section-item {\n",
       "  display: contents;\n",
       "}\n",
       "\n",
       ".xr-section-item input {\n",
       "  display: none;\n",
       "}\n",
       "\n",
       ".xr-section-item input + label {\n",
       "  color: var(--xr-disabled-color);\n",
       "}\n",
       "\n",
       ".xr-section-item input:enabled + label {\n",
       "  cursor: pointer;\n",
       "  color: var(--xr-font-color2);\n",
       "}\n",
       "\n",
       ".xr-section-item input:enabled + label:hover {\n",
       "  color: var(--xr-font-color0);\n",
       "}\n",
       "\n",
       ".xr-section-summary {\n",
       "  grid-column: 1;\n",
       "  color: var(--xr-font-color2);\n",
       "  font-weight: 500;\n",
       "}\n",
       "\n",
       ".xr-section-summary > span {\n",
       "  display: inline-block;\n",
       "  padding-left: 0.5em;\n",
       "}\n",
       "\n",
       ".xr-section-summary-in:disabled + label {\n",
       "  color: var(--xr-font-color2);\n",
       "}\n",
       "\n",
       ".xr-section-summary-in + label:before {\n",
       "  display: inline-block;\n",
       "  content: '►';\n",
       "  font-size: 11px;\n",
       "  width: 15px;\n",
       "  text-align: center;\n",
       "}\n",
       "\n",
       ".xr-section-summary-in:disabled + label:before {\n",
       "  color: var(--xr-disabled-color);\n",
       "}\n",
       "\n",
       ".xr-section-summary-in:checked + label:before {\n",
       "  content: '▼';\n",
       "}\n",
       "\n",
       ".xr-section-summary-in:checked + label > span {\n",
       "  display: none;\n",
       "}\n",
       "\n",
       ".xr-section-summary,\n",
       ".xr-section-inline-details {\n",
       "  padding-top: 4px;\n",
       "  padding-bottom: 4px;\n",
       "}\n",
       "\n",
       ".xr-section-inline-details {\n",
       "  grid-column: 2 / -1;\n",
       "}\n",
       "\n",
       ".xr-section-details {\n",
       "  display: none;\n",
       "  grid-column: 1 / -1;\n",
       "  margin-bottom: 5px;\n",
       "}\n",
       "\n",
       ".xr-section-summary-in:checked ~ .xr-section-details {\n",
       "  display: contents;\n",
       "}\n",
       "\n",
       ".xr-array-wrap {\n",
       "  grid-column: 1 / -1;\n",
       "  display: grid;\n",
       "  grid-template-columns: 20px auto;\n",
       "}\n",
       "\n",
       ".xr-array-wrap > label {\n",
       "  grid-column: 1;\n",
       "  vertical-align: top;\n",
       "}\n",
       "\n",
       ".xr-preview {\n",
       "  color: var(--xr-font-color3);\n",
       "}\n",
       "\n",
       ".xr-array-preview,\n",
       ".xr-array-data {\n",
       "  padding: 0 5px !important;\n",
       "  grid-column: 2;\n",
       "}\n",
       "\n",
       ".xr-array-data,\n",
       ".xr-array-in:checked ~ .xr-array-preview {\n",
       "  display: none;\n",
       "}\n",
       "\n",
       ".xr-array-in:checked ~ .xr-array-data,\n",
       ".xr-array-preview {\n",
       "  display: inline-block;\n",
       "}\n",
       "\n",
       ".xr-dim-list {\n",
       "  display: inline-block !important;\n",
       "  list-style: none;\n",
       "  padding: 0 !important;\n",
       "  margin: 0;\n",
       "}\n",
       "\n",
       ".xr-dim-list li {\n",
       "  display: inline-block;\n",
       "  padding: 0;\n",
       "  margin: 0;\n",
       "}\n",
       "\n",
       ".xr-dim-list:before {\n",
       "  content: '(';\n",
       "}\n",
       "\n",
       ".xr-dim-list:after {\n",
       "  content: ')';\n",
       "}\n",
       "\n",
       ".xr-dim-list li:not(:last-child):after {\n",
       "  content: ',';\n",
       "  padding-right: 5px;\n",
       "}\n",
       "\n",
       ".xr-has-index {\n",
       "  font-weight: bold;\n",
       "}\n",
       "\n",
       ".xr-var-list,\n",
       ".xr-var-item {\n",
       "  display: contents;\n",
       "}\n",
       "\n",
       ".xr-var-item > div,\n",
       ".xr-var-item label,\n",
       ".xr-var-item > .xr-var-name span {\n",
       "  background-color: var(--xr-background-color-row-even);\n",
       "  margin-bottom: 0;\n",
       "}\n",
       "\n",
       ".xr-var-item > .xr-var-name:hover span {\n",
       "  padding-right: 5px;\n",
       "}\n",
       "\n",
       ".xr-var-list > li:nth-child(odd) > div,\n",
       ".xr-var-list > li:nth-child(odd) > label,\n",
       ".xr-var-list > li:nth-child(odd) > .xr-var-name span {\n",
       "  background-color: var(--xr-background-color-row-odd);\n",
       "}\n",
       "\n",
       ".xr-var-name {\n",
       "  grid-column: 1;\n",
       "}\n",
       "\n",
       ".xr-var-dims {\n",
       "  grid-column: 2;\n",
       "}\n",
       "\n",
       ".xr-var-dtype {\n",
       "  grid-column: 3;\n",
       "  text-align: right;\n",
       "  color: var(--xr-font-color2);\n",
       "}\n",
       "\n",
       ".xr-var-preview {\n",
       "  grid-column: 4;\n",
       "}\n",
       "\n",
       ".xr-index-preview {\n",
       "  grid-column: 2 / 5;\n",
       "  color: var(--xr-font-color2);\n",
       "}\n",
       "\n",
       ".xr-var-name,\n",
       ".xr-var-dims,\n",
       ".xr-var-dtype,\n",
       ".xr-preview,\n",
       ".xr-attrs dt {\n",
       "  white-space: nowrap;\n",
       "  overflow: hidden;\n",
       "  text-overflow: ellipsis;\n",
       "  padding-right: 10px;\n",
       "}\n",
       "\n",
       ".xr-var-name:hover,\n",
       ".xr-var-dims:hover,\n",
       ".xr-var-dtype:hover,\n",
       ".xr-attrs dt:hover {\n",
       "  overflow: visible;\n",
       "  width: auto;\n",
       "  z-index: 1;\n",
       "}\n",
       "\n",
       ".xr-var-attrs,\n",
       ".xr-var-data,\n",
       ".xr-index-data {\n",
       "  display: none;\n",
       "  background-color: var(--xr-background-color) !important;\n",
       "  padding-bottom: 5px !important;\n",
       "}\n",
       "\n",
       ".xr-var-attrs-in:checked ~ .xr-var-attrs,\n",
       ".xr-var-data-in:checked ~ .xr-var-data,\n",
       ".xr-index-data-in:checked ~ .xr-index-data {\n",
       "  display: block;\n",
       "}\n",
       "\n",
       ".xr-var-data > table {\n",
       "  float: right;\n",
       "}\n",
       "\n",
       ".xr-var-name span,\n",
       ".xr-var-data,\n",
       ".xr-index-name div,\n",
       ".xr-index-data,\n",
       ".xr-attrs {\n",
       "  padding-left: 25px !important;\n",
       "}\n",
       "\n",
       ".xr-attrs,\n",
       ".xr-var-attrs,\n",
       ".xr-var-data,\n",
       ".xr-index-data {\n",
       "  grid-column: 1 / -1;\n",
       "}\n",
       "\n",
       "dl.xr-attrs {\n",
       "  padding: 0;\n",
       "  margin: 0;\n",
       "  display: grid;\n",
       "  grid-template-columns: 125px auto;\n",
       "}\n",
       "\n",
       ".xr-attrs dt,\n",
       ".xr-attrs dd {\n",
       "  padding: 0;\n",
       "  margin: 0;\n",
       "  float: left;\n",
       "  padding-right: 10px;\n",
       "  width: auto;\n",
       "}\n",
       "\n",
       ".xr-attrs dt {\n",
       "  font-weight: normal;\n",
       "  grid-column: 1;\n",
       "}\n",
       "\n",
       ".xr-attrs dt:hover span {\n",
       "  display: inline-block;\n",
       "  background: var(--xr-background-color);\n",
       "  padding-right: 10px;\n",
       "}\n",
       "\n",
       ".xr-attrs dd {\n",
       "  grid-column: 2;\n",
       "  white-space: pre-wrap;\n",
       "  word-break: break-all;\n",
       "}\n",
       "\n",
       ".xr-icon-database,\n",
       ".xr-icon-file-text2,\n",
       ".xr-no-icon {\n",
       "  display: inline-block;\n",
       "  vertical-align: middle;\n",
       "  width: 1em;\n",
       "  height: 1.5em !important;\n",
       "  stroke-width: 0;\n",
       "  stroke: currentColor;\n",
       "  fill: currentColor;\n",
       "}\n",
       "</style><pre class='xr-text-repr-fallback'>&lt;xarray.Dataset&gt;\n",
       "Dimensions:             (num_lines: 290, num_pixels: 69)\n",
       "Coordinates:\n",
       "    latitude            (num_lines, num_pixels) float64 -15.99 -15.99 ... -11.01\n",
       "    longitude           (num_lines, num_pixels) float64 122.2 122.3 ... 124.3\n",
       "    latitude_nadir      (num_lines) float64 -16.08 -16.07 ... -10.94 -10.92\n",
       "    longitude_nadir     (num_lines) float64 122.9 122.9 122.9 ... 123.7 123.7\n",
       "Dimensions without coordinates: num_lines, num_pixels\n",
       "Data variables:\n",
       "    ssha_l3             (num_lines, num_pixels) float64 nan nan nan ... nan nan\n",
       "    ssha_l2             (num_lines, num_pixels) float64 nan nan nan ... nan nan\n",
       "    ssha_l2_l3_all      (num_lines, num_pixels) float64 nan nan nan ... nan nan\n",
       "    ssha_l2_l3_dynamic  (num_lines, num_pixels) float64 nan nan nan ... nan nan\n",
       "    time                (num_lines, num_pixels) datetime64[ns] 2023-04-26T11:...\n",
       "Attributes:\n",
       "    l2_version:    V1.2.1\n",
       "    l3_version:    1.0\n",
       "    l2_file:       /home/jupyter-mrayson/data/SWOT/l2_karin_v1_0/cycle_502/SW...\n",
       "    l3_file:       /home/jupyter-mrayson/data/SWOT/l3_karin_nadir_v1_0/cycle_...\n",
       "    quality_flag:  good</pre><div class='xr-wrap' style='display:none'><div class='xr-header'><div class='xr-obj-type'>xarray.Dataset</div></div><ul class='xr-sections'><li class='xr-section-item'><input id='section-c19270cb-d885-4d1d-82bf-e4fc5faf6723' class='xr-section-summary-in' type='checkbox' disabled ><label for='section-c19270cb-d885-4d1d-82bf-e4fc5faf6723' class='xr-section-summary'  title='Expand/collapse section'>Dimensions:</label><div class='xr-section-inline-details'><ul class='xr-dim-list'><li><span>num_lines</span>: 290</li><li><span>num_pixels</span>: 69</li></ul></div><div class='xr-section-details'></div></li><li class='xr-section-item'><input id='section-3c68762a-8b55-4caf-8c9f-0df27155a1d6' class='xr-section-summary-in' type='checkbox'  checked><label for='section-3c68762a-8b55-4caf-8c9f-0df27155a1d6' class='xr-section-summary' >Coordinates: <span>(4)</span></label><div class='xr-section-inline-details'></div><div class='xr-section-details'><ul class='xr-var-list'><li class='xr-var-item'><div class='xr-var-name'><span>latitude</span></div><div class='xr-var-dims'>(num_lines, num_pixels)</div><div class='xr-var-dtype'>float64</div><div class='xr-var-preview xr-preview'>-15.99 -15.99 ... -11.01 -11.01</div><input id='attrs-aea4ddd4-fa54-4dce-905b-23f2333b2282' class='xr-var-attrs-in' type='checkbox' ><label for='attrs-aea4ddd4-fa54-4dce-905b-23f2333b2282' title='Show/Hide attributes'><svg class='icon xr-icon-file-text2'><use xlink:href='#icon-file-text2'></use></svg></label><input id='data-afb8dbbb-685e-4323-8ac7-dae8cb4de93d' class='xr-var-data-in' type='checkbox'><label for='data-afb8dbbb-685e-4323-8ac7-dae8cb4de93d' title='Show/Hide data repr'><svg class='icon xr-icon-database'><use xlink:href='#icon-database'></use></svg></label><div class='xr-var-attrs'><dl class='xr-attrs'><dt><span>comment :</span></dt><dd>Latitude of measurement [-80,80]. Positive latitude is North latitude, negative latitude is South latitude.</dd><dt><span>long_name :</span></dt><dd>latitude (positive N, negative S)</dd><dt><span>standard_name :</span></dt><dd>latitude</dd><dt><span>units :</span></dt><dd>degrees_north</dd></dl></div><div class='xr-var-data'><pre>array([[-15.985795, -15.988684, -15.991571, ..., -16.173025, -16.175808,\n",
       "        -16.178589],\n",
       "       [-15.967963, -15.970851, -15.973737, ..., -16.155161, -16.157944,\n",
       "        -16.160725],\n",
       "       [-15.950131, -15.953018, -15.955904, ..., -16.137297, -16.14008 ,\n",
       "        -16.142861],\n",
       "       ...,\n",
       "       [-10.863322, -10.866081, -10.868838, ..., -11.043111, -11.045799,\n",
       "        -11.048485],\n",
       "       [-10.845459, -10.848218, -10.850975, ..., -11.025227, -11.027915,\n",
       "        -11.030602],\n",
       "       [-10.827596, -10.830354, -10.833111, ..., -11.007344, -11.010031,\n",
       "        -11.012718]])</pre></div></li><li class='xr-var-item'><div class='xr-var-name'><span>longitude</span></div><div class='xr-var-dims'>(num_lines, num_pixels)</div><div class='xr-var-dtype'>float64</div><div class='xr-var-preview xr-preview'>122.2 122.3 122.3 ... 124.3 124.3</div><input id='attrs-15edb4d7-61f8-4c9f-9c2f-22827818cd41' class='xr-var-attrs-in' type='checkbox' ><label for='attrs-15edb4d7-61f8-4c9f-9c2f-22827818cd41' title='Show/Hide attributes'><svg class='icon xr-icon-file-text2'><use xlink:href='#icon-file-text2'></use></svg></label><input id='data-6b087e1d-0d4d-430a-b953-0207b951103d' class='xr-var-data-in' type='checkbox'><label for='data-6b087e1d-0d4d-430a-b953-0207b951103d' title='Show/Hide data repr'><svg class='icon xr-icon-database'><use xlink:href='#icon-database'></use></svg></label><div class='xr-var-attrs'><dl class='xr-attrs'><dt><span>comment :</span></dt><dd>Longitude of measurement. East longitude relative to Greenwich meridian.</dd><dt><span>long_name :</span></dt><dd>longitude (degrees East)</dd><dt><span>standard_name :</span></dt><dd>longitude</dd><dt><span>units :</span></dt><dd>degrees_east</dd></dl></div><div class='xr-var-data'><pre>array([[122.236439, 122.254883, 122.273328, ..., 123.454886, 123.473365,\n",
       "        123.491844],\n",
       "       [122.239426, 122.257868, 122.276312, ..., 123.45777 , 123.476247,\n",
       "        123.494724],\n",
       "       [122.242412, 122.260853, 122.279295, ..., 123.460653, 123.479128,\n",
       "        123.497604],\n",
       "       ...,\n",
       "       [123.064031, 123.082109, 123.100187, ..., 124.25788 , 124.27598 ,\n",
       "        124.29408 ],\n",
       "       [123.066823, 123.0849  , 123.102977, ..., 124.260605, 124.278703,\n",
       "        124.296802],\n",
       "       [123.069615, 123.087691, 123.105767, ..., 124.263328, 124.281426,\n",
       "        124.299524]])</pre></div></li><li class='xr-var-item'><div class='xr-var-name'><span>latitude_nadir</span></div><div class='xr-var-dims'>(num_lines)</div><div class='xr-var-dtype'>float64</div><div class='xr-var-preview xr-preview'>-16.08 -16.07 ... -10.94 -10.92</div><input id='attrs-870bca3b-1e66-461a-a6f7-26de7170c64f' class='xr-var-attrs-in' type='checkbox' ><label for='attrs-870bca3b-1e66-461a-a6f7-26de7170c64f' title='Show/Hide attributes'><svg class='icon xr-icon-file-text2'><use xlink:href='#icon-file-text2'></use></svg></label><input id='data-884e2d03-e4b6-4376-959f-499b638aeb40' class='xr-var-data-in' type='checkbox'><label for='data-884e2d03-e4b6-4376-959f-499b638aeb40' title='Show/Hide data repr'><svg class='icon xr-icon-database'><use xlink:href='#icon-database'></use></svg></label><div class='xr-var-attrs'><dl class='xr-attrs'><dt><span>long_name :</span></dt><dd>latitude of satellite nadir point</dd><dt><span>standard_name :</span></dt><dd>latitude</dd><dt><span>units :</span></dt><dd>degrees_north</dd><dt><span>quality_flag :</span></dt><dd>orbit_qual</dd><dt><span>valid_min :</span></dt><dd>-80000000</dd><dt><span>valid_max :</span></dt><dd>80000000</dd><dt><span>comment :</span></dt><dd>Geodetic latitude [-80,80] (degrees north of equator) of the satellite nadir point.</dd></dl></div><div class='xr-var-data'><pre>array([-16.082992, -16.065142, -16.047291, -16.029409, -16.011555,\n",
       "       -15.993706, -15.975853, -15.958007, -15.940151, -15.922306,\n",
       "       -15.90445 , -15.886603, -15.86875 , -15.850901, -15.833045,\n",
       "       -15.815154, -15.797299, -15.779449, -15.761595, -15.743747,\n",
       "       -15.72589 , -15.708044, -15.690187, -15.672338, -15.654484,\n",
       "       -15.636632, -15.618779, -15.600909, -15.583059, -15.565204,\n",
       "       -15.547352, -15.529501, -15.511644, -15.493796, -15.475938,\n",
       "       -15.458089, -15.440233, -15.42238 , -15.404525, -15.386656,\n",
       "       -15.368806, -15.350949, -15.333096, -15.315243, -15.297386,\n",
       "       -15.279537, -15.261677, -15.243827, -15.22597 , -15.208115,\n",
       "       -15.190264, -15.172406, -15.154557, -15.136697, -15.118845,\n",
       "       -15.10099 , -15.083132, -15.065281, -15.04742 , -15.02957 ,\n",
       "       -15.011712, -14.993856, -14.976004, -14.958148, -14.940297,\n",
       "       -14.922436, -14.904583, -14.886726, -14.868867, -14.851015,\n",
       "       -14.833153, -14.815302, -14.797442, -14.779586, -14.761733,\n",
       "       -14.743876, -14.726024, -14.708161, -14.690308, -14.672449,\n",
       "       -14.65459 , -14.636737, -14.618874, -14.601021, -14.583159,\n",
       "       -14.565303, -14.54745 , -14.529595, -14.511741, -14.493877,\n",
       "       -14.476024, -14.458163, -14.440304, -14.422448, -14.404584,\n",
       "       -14.386731, -14.368867, -14.35101 , -14.333158, -14.315306,\n",
       "...\n",
       "       -12.689735, -12.671868, -12.653997, -12.636134, -12.618254,\n",
       "       -12.600389, -12.58252 , -12.56465 , -12.546786, -12.528912,\n",
       "       -12.51105 , -12.493177, -12.475312, -12.457443, -12.439573,\n",
       "       -12.421706, -12.403818, -12.38595 , -12.36808 , -12.35021 ,\n",
       "       -12.332345, -12.314471, -12.296607, -12.278733, -12.260867,\n",
       "       -12.242998, -12.225124, -12.207264, -12.1894  , -12.171539,\n",
       "       -12.153664, -12.135797, -12.117928, -12.100054, -12.082189,\n",
       "       -12.064313, -12.046449, -12.028573, -12.010709, -11.992823,\n",
       "       -11.974897, -11.957025, -11.939154, -11.921282, -11.903414,\n",
       "       -11.885539, -11.867674, -11.849797, -11.831931, -11.814057,\n",
       "       -11.796186, -11.778315, -11.760431, -11.742565, -11.724689,\n",
       "       -11.70682 , -11.688949, -11.671074, -11.653207, -11.63533 ,\n",
       "       -11.617463, -11.599588, -11.581716, -11.563849, -11.545976,\n",
       "       -11.52811 , -11.510232, -11.492363, -11.47449 , -11.456615,\n",
       "       -11.438747, -11.420869, -11.403002, -11.385125, -11.367255,\n",
       "       -11.349378, -11.331495, -11.313628, -11.295749, -11.27788 ,\n",
       "       -11.260005, -11.242131, -11.224261, -11.206382, -11.188514,\n",
       "       -11.170636, -11.152765, -11.134893, -11.117019, -11.09915 ,\n",
       "       -11.08127 , -11.063402, -11.045524, -11.02765 , -11.009779,\n",
       "       -10.991899, -10.974031, -10.956151, -10.93828 , -10.920411])</pre></div></li><li class='xr-var-item'><div class='xr-var-name'><span>longitude_nadir</span></div><div class='xr-var-dims'>(num_lines)</div><div class='xr-var-dtype'>float64</div><div class='xr-var-preview xr-preview'>122.9 122.9 122.9 ... 123.7 123.7</div><input id='attrs-92078f29-9e67-45cd-b204-025e0fad3e30' class='xr-var-attrs-in' type='checkbox' ><label for='attrs-92078f29-9e67-45cd-b204-025e0fad3e30' title='Show/Hide attributes'><svg class='icon xr-icon-file-text2'><use xlink:href='#icon-file-text2'></use></svg></label><input id='data-1a988a4b-4f2d-4c6f-ad56-514ac204e0c5' class='xr-var-data-in' type='checkbox'><label for='data-1a988a4b-4f2d-4c6f-ad56-514ac204e0c5' title='Show/Hide data repr'><svg class='icon xr-icon-database'><use xlink:href='#icon-database'></use></svg></label><div class='xr-var-attrs'><dl class='xr-attrs'><dt><span>long_name :</span></dt><dd>longitude of satellite nadir point</dd><dt><span>standard_name :</span></dt><dd>longitude</dd><dt><span>units :</span></dt><dd>degrees_east</dd><dt><span>quality_flag :</span></dt><dd>orbit_qual</dd><dt><span>valid_min :</span></dt><dd>0</dd><dt><span>valid_max :</span></dt><dd>359999999</dd><dt><span>comment :</span></dt><dd>Longitude (degrees east of Grenwich meridian) of the satellite nadir point.</dd></dl></div><div class='xr-var-data'><pre>array([122.862918, 122.86585 , 122.868782, 122.871718, 122.874649,\n",
       "       122.877578, 122.880507, 122.883434, 122.886362, 122.889288,\n",
       "       122.892214, 122.895138, 122.898063, 122.900986, 122.903909,\n",
       "       122.906838, 122.909759, 122.91268 , 122.9156  , 122.918518,\n",
       "       122.921437, 122.924354, 122.927271, 122.930187, 122.933102,\n",
       "       122.936017, 122.938931, 122.941847, 122.944759, 122.947671,\n",
       "       122.950581, 122.953491, 122.956401, 122.959309, 122.962218,\n",
       "       122.965125, 122.968032, 122.970938, 122.973843, 122.97675 ,\n",
       "       122.979653, 122.982557, 122.985459, 122.98836 , 122.991262,\n",
       "       122.994161, 122.997061, 122.999959, 123.002858, 123.005755,\n",
       "       123.008651, 123.011547, 123.014442, 123.017337, 123.02023 ,\n",
       "       123.023124, 123.026016, 123.028907, 123.031799, 123.034689,\n",
       "       123.037579, 123.040468, 123.043355, 123.046243, 123.049129,\n",
       "       123.052016, 123.054901, 123.057786, 123.06067 , 123.063553,\n",
       "       123.066436, 123.069318, 123.0722  , 123.07508 , 123.077959,\n",
       "       123.080839, 123.083717, 123.086595, 123.089472, 123.092349,\n",
       "       123.095225, 123.0981  , 123.100975, 123.103848, 123.106722,\n",
       "       123.109594, 123.112465, 123.115336, 123.118206, 123.121077,\n",
       "       123.123945, 123.126814, 123.129682, 123.132549, 123.135416,\n",
       "       123.138281, 123.141147, 123.144011, 123.146874, 123.149736,\n",
       "...\n",
       "       123.407666, 123.410473, 123.41328 , 123.416085, 123.418892,\n",
       "       123.421696, 123.4245  , 123.427304, 123.430106, 123.43291 ,\n",
       "       123.43571 , 123.438512, 123.441313, 123.444113, 123.446912,\n",
       "       123.449711, 123.452513, 123.45531 , 123.458108, 123.460905,\n",
       "       123.4637  , 123.466497, 123.469291, 123.472086, 123.47488 ,\n",
       "       123.477673, 123.480467, 123.483257, 123.486048, 123.488838,\n",
       "       123.49163 , 123.49442 , 123.497209, 123.499999, 123.502786,\n",
       "       123.505575, 123.508362, 123.511149, 123.513935, 123.516723,\n",
       "       123.519517, 123.522302, 123.525086, 123.52787 , 123.530653,\n",
       "       123.533436, 123.536217, 123.539   , 123.54178 , 123.544561,\n",
       "       123.547341, 123.55012 , 123.552901, 123.555679, 123.558457,\n",
       "       123.561234, 123.564011, 123.566788, 123.569563, 123.572339,\n",
       "       123.575113, 123.577887, 123.580661, 123.583433, 123.586206,\n",
       "       123.588977, 123.59175 , 123.59452 , 123.597291, 123.600062,\n",
       "       123.602831, 123.6056  , 123.608368, 123.611137, 123.613904,\n",
       "       123.616672, 123.61944 , 123.622205, 123.624971, 123.627736,\n",
       "       123.630501, 123.633265, 123.636028, 123.638792, 123.641553,\n",
       "       123.644316, 123.647077, 123.649838, 123.652598, 123.655358,\n",
       "       123.658118, 123.660876, 123.663636, 123.666394, 123.669151,\n",
       "       123.671909, 123.674664, 123.677421, 123.680177, 123.682931])</pre></div></li></ul></div></li><li class='xr-section-item'><input id='section-65383406-2193-4880-9723-2a0684e4d1bc' class='xr-section-summary-in' type='checkbox'  checked><label for='section-65383406-2193-4880-9723-2a0684e4d1bc' class='xr-section-summary' >Data variables: <span>(5)</span></label><div class='xr-section-inline-details'></div><div class='xr-section-details'><ul class='xr-var-list'><li class='xr-var-item'><div class='xr-var-name'><span>ssha_l3</span></div><div class='xr-var-dims'>(num_lines, num_pixels)</div><div class='xr-var-dtype'>float64</div><div class='xr-var-preview xr-preview'>nan nan nan nan ... nan nan nan nan</div><input id='attrs-d9b64cd6-7d4e-4eb2-a3ac-17b48f48d6b3' class='xr-var-attrs-in' type='checkbox' ><label for='attrs-d9b64cd6-7d4e-4eb2-a3ac-17b48f48d6b3' title='Show/Hide attributes'><svg class='icon xr-icon-file-text2'><use xlink:href='#icon-file-text2'></use></svg></label><input id='data-1be85b04-f7c8-4cc5-baf5-46a29737cb6c' class='xr-var-data-in' type='checkbox'><label for='data-1be85b04-f7c8-4cc5-baf5-46a29737cb6c' title='Show/Hide data repr'><svg class='icon xr-icon-database'><use xlink:href='#icon-database'></use></svg></label><div class='xr-var-attrs'><dl class='xr-attrs'><dt><span>long_name :</span></dt><dd>sea surface height anomaly</dd><dt><span>standard_name :</span></dt><dd>sea_surface_height_above_reference_ellipsoid</dd><dt><span>comment :</span></dt><dd>Height of the sea surface anomaly with all corrections applied.</dd><dt><span>units :</span></dt><dd>m</dd></dl></div><div class='xr-var-data'><pre>array([[nan, nan, nan, ..., nan, nan, nan],\n",
       "       [nan, nan, nan, ..., nan, nan, nan],\n",
       "       [nan, nan, nan, ..., nan, nan, nan],\n",
       "       ...,\n",
       "       [nan, nan, nan, ..., nan, nan, nan],\n",
       "       [nan, nan, nan, ..., nan, nan, nan],\n",
       "       [nan, nan, nan, ..., nan, nan, nan]])</pre></div></li><li class='xr-var-item'><div class='xr-var-name'><span>ssha_l2</span></div><div class='xr-var-dims'>(num_lines, num_pixels)</div><div class='xr-var-dtype'>float64</div><div class='xr-var-preview xr-preview'>nan nan nan nan ... nan nan nan nan</div><input id='attrs-a9a8a93e-43cb-43e2-93e3-7381570a98b0' class='xr-var-attrs-in' type='checkbox' ><label for='attrs-a9a8a93e-43cb-43e2-93e3-7381570a98b0' title='Show/Hide attributes'><svg class='icon xr-icon-file-text2'><use xlink:href='#icon-file-text2'></use></svg></label><input id='data-d3d62ad5-25a7-4939-b86d-3cd2c4f6b287' class='xr-var-data-in' type='checkbox'><label for='data-d3d62ad5-25a7-4939-b86d-3cd2c4f6b287' title='Show/Hide data repr'><svg class='icon xr-icon-database'><use xlink:href='#icon-database'></use></svg></label><div class='xr-var-attrs'><dl class='xr-attrs'><dt><span>long_name :</span></dt><dd>sea surface height anomaly</dd><dt><span>standard_name :</span></dt><dd>sea_surface_height_above_reference_ellipsoid</dd><dt><span>comment :</span></dt><dd>ds_l2[&#x27;ssha_karin_2&#x27;] + ds_l2[&#x27;height_cor_xover&#x27;]</dd><dt><span>units :</span></dt><dd>m</dd></dl></div><div class='xr-var-data'><pre>array([[nan, nan, nan, ..., nan, nan, nan],\n",
       "       [nan, nan, nan, ..., nan, nan, nan],\n",
       "       [nan, nan, nan, ..., nan, nan, nan],\n",
       "       ...,\n",
       "       [nan, nan, nan, ..., nan, nan, nan],\n",
       "       [nan, nan, nan, ..., nan, nan, nan],\n",
       "       [nan, nan, nan, ..., nan, nan, nan]])</pre></div></li><li class='xr-var-item'><div class='xr-var-name'><span>ssha_l2_l3_all</span></div><div class='xr-var-dims'>(num_lines, num_pixels)</div><div class='xr-var-dtype'>float64</div><div class='xr-var-preview xr-preview'>nan nan nan nan ... nan nan nan nan</div><input id='attrs-eb9225d6-b0b9-4b6a-bbf7-5132c0825d45' class='xr-var-attrs-in' type='checkbox' ><label for='attrs-eb9225d6-b0b9-4b6a-bbf7-5132c0825d45' title='Show/Hide attributes'><svg class='icon xr-icon-file-text2'><use xlink:href='#icon-file-text2'></use></svg></label><input id='data-83a95d49-5edf-4843-a85a-193843386f4b' class='xr-var-data-in' type='checkbox'><label for='data-83a95d49-5edf-4843-a85a-193843386f4b' title='Show/Hide data repr'><svg class='icon xr-icon-database'><use xlink:href='#icon-database'></use></svg></label><div class='xr-var-attrs'><dl class='xr-attrs'><dt><span>comment :</span></dt><dd>ssha = ds_l2[&#x27;ssh_karin_2&#x27;]        + ds_l3[&#x27;calibration&#x27;]        - ds_l3[&#x27;mss&#x27;]         - ds_l2[&#x27;solid_earth_tide&#x27;]        - ds_l3[&#x27;ocean_tide&#x27;]        - ds_l2[&#x27;pole_tide&#x27;]        - ds_l2[&#x27;dac&#x27;]    </dd></dl></div><div class='xr-var-data'><pre>array([[nan, nan, nan, ..., nan, nan, nan],\n",
       "       [nan, nan, nan, ..., nan, nan, nan],\n",
       "       [nan, nan, nan, ..., nan, nan, nan],\n",
       "       ...,\n",
       "       [nan, nan, nan, ..., nan, nan, nan],\n",
       "       [nan, nan, nan, ..., nan, nan, nan],\n",
       "       [nan, nan, nan, ..., nan, nan, nan]])</pre></div></li><li class='xr-var-item'><div class='xr-var-name'><span>ssha_l2_l3_dynamic</span></div><div class='xr-var-dims'>(num_lines, num_pixels)</div><div class='xr-var-dtype'>float64</div><div class='xr-var-preview xr-preview'>nan nan nan nan ... nan nan nan nan</div><input id='attrs-8d47a11e-b986-4c70-8dcb-c02b9bdaa2dd' class='xr-var-attrs-in' type='checkbox' ><label for='attrs-8d47a11e-b986-4c70-8dcb-c02b9bdaa2dd' title='Show/Hide attributes'><svg class='icon xr-icon-file-text2'><use xlink:href='#icon-file-text2'></use></svg></label><input id='data-6720a0ba-ddf4-4251-97a4-582daefc7a1b' class='xr-var-data-in' type='checkbox'><label for='data-6720a0ba-ddf4-4251-97a4-582daefc7a1b' title='Show/Hide data repr'><svg class='icon xr-icon-database'><use xlink:href='#icon-database'></use></svg></label><div class='xr-var-attrs'><dl class='xr-attrs'><dt><span>comment :</span></dt><dd>ssha = ds_l2[&#x27;ssh_karin_2&#x27;]        + ds_l2[&#x27;height_cor_xover&#x27;]        - ds_l3[&#x27;mss&#x27;]         - ds_l2[&#x27;solid_earth_tide&#x27;]        - ds_l3[&#x27;ocean_tide&#x27;]        - ds_l2[&#x27;pole_tide&#x27;]        - ds_l2[&#x27;dac&#x27;]    </dd></dl></div><div class='xr-var-data'><pre>array([[nan, nan, nan, ..., nan, nan, nan],\n",
       "       [nan, nan, nan, ..., nan, nan, nan],\n",
       "       [nan, nan, nan, ..., nan, nan, nan],\n",
       "       ...,\n",
       "       [nan, nan, nan, ..., nan, nan, nan],\n",
       "       [nan, nan, nan, ..., nan, nan, nan],\n",
       "       [nan, nan, nan, ..., nan, nan, nan]])</pre></div></li><li class='xr-var-item'><div class='xr-var-name'><span>time</span></div><div class='xr-var-dims'>(num_lines, num_pixels)</div><div class='xr-var-dtype'>datetime64[ns]</div><div class='xr-var-preview xr-preview'>2023-04-26T11:02:35.487796736 .....</div><input id='attrs-b4476692-09c2-4e65-b5df-d0b6597d4e3a' class='xr-var-attrs-in' type='checkbox' ><label for='attrs-b4476692-09c2-4e65-b5df-d0b6597d4e3a' title='Show/Hide attributes'><svg class='icon xr-icon-file-text2'><use xlink:href='#icon-file-text2'></use></svg></label><input id='data-1f664694-35e1-4eda-9b78-7d1cbbe91cc2' class='xr-var-data-in' type='checkbox'><label for='data-1f664694-35e1-4eda-9b78-7d1cbbe91cc2' title='Show/Hide data repr'><svg class='icon xr-icon-database'><use xlink:href='#icon-database'></use></svg></label><div class='xr-var-attrs'><dl class='xr-attrs'><dt><span>long_name :</span></dt><dd>time in UTC</dd><dt><span>standard_name :</span></dt><dd>time</dd><dt><span>tai_utc_difference :</span></dt><dd>37.0</dd><dt><span>leap_second :</span></dt><dd>0000-00-00T00:00:00Z</dd><dt><span>comment :</span></dt><dd>Time of measurement in seconds in the UTC time scale since 1 Jan 2000 00:00:00 UTC. [tai_utc_difference] is the difference between TAI and UTC reference time (seconds) for the first measurement of the data set. If a leap second occurs within the data set, the attribute leap_second is set to the UTC time at which the leap second occurs.</dd></dl></div><div class='xr-var-data'><pre>array([[&#x27;2023-04-26T11:02:35.487796736&#x27;, &#x27;2023-04-26T11:02:35.487796736&#x27;,\n",
       "        &#x27;2023-04-26T11:02:35.487796736&#x27;, ...,\n",
       "                                  &#x27;NaT&#x27;,                           &#x27;NaT&#x27;,\n",
       "                                  &#x27;NaT&#x27;],\n",
       "       [&#x27;2023-04-26T11:02:35.798311936&#x27;, &#x27;2023-04-26T11:02:35.798311936&#x27;,\n",
       "        &#x27;2023-04-26T11:02:35.798311936&#x27;, ...,\n",
       "                                  &#x27;NaT&#x27;,                           &#x27;NaT&#x27;,\n",
       "                                  &#x27;NaT&#x27;],\n",
       "       [&#x27;2023-04-26T11:02:36.108844032&#x27;, &#x27;2023-04-26T11:02:36.108844032&#x27;,\n",
       "        &#x27;2023-04-26T11:02:36.108844032&#x27;, ...,\n",
       "                                  &#x27;NaT&#x27;,                           &#x27;NaT&#x27;,\n",
       "                                  &#x27;NaT&#x27;],\n",
       "       ...,\n",
       "       [                          &#x27;NaT&#x27;,                           &#x27;NaT&#x27;,\n",
       "                                  &#x27;NaT&#x27;, ...,\n",
       "        &#x27;2023-04-26T11:04:04.591321984&#x27;, &#x27;2023-04-26T11:04:04.591321984&#x27;,\n",
       "        &#x27;2023-04-26T11:04:04.591321984&#x27;],\n",
       "       [                          &#x27;NaT&#x27;,                           &#x27;NaT&#x27;,\n",
       "                                  &#x27;NaT&#x27;, ...,\n",
       "        &#x27;2023-04-26T11:04:04.901669376&#x27;, &#x27;2023-04-26T11:04:04.901669376&#x27;,\n",
       "        &#x27;2023-04-26T11:04:04.901669376&#x27;],\n",
       "       [                          &#x27;NaT&#x27;,                           &#x27;NaT&#x27;,\n",
       "                                  &#x27;NaT&#x27;, ...,\n",
       "        &#x27;2023-04-26T11:04:05.211974400&#x27;, &#x27;2023-04-26T11:04:05.211974400&#x27;,\n",
       "        &#x27;2023-04-26T11:04:05.211974400&#x27;]], dtype=&#x27;datetime64[ns]&#x27;)</pre></div></li></ul></div></li><li class='xr-section-item'><input id='section-9c0adeac-361a-464b-9396-4a4f67bc3496' class='xr-section-summary-in' type='checkbox' disabled ><label for='section-9c0adeac-361a-464b-9396-4a4f67bc3496' class='xr-section-summary'  title='Expand/collapse section'>Indexes: <span>(0)</span></label><div class='xr-section-inline-details'></div><div class='xr-section-details'><ul class='xr-var-list'></ul></div></li><li class='xr-section-item'><input id='section-4d0ad649-43f4-488b-8a41-9edf1980c837' class='xr-section-summary-in' type='checkbox'  checked><label for='section-4d0ad649-43f4-488b-8a41-9edf1980c837' class='xr-section-summary' >Attributes: <span>(5)</span></label><div class='xr-section-inline-details'></div><div class='xr-section-details'><dl class='xr-attrs'><dt><span>l2_version :</span></dt><dd>V1.2.1</dd><dt><span>l3_version :</span></dt><dd>1.0</dd><dt><span>l2_file :</span></dt><dd>/home/jupyter-mrayson/data/SWOT/l2_karin_v1_0/cycle_502/SWOT_L2_LR_SSH_Expert_502_021_20230426T104139_20230426T113204_PGC0_02.nc</dd><dt><span>l3_file :</span></dt><dd>/home/jupyter-mrayson/data/SWOT/l3_karin_nadir_v1_0/cycle_502/SWOT_L3_LR_SSH_Expert_502_021_20230426T104139_20230426T113245_v1.0.nc</dd><dt><span>quality_flag :</span></dt><dd>good</dd></dl></div></li></ul></div></div>"
      ],
      "text/plain": [
       "<xarray.Dataset>\n",
       "Dimensions:             (num_lines: 290, num_pixels: 69)\n",
       "Coordinates:\n",
       "    latitude            (num_lines, num_pixels) float64 -15.99 -15.99 ... -11.01\n",
       "    longitude           (num_lines, num_pixels) float64 122.2 122.3 ... 124.3\n",
       "    latitude_nadir      (num_lines) float64 -16.08 -16.07 ... -10.94 -10.92\n",
       "    longitude_nadir     (num_lines) float64 122.9 122.9 122.9 ... 123.7 123.7\n",
       "Dimensions without coordinates: num_lines, num_pixels\n",
       "Data variables:\n",
       "    ssha_l3             (num_lines, num_pixels) float64 nan nan nan ... nan nan\n",
       "    ssha_l2             (num_lines, num_pixels) float64 nan nan nan ... nan nan\n",
       "    ssha_l2_l3_all      (num_lines, num_pixels) float64 nan nan nan ... nan nan\n",
       "    ssha_l2_l3_dynamic  (num_lines, num_pixels) float64 nan nan nan ... nan nan\n",
       "    time                (num_lines, num_pixels) datetime64[ns] 2023-04-26T11:...\n",
       "Attributes:\n",
       "    l2_version:    V1.2.1\n",
       "    l3_version:    1.0\n",
       "    l2_file:       /home/jupyter-mrayson/data/SWOT/l2_karin_v1_0/cycle_502/SW...\n",
       "    l3_file:       /home/jupyter-mrayson/data/SWOT/l3_karin_nadir_v1_0/cycle_...\n",
       "    quality_flag:  good"
      ]
     },
     "execution_count": 24,
     "metadata": {},
     "output_type": "execute_result"
    }
   ],
   "source": [
    "ds['ssha_l2'].attrs = ds['ssha_l3'].attrs\n",
    "ds['ssha_l2'].attrs['comment'] = \\\n",
    "    \"ds_l2['ssha_karin_2'] + ds_l2['height_cor_xover']\"\n",
    "\n",
    "ds['ssha_l2_l3_all'].attrs['comment'] = \\\n",
    "    \"ssha = ds_l2['ssh_karin_2']\\\n",
    "        + ds_l3['calibration']\\\n",
    "        - ds_l3['mss'] \\\n",
    "        - ds_l2['solid_earth_tide']\\\n",
    "        - ds_l3['ocean_tide']\\\n",
    "        - ds_l2['pole_tide']\\\n",
    "        - ds_l2['dac']\\\n",
    "    \"\n",
    "\n",
    "ds['ssha_l2_l3_dynamic'].attrs['comment'] = \\\n",
    "    \"ssha = ds_l2['ssh_karin_2']\\\n",
    "        + ds_l2['height_cor_xover']\\\n",
    "        - ds_l3['mss'] \\\n",
    "        - ds_l2['solid_earth_tide']\\\n",
    "        - ds_l3['ocean_tide']\\\n",
    "        - ds_l2['pole_tide']\\\n",
    "        - ds_l2['dac']\\\n",
    "    \"\n",
    "\n",
    "ds.attrs = dict(\n",
    "    l2_version = ds_l2.attrs['references'],\n",
    "    l3_version = ds_l3.attrs['product_version'],\n",
    "    l2_file = l2files[0],\n",
    "    l3_file = l3files[0],\n",
    "    quality_flag = flags,\n",
    ")\n",
    "ds"
   ]
  },
  {
   "cell_type": "code",
   "execution_count": null,
   "id": "fda12a09-4e10-4cbd-a286-14a5691d41fd",
   "metadata": {},
   "outputs": [],
   "source": []
  }
 ],
 "metadata": {
  "kernelspec": {
   "display_name": "Python 3 (ipykernel)",
   "language": "python",
   "name": "python3"
  },
  "language_info": {
   "codemirror_mode": {
    "name": "ipython",
    "version": 3
   },
   "file_extension": ".py",
   "mimetype": "text/x-python",
   "name": "python",
   "nbconvert_exporter": "python",
   "pygments_lexer": "ipython3",
   "version": "3.10.10"
  }
 },
 "nbformat": 4,
 "nbformat_minor": 5
}
