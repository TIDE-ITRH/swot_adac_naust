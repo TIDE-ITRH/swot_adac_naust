{
 "cells": [
  {
   "cell_type": "markdown",
   "id": "903210c6-1f13-47d3-abd6-c15eb4cd2f63",
   "metadata": {},
   "source": [
    "# Plot GHRSST night time scenes\n",
    "\n",
    "Use data on IMOS s3 bucket\n",
    "\n",
    "http://imos-data.s3-website-ap-southeast-2.amazonaws.com/?prefix=IMOS/SRS/SST/ghrsst/L3C-1d/ngt/snpp/2023/"
   ]
  },
  {
   "cell_type": "code",
   "execution_count": 1,
   "id": "12e325f3-b4d0-4496-a710-a0484d153111",
   "metadata": {},
   "outputs": [],
   "source": [
    "import xarray as xr\n",
    "import s3fs\n",
    "\n",
    "import cmocean # Oceanography colour maps\n",
    "import matplotlib.pyplot as plt\n",
    "import numpy as np"
   ]
  },
  {
   "cell_type": "code",
   "execution_count": 2,
   "id": "c6c3dda9-549b-4080-98de-dedcba89cab7",
   "metadata": {},
   "outputs": [],
   "source": [
    "from utils import plot_swot_basemap"
   ]
  },
  {
   "cell_type": "code",
   "execution_count": 3,
   "id": "0a5388e2-1d63-4a40-9e4c-5b6f6e2886e5",
   "metadata": {},
   "outputs": [],
   "source": [
    "plt.rcParams['font.size']=14\n",
    "plt.rcParams['axes.labelsize']='medium'"
   ]
  },
  {
   "cell_type": "code",
   "execution_count": 4,
   "id": "251b0c18-30ec-4b6e-9611-c1a9839b994d",
   "metadata": {},
   "outputs": [
    {
     "name": "stdout",
     "output_type": "stream",
     "text": [
      "imos-data/AIMS\n",
      "imos-data/Bureau_of_Meteorology\n",
      "imos-data/CSIRO\n",
      "imos-data/Deakin_University\n",
      "imos-data/Defence_Technology_Agency-New_Zealand\n",
      "imos-data/Department_of_Defence\n",
      "imos-data/Department_of_Environment_and_Science-Queensland\n",
      "imos-data/Department_of_Planning_and_Environment-New_South_Wales\n",
      "imos-data/Department_of_Transport-Western_Australia\n",
      "imos-data/Derwent_Estuary_Program\n",
      "imos-data/Flinders_University\n",
      "imos-data/Future_Reef_MAP\n",
      "imos-data/Gippsland-Ports-Victoria\n",
      "imos-data/IMOS\n",
      "imos-data/Macquarie_University\n",
      "imos-data/NSW-OEH\n",
      "imos-data/Pilbara_Ports_Authority\n",
      "imos-data/Southern_Cross_University\n",
      "imos-data/TERN\n",
      "imos-data/UNSW\n",
      "imos-data/UON\n",
      "imos-data/UWA\n",
      "imos-data/WAMSI\n",
      "imos-data/aodn.js\n",
      "imos-data/error.html\n",
      "imos-data/index.html\n",
      "imos-data/robots.txt\n"
     ]
    }
   ],
   "source": [
    "# Login to the s3 bucket and list the folders in the base directory of the imos-data/ bucket\n",
    "\n",
    "fs = s3fs.S3FileSystem(anon=True) # Note that we can login anonymously because this bucket allows it\n",
    "\n",
    "aodn = fs.ls('imos-data/')\n",
    "for item in aodn:\n",
    "    print(item)"
   ]
  },
  {
   "cell_type": "code",
   "execution_count": 5,
   "id": "bee4df1e-3595-444c-841b-5889ca31b8ac",
   "metadata": {},
   "outputs": [
    {
     "name": "stdout",
     "output_type": "stream",
     "text": [
      "imos-data/IMOS/SRS/SST/ghrsst/L3C-1d/ngt/snpp/2023/20230401152000-ABOM-L3C_GHRSST-SSTskin-VIIRS_NPP-1d_night.nc\n",
      "imos-data/IMOS/SRS/SST/ghrsst/L3C-1d/ngt/snpp/2023/20230402152000-ABOM-L3C_GHRSST-SSTskin-VIIRS_NPP-1d_night.nc\n",
      "imos-data/IMOS/SRS/SST/ghrsst/L3C-1d/ngt/snpp/2023/20230403152000-ABOM-L3C_GHRSST-SSTskin-VIIRS_NPP-1d_night.nc\n",
      "imos-data/IMOS/SRS/SST/ghrsst/L3C-1d/ngt/snpp/2023/20230404152000-ABOM-L3C_GHRSST-SSTskin-VIIRS_NPP-1d_night.nc\n",
      "imos-data/IMOS/SRS/SST/ghrsst/L3C-1d/ngt/snpp/2023/20230405152000-ABOM-L3C_GHRSST-SSTskin-VIIRS_NPP-1d_night.nc\n",
      "imos-data/IMOS/SRS/SST/ghrsst/L3C-1d/ngt/snpp/2023/20230406152000-ABOM-L3C_GHRSST-SSTskin-VIIRS_NPP-1d_night.nc\n",
      "imos-data/IMOS/SRS/SST/ghrsst/L3C-1d/ngt/snpp/2023/20230407152000-ABOM-L3C_GHRSST-SSTskin-VIIRS_NPP-1d_night.nc\n",
      "imos-data/IMOS/SRS/SST/ghrsst/L3C-1d/ngt/snpp/2023/20230408152000-ABOM-L3C_GHRSST-SSTskin-VIIRS_NPP-1d_night.nc\n",
      "imos-data/IMOS/SRS/SST/ghrsst/L3C-1d/ngt/snpp/2023/20230409152000-ABOM-L3C_GHRSST-SSTskin-VIIRS_NPP-1d_night.nc\n",
      "imos-data/IMOS/SRS/SST/ghrsst/L3C-1d/ngt/snpp/2023/20230410152000-ABOM-L3C_GHRSST-SSTskin-VIIRS_NPP-1d_night.nc\n",
      "imos-data/IMOS/SRS/SST/ghrsst/L3C-1d/ngt/snpp/2023/20230411152000-ABOM-L3C_GHRSST-SSTskin-VIIRS_NPP-1d_night.nc\n",
      "imos-data/IMOS/SRS/SST/ghrsst/L3C-1d/ngt/snpp/2023/20230412152000-ABOM-L3C_GHRSST-SSTskin-VIIRS_NPP-1d_night.nc\n",
      "imos-data/IMOS/SRS/SST/ghrsst/L3C-1d/ngt/snpp/2023/20230413152000-ABOM-L3C_GHRSST-SSTskin-VIIRS_NPP-1d_night.nc\n",
      "imos-data/IMOS/SRS/SST/ghrsst/L3C-1d/ngt/snpp/2023/20230414152000-ABOM-L3C_GHRSST-SSTskin-VIIRS_NPP-1d_night.nc\n",
      "imos-data/IMOS/SRS/SST/ghrsst/L3C-1d/ngt/snpp/2023/20230415152000-ABOM-L3C_GHRSST-SSTskin-VIIRS_NPP-1d_night.nc\n",
      "imos-data/IMOS/SRS/SST/ghrsst/L3C-1d/ngt/snpp/2023/20230416152000-ABOM-L3C_GHRSST-SSTskin-VIIRS_NPP-1d_night.nc\n",
      "imos-data/IMOS/SRS/SST/ghrsst/L3C-1d/ngt/snpp/2023/20230417152000-ABOM-L3C_GHRSST-SSTskin-VIIRS_NPP-1d_night.nc\n",
      "imos-data/IMOS/SRS/SST/ghrsst/L3C-1d/ngt/snpp/2023/20230418152000-ABOM-L3C_GHRSST-SSTskin-VIIRS_NPP-1d_night.nc\n",
      "imos-data/IMOS/SRS/SST/ghrsst/L3C-1d/ngt/snpp/2023/20230419152000-ABOM-L3C_GHRSST-SSTskin-VIIRS_NPP-1d_night.nc\n",
      "imos-data/IMOS/SRS/SST/ghrsst/L3C-1d/ngt/snpp/2023/20230420152000-ABOM-L3C_GHRSST-SSTskin-VIIRS_NPP-1d_night.nc\n",
      "imos-data/IMOS/SRS/SST/ghrsst/L3C-1d/ngt/snpp/2023/20230421152000-ABOM-L3C_GHRSST-SSTskin-VIIRS_NPP-1d_night.nc\n",
      "imos-data/IMOS/SRS/SST/ghrsst/L3C-1d/ngt/snpp/2023/20230422152000-ABOM-L3C_GHRSST-SSTskin-VIIRS_NPP-1d_night.nc\n",
      "imos-data/IMOS/SRS/SST/ghrsst/L3C-1d/ngt/snpp/2023/20230423152000-ABOM-L3C_GHRSST-SSTskin-VIIRS_NPP-1d_night.nc\n",
      "imos-data/IMOS/SRS/SST/ghrsst/L3C-1d/ngt/snpp/2023/20230424152000-ABOM-L3C_GHRSST-SSTskin-VIIRS_NPP-1d_night.nc\n",
      "imos-data/IMOS/SRS/SST/ghrsst/L3C-1d/ngt/snpp/2023/20230425152000-ABOM-L3C_GHRSST-SSTskin-VIIRS_NPP-1d_night.nc\n",
      "imos-data/IMOS/SRS/SST/ghrsst/L3C-1d/ngt/snpp/2023/20230426152000-ABOM-L3C_GHRSST-SSTskin-VIIRS_NPP-1d_night.nc\n",
      "imos-data/IMOS/SRS/SST/ghrsst/L3C-1d/ngt/snpp/2023/20230427152000-ABOM-L3C_GHRSST-SSTskin-VIIRS_NPP-1d_night.nc\n",
      "imos-data/IMOS/SRS/SST/ghrsst/L3C-1d/ngt/snpp/2023/20230428152000-ABOM-L3C_GHRSST-SSTskin-VIIRS_NPP-1d_night.nc\n",
      "imos-data/IMOS/SRS/SST/ghrsst/L3C-1d/ngt/snpp/2023/20230429152000-ABOM-L3C_GHRSST-SSTskin-VIIRS_NPP-1d_night.nc\n",
      "imos-data/IMOS/SRS/SST/ghrsst/L3C-1d/ngt/snpp/2023/20230430152000-ABOM-L3C_GHRSST-SSTskin-VIIRS_NPP-1d_night.nc\n",
      "imos-data/IMOS/SRS/SST/ghrsst/L3C-1d/ngt/snpp/2023/20230501152000-ABOM-L3C_GHRSST-SSTskin-VIIRS_NPP-1d_night.nc\n",
      "imos-data/IMOS/SRS/SST/ghrsst/L3C-1d/ngt/snpp/2023/20230502152000-ABOM-L3C_GHRSST-SSTskin-VIIRS_NPP-1d_night.nc\n",
      "imos-data/IMOS/SRS/SST/ghrsst/L3C-1d/ngt/snpp/2023/20230503152000-ABOM-L3C_GHRSST-SSTskin-VIIRS_NPP-1d_night.nc\n",
      "imos-data/IMOS/SRS/SST/ghrsst/L3C-1d/ngt/snpp/2023/20230504152000-ABOM-L3C_GHRSST-SSTskin-VIIRS_NPP-1d_night.nc\n",
      "imos-data/IMOS/SRS/SST/ghrsst/L3C-1d/ngt/snpp/2023/20230505152000-ABOM-L3C_GHRSST-SSTskin-VIIRS_NPP-1d_night.nc\n",
      "imos-data/IMOS/SRS/SST/ghrsst/L3C-1d/ngt/snpp/2023/20230506152000-ABOM-L3C_GHRSST-SSTskin-VIIRS_NPP-1d_night.nc\n",
      "imos-data/IMOS/SRS/SST/ghrsst/L3C-1d/ngt/snpp/2023/20230507152000-ABOM-L3C_GHRSST-SSTskin-VIIRS_NPP-1d_night.nc\n",
      "imos-data/IMOS/SRS/SST/ghrsst/L3C-1d/ngt/snpp/2023/20230508152000-ABOM-L3C_GHRSST-SSTskin-VIIRS_NPP-1d_night.nc\n",
      "imos-data/IMOS/SRS/SST/ghrsst/L3C-1d/ngt/snpp/2023/20230509152000-ABOM-L3C_GHRSST-SSTskin-VIIRS_NPP-1d_night.nc\n",
      "imos-data/IMOS/SRS/SST/ghrsst/L3C-1d/ngt/snpp/2023/20230510152000-ABOM-L3C_GHRSST-SSTskin-VIIRS_NPP-1d_night.nc\n",
      "imos-data/IMOS/SRS/SST/ghrsst/L3C-1d/ngt/snpp/2023/20230511152000-ABOM-L3C_GHRSST-SSTskin-VIIRS_NPP-1d_night.nc\n",
      "imos-data/IMOS/SRS/SST/ghrsst/L3C-1d/ngt/snpp/2023/20230512152000-ABOM-L3C_GHRSST-SSTskin-VIIRS_NPP-1d_night.nc\n",
      "imos-data/IMOS/SRS/SST/ghrsst/L3C-1d/ngt/snpp/2023/20230513152000-ABOM-L3C_GHRSST-SSTskin-VIIRS_NPP-1d_night.nc\n",
      "imos-data/IMOS/SRS/SST/ghrsst/L3C-1d/ngt/snpp/2023/20230514152000-ABOM-L3C_GHRSST-SSTskin-VIIRS_NPP-1d_night.nc\n",
      "imos-data/IMOS/SRS/SST/ghrsst/L3C-1d/ngt/snpp/2023/20230515152000-ABOM-L3C_GHRSST-SSTskin-VIIRS_NPP-1d_night.nc\n",
      "imos-data/IMOS/SRS/SST/ghrsst/L3C-1d/ngt/snpp/2023/20230516152000-ABOM-L3C_GHRSST-SSTskin-VIIRS_NPP-1d_night.nc\n",
      "imos-data/IMOS/SRS/SST/ghrsst/L3C-1d/ngt/snpp/2023/20230517152000-ABOM-L3C_GHRSST-SSTskin-VIIRS_NPP-1d_night.nc\n",
      "imos-data/IMOS/SRS/SST/ghrsst/L3C-1d/ngt/snpp/2023/20230518152000-ABOM-L3C_GHRSST-SSTskin-VIIRS_NPP-1d_night.nc\n",
      "imos-data/IMOS/SRS/SST/ghrsst/L3C-1d/ngt/snpp/2023/20230519152000-ABOM-L3C_GHRSST-SSTskin-VIIRS_NPP-1d_night.nc\n",
      "imos-data/IMOS/SRS/SST/ghrsst/L3C-1d/ngt/snpp/2023/20230520152000-ABOM-L3C_GHRSST-SSTskin-VIIRS_NPP-1d_night.nc\n",
      "imos-data/IMOS/SRS/SST/ghrsst/L3C-1d/ngt/snpp/2023/20230521152000-ABOM-L3C_GHRSST-SSTskin-VIIRS_NPP-1d_night.nc\n",
      "imos-data/IMOS/SRS/SST/ghrsst/L3C-1d/ngt/snpp/2023/20230522152000-ABOM-L3C_GHRSST-SSTskin-VIIRS_NPP-1d_night.nc\n",
      "imos-data/IMOS/SRS/SST/ghrsst/L3C-1d/ngt/snpp/2023/20230523152000-ABOM-L3C_GHRSST-SSTskin-VIIRS_NPP-1d_night.nc\n",
      "imos-data/IMOS/SRS/SST/ghrsst/L3C-1d/ngt/snpp/2023/20230524152000-ABOM-L3C_GHRSST-SSTskin-VIIRS_NPP-1d_night.nc\n",
      "imos-data/IMOS/SRS/SST/ghrsst/L3C-1d/ngt/snpp/2023/20230525152000-ABOM-L3C_GHRSST-SSTskin-VIIRS_NPP-1d_night.nc\n",
      "imos-data/IMOS/SRS/SST/ghrsst/L3C-1d/ngt/snpp/2023/20230526152000-ABOM-L3C_GHRSST-SSTskin-VIIRS_NPP-1d_night.nc\n",
      "imos-data/IMOS/SRS/SST/ghrsst/L3C-1d/ngt/snpp/2023/20230527152000-ABOM-L3C_GHRSST-SSTskin-VIIRS_NPP-1d_night.nc\n",
      "imos-data/IMOS/SRS/SST/ghrsst/L3C-1d/ngt/snpp/2023/20230528152000-ABOM-L3C_GHRSST-SSTskin-VIIRS_NPP-1d_night.nc\n",
      "imos-data/IMOS/SRS/SST/ghrsst/L3C-1d/ngt/snpp/2023/20230529152000-ABOM-L3C_GHRSST-SSTskin-VIIRS_NPP-1d_night.nc\n",
      "imos-data/IMOS/SRS/SST/ghrsst/L3C-1d/ngt/snpp/2023/20230530152000-ABOM-L3C_GHRSST-SSTskin-VIIRS_NPP-1d_night.nc\n",
      "imos-data/IMOS/SRS/SST/ghrsst/L3C-1d/ngt/snpp/2023/20230531152000-ABOM-L3C_GHRSST-SSTskin-VIIRS_NPP-1d_night.nc\n",
      "imos-data/IMOS/SRS/SST/ghrsst/L3C-1d/ngt/snpp/2023/20230601152000-ABOM-L3C_GHRSST-SSTskin-VIIRS_NPP-1d_night.nc\n",
      "imos-data/IMOS/SRS/SST/ghrsst/L3C-1d/ngt/snpp/2023/20230602152000-ABOM-L3C_GHRSST-SSTskin-VIIRS_NPP-1d_night.nc\n",
      "imos-data/IMOS/SRS/SST/ghrsst/L3C-1d/ngt/snpp/2023/20230603152000-ABOM-L3C_GHRSST-SSTskin-VIIRS_NPP-1d_night.nc\n",
      "imos-data/IMOS/SRS/SST/ghrsst/L3C-1d/ngt/snpp/2023/20230604152000-ABOM-L3C_GHRSST-SSTskin-VIIRS_NPP-1d_night.nc\n",
      "imos-data/IMOS/SRS/SST/ghrsst/L3C-1d/ngt/snpp/2023/20230605152000-ABOM-L3C_GHRSST-SSTskin-VIIRS_NPP-1d_night.nc\n",
      "imos-data/IMOS/SRS/SST/ghrsst/L3C-1d/ngt/snpp/2023/20230606152000-ABOM-L3C_GHRSST-SSTskin-VIIRS_NPP-1d_night.nc\n",
      "imos-data/IMOS/SRS/SST/ghrsst/L3C-1d/ngt/snpp/2023/20230607152000-ABOM-L3C_GHRSST-SSTskin-VIIRS_NPP-1d_night.nc\n",
      "imos-data/IMOS/SRS/SST/ghrsst/L3C-1d/ngt/snpp/2023/20230608152000-ABOM-L3C_GHRSST-SSTskin-VIIRS_NPP-1d_night.nc\n",
      "imos-data/IMOS/SRS/SST/ghrsst/L3C-1d/ngt/snpp/2023/20230609152000-ABOM-L3C_GHRSST-SSTskin-VIIRS_NPP-1d_night.nc\n",
      "imos-data/IMOS/SRS/SST/ghrsst/L3C-1d/ngt/snpp/2023/20230610152000-ABOM-L3C_GHRSST-SSTskin-VIIRS_NPP-1d_night.nc\n",
      "imos-data/IMOS/SRS/SST/ghrsst/L3C-1d/ngt/snpp/2023/20230611152000-ABOM-L3C_GHRSST-SSTskin-VIIRS_NPP-1d_night.nc\n",
      "imos-data/IMOS/SRS/SST/ghrsst/L3C-1d/ngt/snpp/2023/20230612152000-ABOM-L3C_GHRSST-SSTskin-VIIRS_NPP-1d_night.nc\n",
      "imos-data/IMOS/SRS/SST/ghrsst/L3C-1d/ngt/snpp/2023/20230613152000-ABOM-L3C_GHRSST-SSTskin-VIIRS_NPP-1d_night.nc\n",
      "imos-data/IMOS/SRS/SST/ghrsst/L3C-1d/ngt/snpp/2023/20230614152000-ABOM-L3C_GHRSST-SSTskin-VIIRS_NPP-1d_night.nc\n",
      "imos-data/IMOS/SRS/SST/ghrsst/L3C-1d/ngt/snpp/2023/20230615152000-ABOM-L3C_GHRSST-SSTskin-VIIRS_NPP-1d_night.nc\n",
      "imos-data/IMOS/SRS/SST/ghrsst/L3C-1d/ngt/snpp/2023/20230616152000-ABOM-L3C_GHRSST-SSTskin-VIIRS_NPP-1d_night.nc\n",
      "imos-data/IMOS/SRS/SST/ghrsst/L3C-1d/ngt/snpp/2023/20230617152000-ABOM-L3C_GHRSST-SSTskin-VIIRS_NPP-1d_night.nc\n",
      "imos-data/IMOS/SRS/SST/ghrsst/L3C-1d/ngt/snpp/2023/20230618152000-ABOM-L3C_GHRSST-SSTskin-VIIRS_NPP-1d_night.nc\n",
      "imos-data/IMOS/SRS/SST/ghrsst/L3C-1d/ngt/snpp/2023/20230619152000-ABOM-L3C_GHRSST-SSTskin-VIIRS_NPP-1d_night.nc\n",
      "imos-data/IMOS/SRS/SST/ghrsst/L3C-1d/ngt/snpp/2023/20230620152000-ABOM-L3C_GHRSST-SSTskin-VIIRS_NPP-1d_night.nc\n",
      "imos-data/IMOS/SRS/SST/ghrsst/L3C-1d/ngt/snpp/2023/20230621152000-ABOM-L3C_GHRSST-SSTskin-VIIRS_NPP-1d_night.nc\n",
      "imos-data/IMOS/SRS/SST/ghrsst/L3C-1d/ngt/snpp/2023/20230622152000-ABOM-L3C_GHRSST-SSTskin-VIIRS_NPP-1d_night.nc\n",
      "imos-data/IMOS/SRS/SST/ghrsst/L3C-1d/ngt/snpp/2023/20230623152000-ABOM-L3C_GHRSST-SSTskin-VIIRS_NPP-1d_night.nc\n",
      "imos-data/IMOS/SRS/SST/ghrsst/L3C-1d/ngt/snpp/2023/20230624152000-ABOM-L3C_GHRSST-SSTskin-VIIRS_NPP-1d_night.nc\n",
      "imos-data/IMOS/SRS/SST/ghrsst/L3C-1d/ngt/snpp/2023/20230625152000-ABOM-L3C_GHRSST-SSTskin-VIIRS_NPP-1d_night.nc\n",
      "imos-data/IMOS/SRS/SST/ghrsst/L3C-1d/ngt/snpp/2023/20230626152000-ABOM-L3C_GHRSST-SSTskin-VIIRS_NPP-1d_night.nc\n",
      "imos-data/IMOS/SRS/SST/ghrsst/L3C-1d/ngt/snpp/2023/20230627152000-ABOM-L3C_GHRSST-SSTskin-VIIRS_NPP-1d_night.nc\n",
      "imos-data/IMOS/SRS/SST/ghrsst/L3C-1d/ngt/snpp/2023/20230628152000-ABOM-L3C_GHRSST-SSTskin-VIIRS_NPP-1d_night.nc\n",
      "imos-data/IMOS/SRS/SST/ghrsst/L3C-1d/ngt/snpp/2023/20230629152000-ABOM-L3C_GHRSST-SSTskin-VIIRS_NPP-1d_night.nc\n",
      "imos-data/IMOS/SRS/SST/ghrsst/L3C-1d/ngt/snpp/2023/20230630152000-ABOM-L3C_GHRSST-SSTskin-VIIRS_NPP-1d_night.nc\n"
     ]
    }
   ],
   "source": [
    "timestr ='20230[456]'\n",
    "aodn = fs.glob('imos-data/IMOS/SRS/SST/ghrsst/L3C-1d/ngt/snpp/2023/{}*.nc'.format(timestr))\n",
    "for item in aodn:\n",
    "    print(item)\n",
    "\n"
   ]
  },
  {
   "cell_type": "code",
   "execution_count": null,
   "id": "b5c8d4f0-fa76-43b6-a2b2-d9a91eeaea3a",
   "metadata": {},
   "outputs": [],
   "source": [
    "def plot_scene(ncfile, timestr):\n",
    "    print(timestr)\n",
    "    # Load the data set using xarray and s3fs\n",
    "    fileobj = fs.open(ncfile)\n",
    "    sst = xr.open_dataset(fileobj)\n",
    "    x1,x2=121,125\n",
    "    y1,y2=-15.5,-12\n",
    "    \n",
    "    mysst = sst.sel(lon=slice(x1,x2), lat=slice(y2,y1))\n",
    "    \n",
    "    dx, dy = np.gradient(mysst['sea_surface_temperature'].squeeze())\n",
    "    x,y = mysst.lon, mysst.lat\n",
    "\n",
    "    plt.figure()\n",
    "    ax=plt.subplot(111)\n",
    "    mysst['sea_surface_temperature'].plot(cmap='cmo.thermal',vmin=26+273, vmax=29+273,cbar_kwargs={\"shrink\": 0.3,})\n",
    "    \n",
    "    plt.pcolormesh(x,y,np.abs(dx+1j*dy), vmin=0, vmax=0.1, cmap='bone_r', alpha=0.5)\n",
    "    c=plot_swot_basemap(ax, (x1,x2), (y1,y2))\n",
    "    plt.tight_layout()\n",
    "    plt.savefig('../FIGURES/GHRSST_1km_{}.png'.format(timestr), dpi=150)"
   ]
  },
  {
   "cell_type": "code",
   "execution_count": null,
   "id": "48363f8b-7a86-4de0-94dc-97c9c334176a",
   "metadata": {},
   "outputs": [],
   "source": [
    "for ncfile in aodn:\n",
    "    timestr=ncfile.split('/')[-1][0:8]\n",
    "    print(timestr)\n",
    "    plot_scene(ncfile, timestr)"
   ]
  },
  {
   "cell_type": "code",
   "execution_count": null,
   "id": "cdd665a8-99de-4af4-bef1-b599aa9855e0",
   "metadata": {},
   "outputs": [],
   "source": []
  },
  {
   "cell_type": "code",
   "execution_count": null,
   "id": "5bde991f-f1a9-4686-a439-3477a24a8136",
   "metadata": {},
   "outputs": [],
   "source": [
    "mysst['sea_surface_temperature'].values.shape"
   ]
  },
  {
   "cell_type": "code",
   "execution_count": null,
   "id": "55107bd2-f2c0-4c26-bbb3-e4efa94ba563",
   "metadata": {},
   "outputs": [],
   "source": []
  }
 ],
 "metadata": {
  "kernelspec": {
   "display_name": "Python 3 (ipykernel)",
   "language": "python",
   "name": "python3"
  },
  "language_info": {
   "codemirror_mode": {
    "name": "ipython",
    "version": 3
   },
   "file_extension": ".py",
   "mimetype": "text/x-python",
   "name": "python",
   "nbconvert_exporter": "python",
   "pygments_lexer": "ipython3",
   "version": "3.10.10"
  }
 },
 "nbformat": 4,
 "nbformat_minor": 5
}
