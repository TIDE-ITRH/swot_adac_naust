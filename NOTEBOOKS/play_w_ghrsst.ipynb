{
 "cells": [
  {
   "cell_type": "markdown",
   "id": "903210c6-1f13-47d3-abd6-c15eb4cd2f63",
   "metadata": {},
   "source": [
    "# Plot GHRSST night time scenes\n",
    "\n",
    "Use data on IMOS s3 bucket\n",
    "\n",
    "http://imos-data.s3-website-ap-southeast-2.amazonaws.com/?prefix=IMOS/SRS/SST/ghrsst/L3C-1d/ngt/snpp/2023/"
   ]
  },
  {
   "cell_type": "code",
   "execution_count": null,
   "id": "12e325f3-b4d0-4496-a710-a0484d153111",
   "metadata": {},
   "outputs": [],
   "source": [
    "import xarray as xr\n",
    "import s3fs\n",
    "\n",
    "import cmocean # Oceanography colour maps\n",
    "import matplotlib.pyplot as plt\n",
    "import numpy as np"
   ]
  },
  {
   "cell_type": "code",
   "execution_count": null,
   "id": "c6c3dda9-549b-4080-98de-dedcba89cab7",
   "metadata": {},
   "outputs": [],
   "source": [
    "from utils import plot_swot_basemap"
   ]
  },
  {
   "cell_type": "code",
   "execution_count": null,
   "id": "0a5388e2-1d63-4a40-9e4c-5b6f6e2886e5",
   "metadata": {},
   "outputs": [],
   "source": [
    "plt.rcParams['font.size']=14\n",
    "plt.rcParams['axes.labelsize']='medium'"
   ]
  },
  {
   "cell_type": "code",
   "execution_count": null,
   "id": "251b0c18-30ec-4b6e-9611-c1a9839b994d",
   "metadata": {},
   "outputs": [],
   "source": [
    "# Login to the s3 bucket and list the folders in the base directory of the imos-data/ bucket\n",
    "\n",
    "fs = s3fs.S3FileSystem(anon=True) # Note that we can login anonymously because this bucket allows it\n",
    "\n",
    "aodn = fs.ls('imos-data/')\n",
    "for item in aodn:\n",
    "    print(item)"
   ]
  },
  {
   "cell_type": "code",
   "execution_count": null,
   "id": "bee4df1e-3595-444c-841b-5889ca31b8ac",
   "metadata": {},
   "outputs": [],
   "source": [
    "timestr ='20230[456]'\n",
    "aodn = fs.glob('imos-data/IMOS/SRS/SST/ghrsst/L3C-1d/ngt/snpp/2023/{}*.nc'.format(timestr))\n",
    "for item in aodn:\n",
    "    print(item)\n",
    "\n"
   ]
  },
  {
   "cell_type": "code",
   "execution_count": null,
   "id": "b5c8d4f0-fa76-43b6-a2b2-d9a91eeaea3a",
   "metadata": {},
   "outputs": [],
   "source": [
    "def plot_scene(ncfile, timestr):\n",
    "    print(timestr)\n",
    "    # Load the data set using xarray and s3fs\n",
    "    fileobj = fs.open(ncfile)\n",
    "    sst = xr.open_dataset(fileobj)\n",
    "    x1,x2=121,125\n",
    "    y1,y2=-15.5,-12\n",
    "    \n",
    "    mysst = sst.sel(lon=slice(x1,x2), lat=slice(y2,y1))\n",
    "    \n",
    "    dx, dy = np.gradient(mysst['sea_surface_temperature'].squeeze())\n",
    "    x,y = mysst.lon, mysst.lat\n",
    "\n",
    "    plt.figure()\n",
    "    ax=plt.subplot(111)\n",
    "    mysst['sea_surface_temperature'].plot(cmap='cmo.thermal',vmin=26+273, vmax=29+273,cbar_kwargs={\"shrink\": 0.3,})\n",
    "    \n",
    "    plt.pcolormesh(x,y,np.abs(dx+1j*dy), vmin=0, vmax=0.1, cmap='bone_r', alpha=0.5)\n",
    "    c=plot_swot_basemap(ax, (x1,x2), (y1,y2))\n",
    "    plt.tight_layout()\n",
    "    plt.savefig('../FIGURES/GHRSST_1km_{}.png'.format(timestr), dpi=150)"
   ]
  },
  {
   "cell_type": "code",
   "execution_count": null,
   "id": "48363f8b-7a86-4de0-94dc-97c9c334176a",
   "metadata": {},
   "outputs": [],
   "source": [
    "for ncfile in aodn:\n",
    "    timestr=ncfile.split('/')[-1][0:8]\n",
    "    print(timestr)\n",
    "    plot_scene(ncfile, timestr)"
   ]
  },
  {
   "cell_type": "code",
   "execution_count": null,
   "id": "cdd665a8-99de-4af4-bef1-b599aa9855e0",
   "metadata": {},
   "outputs": [],
   "source": []
  },
  {
   "cell_type": "code",
   "execution_count": null,
   "id": "5bde991f-f1a9-4686-a439-3477a24a8136",
   "metadata": {},
   "outputs": [],
   "source": [
    "mysst['sea_surface_temperature'].values.shape"
   ]
  },
  {
   "cell_type": "code",
   "execution_count": null,
   "id": "55107bd2-f2c0-4c26-bbb3-e4efa94ba563",
   "metadata": {},
   "outputs": [],
   "source": []
  }
 ],
 "metadata": {
  "kernelspec": {
   "display_name": "Python 3 (ipykernel)",
   "language": "python",
   "name": "python3"
  },
  "language_info": {
   "codemirror_mode": {
    "name": "ipython",
    "version": 3
   },
   "file_extension": ".py",
   "mimetype": "text/x-python",
   "name": "python",
   "nbconvert_exporter": "python",
   "pygments_lexer": "ipython3",
   "version": "3.10.10"
  }
 },
 "nbformat": 4,
 "nbformat_minor": 5
}
