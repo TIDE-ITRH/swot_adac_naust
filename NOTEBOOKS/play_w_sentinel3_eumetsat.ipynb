{
 "cells": [
  {
   "cell_type": "markdown",
   "id": "95254118-c5f3-43e2-917a-33c32f9ff269",
   "metadata": {},
   "source": [
    "https://user.eumetsat.int/resources/user-guides/getting-started-using-data\n",
    "\n",
    "https://gitlab.eumetsat.int/eumetlab/data-services/eumdac_data_store/-/blob/master/4_EUMDAC-Cookbook.ipynb"
   ]
  },
  {
   "cell_type": "code",
   "execution_count": 1,
   "id": "c273ceca-f53d-4c88-977d-576d3cb47d12",
   "metadata": {},
   "outputs": [],
   "source": [
    "# !pip install eumdac"
   ]
  },
  {
   "cell_type": "code",
   "execution_count": 3,
   "id": "b23297cb-5f82-4a4b-bade-bf53fc6dcd29",
   "metadata": {},
   "outputs": [],
   "source": [
    " # Import the library EUMDAC\n",
    "import eumdac\n",
    "import requests"
   ]
  },
  {
   "cell_type": "code",
   "execution_count": 4,
   "id": "0c9d8aca-5142-455d-b4b4-602dfda6c2e4",
   "metadata": {},
   "outputs": [],
   "source": [
    " # Insert your personal key and secret into the single quotes\n",
    "\n",
    "consumer_key = 'CONSUMER-KEY'\n",
    "consumer_secret = 'CONSUMER-SECRET'\n",
    "\n",
    "credentials = (consumer_key, consumer_secret)\n",
    "\n",
    "token = eumdac.AccessToken(credentials)"
   ]
  },
  {
   "cell_type": "code",
   "execution_count": 7,
   "id": "fd43624e-3d92-4ec4-969e-85d04249375f",
   "metadata": {},
   "outputs": [
    {
     "name": "stdout",
     "output_type": "stream",
     "text": [
      "Error when tryng the request to the server: '401 Client Error:  for url: https://api.eumetsat.int/token'\n"
     ]
    }
   ],
   "source": [
    "try:\n",
    "    print(f\"This token '{token}' expires {token.expiration}\")\n",
    "except requests.exceptions.HTTPError as error:\n",
    "    print(f\"Error when tryng the request to the server: '{error}'\")"
   ]
  },
  {
   "cell_type": "code",
   "execution_count": 5,
   "id": "b3aef9de-f732-4e7e-b34f-20394a825acc",
   "metadata": {},
   "outputs": [],
   "source": [
    " # Retrieve how many collection objects are available from DataStore\n",
    "datastore = eumdac.DataStore(token)"
   ]
  },
  {
   "cell_type": "code",
   "execution_count": null,
   "id": "75aa446e-f472-4c6d-84cb-4ca3247a8331",
   "metadata": {},
   "outputs": [],
   "source": []
  }
 ],
 "metadata": {
  "kernelspec": {
   "display_name": "Python 3 (ipykernel)",
   "language": "python",
   "name": "python3"
  },
  "language_info": {
   "codemirror_mode": {
    "name": "ipython",
    "version": 3
   },
   "file_extension": ".py",
   "mimetype": "text/x-python",
   "name": "python",
   "nbconvert_exporter": "python",
   "pygments_lexer": "ipython3",
   "version": "3.10.10"
  }
 },
 "nbformat": 4,
 "nbformat_minor": 5
}
